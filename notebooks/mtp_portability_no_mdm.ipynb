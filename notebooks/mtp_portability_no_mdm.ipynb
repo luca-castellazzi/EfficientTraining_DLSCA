{
 "cells": [
  {
   "cell_type": "markdown",
   "id": "a14f209e-3f84-487f-8ebc-5fb54f64a3b4",
   "metadata": {
    "tags": []
   },
   "source": [
    "# *Mind the Portability* \"Portability No-MDM\" Hyperparameter Tuning Reproduction"
   ]
  },
  {
   "cell_type": "markdown",
   "id": "44202976-51cf-4b50-9390-40b91ede48a5",
   "metadata": {},
   "source": [
    "This notebook replicated the Hyperparameter Tuning process used in the paper \"Mind the Portability\".\\\n",
    "In particular, the case \"Portability No-MDM\" is considered: the model is trained with traces from Device_A, validated with traces from Device_B and tested against Device_C.\n",
    "\n",
    "The fixed parameters (e.g. number of epochs, batch_size, ...) and the network structure are taken from the paper.\\\n",
    "Also the number of experiment for GE computation is the one used in the paper."
   ]
  },
  {
   "cell_type": "code",
   "execution_count": 1,
   "id": "7ecd953b-d94c-4c64-82cd-a194e77b03e7",
   "metadata": {},
   "outputs": [],
   "source": [
    "# Basic\n",
    "import random\n",
    "import numpy as np\n",
    "from tqdm import tqdm\n",
    "import matplotlib.pyplot as plt\n",
    "from tensorflow.keras import Sequential\n",
    "from tensorflow.keras.layers import Dense\n",
    "from tensorflow.keras.optimizers import RMSprop\n",
    "\n",
    "# Custom\n",
    "import sys\n",
    "sys.path.insert(0, '../src/utils')\n",
    "from data_loader import DataLoader\n",
    "import aes\n",
    "import constants\n",
    "import results\n",
    "\n",
    "\n",
    "# Suppress TensorFlow messages\n",
    "import os\n",
    "os.environ['TF_CPP_MIN_LOG_LEVEL'] = '1' # 1 for INFO, 2 for INFO & WARNINGs, 3 for INFO & WARNINGs & ERRORs"
   ]
  },
  {
   "cell_type": "code",
   "execution_count": 2,
   "id": "8bf1797b-fcbf-46b3-a963-aaf5a68ea11a",
   "metadata": {},
   "outputs": [],
   "source": [
    "# \"Mind the Portability\" fixed papameters\n",
    "EPOCHS = 50\n",
    "GE_EXPS = 100\n",
    "BATCH_SIZE = 256\n",
    "POSSIBLE_LAYERS = [1, 2, 3, 4]\n",
    "POSSIBLE_NEURONS = [100, 200, 300, 400, 500, 600, 700, 800, 900, 1000]\n",
    "TARGET = 'SBOX_OUT'\n",
    "METRIC = 'acc'\n",
    "\n",
    "# Custom parameters\n",
    "BYTE_IDX = 5\n",
    "N_TOT_TRACES = 50000\n",
    "TRAIN_CONFIG = ['D1-K5']\n",
    "VAL_CONFIG = ['D2-K8']\n",
    "TEST_CONFIG = ['D3-K0']\n",
    "\n",
    "MTP_RES_ROOT = '/prj/side_channel/Pinata/results/MTP_Reproduction/portability_no_mdm'\n",
    "MTP_GE_PATH = MTP_RES_ROOT + f'/ge.npy'\n",
    "MTP_GE_PLOT_PATH = MTP_RES_ROOT + f'/ge.png'"
   ]
  },
  {
   "cell_type": "code",
   "execution_count": 3,
   "id": "919adef7-4c4c-4f40-80d2-090e64a8d390",
   "metadata": {},
   "outputs": [],
   "source": [
    "def build_model(layers, neurons):\n",
    "\n",
    "    # The total amount of layers of the network is (layers + 1)\n",
    "\n",
    "    model = Sequential()\n",
    "\n",
    "    model.add(\n",
    "        Dense(neurons, activation='relu', input_shape=(constants.TRACE_LEN,))\n",
    "    )\n",
    "\n",
    "    for _ in range(layers - 1):\n",
    "        model.add(\n",
    "            Dense(neurons, activation='relu')\n",
    "        )\n",
    "\n",
    "    model.add(\n",
    "        Dense(256, activation='softmax')\n",
    "    )\n",
    "\n",
    "    model.compile(\n",
    "        optimizer=RMSprop(learning_rate=0.001),\n",
    "        loss='categorical_crossentropy',\n",
    "        metrics=['accuracy']\n",
    "    )\n",
    "\n",
    "    return model\n"
   ]
  },
  {
   "cell_type": "code",
   "execution_count": 4,
   "id": "8d786ac5-b2c4-49ca-8339-f11fb5bd20f9",
   "metadata": {},
   "outputs": [],
   "source": [
    "def hp_tuning(x_train, y_train, x_val, y_val):\n",
    "    \n",
    "    \"\"\"\n",
    "    Reproduces \"Mind the Portability\" hyperparameter tuning.\n",
    "    \n",
    "    Parameters:\n",
    "        - x_train, x_val (np.ndarray):\n",
    "            Train and validation samples.\n",
    "        - y_train, y_val (np.ndarray):\n",
    "            Train and validation labels.\n",
    "    \"\"\"\n",
    "\n",
    "    res = []\n",
    "    for layers in tqdm(POSSIBLE_LAYERS, desc='HP Tuning: '):\n",
    "        for neurons in POSSIBLE_NEURONS:\n",
    "\n",
    "            model = build_model(layers, neurons)\n",
    "            model.fit(\n",
    "                x_train, \n",
    "                y_train, \n",
    "                validation_data=(x_val, y_val),\n",
    "                epochs=EPOCHS,\n",
    "                batch_size=BATCH_SIZE,\n",
    "                verbose=0\n",
    "            )\n",
    "            _, val_acc = model.evaluate(\n",
    "                x_val, \n",
    "                y_val, \n",
    "                batch_size=BATCH_SIZE, \n",
    "                verbose=0\n",
    "            )\n",
    "\n",
    "            res.append((val_acc, layers, neurons))\n",
    "    \n",
    "    res.sort(key=lambda x: x[0], reverse=True)\n",
    "    \n",
    "    return res[0]"
   ]
  },
  {
   "cell_type": "code",
   "execution_count": 5,
   "id": "577667c8-f5c9-4efd-9e83-f38c3e79d05f",
   "metadata": {},
   "outputs": [],
   "source": [
    "def plot_ge(ge, output_path):\n",
    "\n",
    "    \"\"\"\n",
    "    Plots the provided GE vector.\n",
    "    \n",
    "    Parameters:\n",
    "        - ge (np.array):\n",
    "            GE vector to plot.\n",
    "        - output_path (str):\n",
    "            Absolute path to the PNG file containing the plot.\n",
    "    \"\"\"\n",
    "    \n",
    "    ge = ge[:15]\n",
    "    \n",
    "    # Plot GE\n",
    "    f, ax = plt.subplots(figsize=(15,8))\n",
    "    \n",
    "    ax.plot(ge, marker='o', color='b')\n",
    "        \n",
    "    ax.set_title(f'Byte: {BYTE_IDX}  |  Train: {TRAIN_CONFIG[0]}  |  Test: {TEST_CONFIG[0]}')\n",
    "    ax.set_xticks(range(len(ge)), labels=range(1, len(ge)+1))\n",
    "    ax.set_xlabel('Number of traces')\n",
    "    ax.set_ylabel('GE')\n",
    "    ax.grid()\n",
    "\n",
    "    f.savefig(\n",
    "        output_path, \n",
    "        bbox_inches='tight', \n",
    "        dpi=600\n",
    "    )\n",
    "    \n",
    "    plt.show()\n",
    "    \n",
    "    plt.close(f)"
   ]
  },
  {
   "cell_type": "code",
   "execution_count": 6,
   "id": "dd368059-32e0-4df7-b3a1-2e023675647c",
   "metadata": {},
   "outputs": [],
   "source": [
    "train_dl = DataLoader(\n",
    "    TRAIN_CONFIG,\n",
    "    n_tot_traces=45000,\n",
    "    target=TARGET,\n",
    "    byte_idx=BYTE_IDX\n",
    ")\n",
    "x_train, y_train, _, _ = train_dl.load()\n",
    "\n",
    "val_dl = DataLoader(\n",
    "    VAL_CONFIG,\n",
    "    n_tot_traces=5000,\n",
    "    target=TARGET,\n",
    "    byte_idx=BYTE_IDX\n",
    ")\n",
    "x_val, y_val, _, _ = val_dl.load()\n",
    "\n",
    "test_dl = DataLoader(\n",
    "    TEST_CONFIG,\n",
    "    n_tot_traces=5000,\n",
    "    target=TARGET,\n",
    "    byte_idx=BYTE_IDX\n",
    ")\n",
    "x_test, y_test, pbs_test, tkb_test = test_dl.load()"
   ]
  },
  {
   "cell_type": "code",
   "execution_count": 7,
   "id": "1080f9f2-8bb2-4d15-8030-6184fe12f5e6",
   "metadata": {},
   "outputs": [
    {
     "name": "stderr",
     "output_type": "stream",
     "text": [
      "HP Tuning: 100%|██████████| 4/4 [12:32<00:00, 188.22s/it]"
     ]
    },
    {
     "name": "stdout",
     "output_type": "stream",
     "text": [
      "\n",
      "Selected Layers:  1\n",
      "Selected Neurons: 100\n",
      "Best Val Acc:     4.46%\n"
     ]
    },
    {
     "name": "stderr",
     "output_type": "stream",
     "text": [
      "\n"
     ]
    }
   ],
   "source": [
    "val_acc, layers, neurons = hp_tuning(x_train, y_train, x_val, y_val)\n",
    "\n",
    "print()\n",
    "\n",
    "print(f'Selected Layers:  {layers}')\n",
    "print(f'Selected Neurons: {neurons}')\n",
    "print(f'Best Val Acc:     {val_acc*100:.2f}%')"
   ]
  },
  {
   "cell_type": "code",
   "execution_count": 8,
   "id": "569a7180-57c8-4b24-99ca-755ebbb6bf57",
   "metadata": {},
   "outputs": [
    {
     "data": {
      "text/plain": [
       "<keras.callbacks.History at 0x7fc6216a8b50>"
      ]
     },
     "execution_count": 8,
     "metadata": {},
     "output_type": "execute_result"
    }
   ],
   "source": [
    "final_model = build_model(layers, neurons)\n",
    "final_model.fit(\n",
    "    x_train, \n",
    "    y_train, \n",
    "    validation_data=(x_val, y_val),\n",
    "    epochs=EPOCHS,\n",
    "    batch_size=BATCH_SIZE,\n",
    "    verbose=0\n",
    ")"
   ]
  },
  {
   "cell_type": "code",
   "execution_count": 9,
   "id": "d7dfc04b-f5e7-4531-957a-ea0096156d40",
   "metadata": {},
   "outputs": [],
   "source": [
    "preds = final_model.predict(x_test)\n",
    "\n",
    "ge = results.ge(\n",
    "    preds=preds, \n",
    "    pltxt_bytes=pbs_test, \n",
    "    true_key_byte=tkb_test, \n",
    "    n_exp=GE_EXPS, \n",
    "    target=TARGET,\n",
    "    n_traces=100 # Default: 500\n",
    ")\n",
    "\n",
    "np.save(MTP_GE_PATH, ge)"
   ]
  },
  {
   "cell_type": "code",
   "execution_count": 10,
   "id": "df9ad800-94c7-436f-9eef-d969947f4a53",
   "metadata": {},
   "outputs": [
    {
     "data": {
      "image/png": "[encoded data removed]",
      "text/plain": [
       "<Figure size 1080x576 with 1 Axes>"
      ]
     },
     "metadata": {
      "needs_background": "light"
     },
     "output_type": "display_data"
    }
   ],
   "source": [
    "plot_ge(ge, MTP_GE_PLOT_PATH)"
   ]
  }
 ],
 "metadata": {
  "kernelspec": {
   "display_name": "mdm32_env",
   "language": "python",
   "name": "mdm32_env"
  },
  "language_info": {
   "codemirror_mode": {
    "name": "ipython",
    "version": 3
   },
   "file_extension": ".py",
   "mimetype": "text/x-python",
   "name": "python",
   "nbconvert_exporter": "python",
   "pygments_lexer": "ipython3",
   "version": "3.8.10"
  }
 },
 "nbformat": 4,
 "nbformat_minor": 5
}
