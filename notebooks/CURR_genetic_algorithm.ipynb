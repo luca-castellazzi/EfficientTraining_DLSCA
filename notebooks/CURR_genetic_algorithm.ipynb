{
 "cells": [
  {
   "cell_type": "code",
   "execution_count": 1,
   "id": "b7beb8ec-7ead-4e92-84be-6b6042c3e322",
   "metadata": {},
   "outputs": [],
   "source": [
    "# Basics\n",
    "import numpy as np\n",
    "import matplotlib.pyplot as plt\n",
    "from tqdm import tqdm\n",
    "\n",
    "# TensorFlow/Keras (Keras layers below)\n",
    "from tensorflow.keras.utils import set_random_seed, to_categorical\n",
    "from tensorflow import keras\n",
    "from keras.models import load_model\n",
    "# set_random_seed(1234) # set the seeds for Python, NumPy, and TensorFlow in order to reproduce the results\n",
    "\n",
    "# Custom\n",
    "import sys\n",
    "sys.path.insert(0, '../src/utils')\n",
    "from trace_handler import TraceHandler\n",
    "sys.path.insert(0, '../src/modeling')\n",
    "from genetic_tuner import GeneticTuner\n",
    "\n",
    "# Suppress TensorFlow messages\n",
    "import os\n",
    "os.environ['TF_CPP_MIN_LOG_LEVEL'] = '1' # 1 for INFO, 2 for INFO & WARNINGs, 3 for INFO & WARNINGs & ERRORs"
   ]
  },
  {
   "cell_type": "code",
   "execution_count": 2,
   "id": "9cd9523e-0256-4a59-9fcd-0d332183f05d",
   "metadata": {},
   "outputs": [
    {
     "name": "stderr",
     "output_type": "stream",
     "text": [
      "Labeling traces: 100%|██████████| 50000/50000 [00:02<00:00, 23869.32it/s]\n",
      "Labeling traces: 100%|██████████| 50000/50000 [00:15<00:00, 3316.37it/s] \n"
     ]
    }
   ],
   "source": [
    "# Train\n",
    "train_th = TraceHandler('/prj/side_channel/PinataTraces/CURR/D1-K1_50k_500MHz + Resampled at 168MHz.trs')    \n",
    "    \n",
    "BYTE_IDX = 0\n",
    "N_CLASSES = 256\n",
    "VAL_PERC = 0.1\n",
    "\n",
    "x_train_tot = train_th.get_traces()\n",
    "y_train_tot = train_th.get_specific_labels(BYTE_IDX)\n",
    "y_train_tot = to_categorical(y_train_tot, N_CLASSES)\n",
    "\n",
    "x_train, x_val, y_train, y_val = train_th.generate_train_val(BYTE_IDX, val_perc=VAL_PERC)\n",
    "y_train = to_categorical(y_train, N_CLASSES)\n",
    "y_val = to_categorical(y_val, N_CLASSES)\n",
    "\n",
    "# Test\n",
    "test_th = TraceHandler('/prj/side_channel/PinataTraces/CURR/D1-K2_50k_500MHz + Resampled at 168MHz.trs')\n",
    "\n",
    "x_test, y_test = test_th.generate_test(BYTE_IDX) \n",
    "y_test = to_categorical(y_test, N_CLASSES)\n",
    "\n",
    "test_plaintexts = test_th.get_plaintexts()\n",
    "true_key_byte = test_th.get_key()[BYTE_IDX]"
   ]
  },
  {
   "cell_type": "code",
   "execution_count": 3,
   "id": "80738193-c727-4d28-a9e3-285104b0e7cd",
   "metadata": {},
   "outputs": [],
   "source": [
    "from tensorflow.keras.optimizers import SGD, Adam, RMSprop\n",
    "\n",
    "HP_CHOICES = {#'kernel_initializer': ['random_normal', 'random_uniform', \n",
    "              #                       'truncated_normal', \n",
    "              #                       'zeros', 'ones', \n",
    "              #                       'glorot_normal', 'glorot_uniform',\n",
    "              #                       'he_normal', 'he_uniform',\n",
    "              #                       'identity', 'orthogonal', 'constant', 'variance_scaling'],\n",
    "              'kernel_initializer': ['random_normal', 'random_uniform', 'truncated_normal', 'he_normal', 'he_uniform'],  \n",
    "              'activation':         ['relu', 'tanh'],\n",
    "              'hidden_layers':      [1, 2, 3, 4, 5],\n",
    "              'hidden_neurons':     [100, 200, 300, 400, 500],\n",
    "              'dropout_rate':       [0.0, 0.2, 0.4],\n",
    "              'optimizer':          [SGD, Adam, RMSprop],\n",
    "              'learning_rate':      [1e-3, 1e-4, 1e-5],\n",
    "              'batch_size':         [50, 100, 200, 500]}    "
   ]
  },
  {
   "cell_type": "code",
   "execution_count": null,
   "id": "c13db7fe-e678-41e3-86c6-b385e6e59919",
   "metadata": {},
   "outputs": [
    {
     "name": "stdout",
     "output_type": "stream",
     "text": [
      "\n",
      "-------------------- Generation 1/20 --------------------\n",
      "Training individual 1/10...\n",
      "Training individual 2/10...\n",
      "Training individual 3/10...\n",
      "Training individual 4/10...\n",
      "Training individual 5/10...\n",
      "Training individual 6/10...\n",
      "Training individual 7/10...\n",
      "Training individual 8/10...\n",
      "Training individual 9/10...\n",
      "Training individual 10/10...\n",
      "--- Generation Results: [0.07320000231266022, 0.06260000169277191, 0.05180000141263008, 0.040800001472234726, 0.039799999445676804, 0.025200000032782555, 0.014399999752640724, 0.004600000102072954, 0.00419999985024333, 0.003800000064074993]\n",
      "\n",
      "-------------------- Generation 2/20 --------------------\n",
      "Training individual 1/10...\n",
      "Training individual 2/10...\n",
      "Training individual 3/10...\n",
      "Training individual 4/10...\n",
      "Training individual 5/10...\n",
      "Training individual 6/10...\n",
      "Training individual 7/10...\n",
      "Training individual 8/10...\n",
      "Training individual 9/10...\n",
      "Training individual 10/10...\n",
      "--- Generation Results: [0.11180000007152557, 0.08479999750852585, 0.07940000295639038, 0.07739999890327454, 0.05959999933838844, 0.055399999022483826, 0.05139999836683273, 0.04839999973773956, 0.04399999976158142, 0.0284000001847744]\n",
      "\n",
      "-------------------- Generation 3/20 --------------------\n",
      "Training individual 1/10...\n",
      "Training individual 2/10...\n",
      "Training individual 3/10...\n",
      "Training individual 4/10...\n",
      "Training individual 5/10...\n",
      "Training individual 6/10...\n",
      "Training individual 7/10...\n",
      "Training individual 8/10...\n"
     ]
    }
   ],
   "source": [
    "GENERATIONS = 20\n",
    "EPOCHS = 100\n",
    "\n",
    "gt = GeneticTuner(hp_choices=HP_CHOICES, pop_size=10, selection_perc=0.3)\n",
    "population = gt.populate()\n",
    "\n",
    "for i in range(GENERATIONS):\n",
    "    print()\n",
    "    print(f'-------------------- Generation {i+1}/{GENERATIONS} --------------------')\n",
    "    \n",
    "    evaluation = gt.evaluate(population, x_train, y_train, EPOCHS, x_val, y_val) # list of tuple Individual-val_acc\n",
    "    \n",
    "    parents = gt.select(evaluation) # list of 2 Individual objects\n",
    "    \n",
    "    if i != GENERATIONS - 1:\n",
    "        population = gt.evolve(parents) # list of pop_size Individual objects\n",
    "    \n",
    "    print(f'--- Generation Results: {[ev[1] for ev in evaluation]}')"
   ]
  },
  {
   "cell_type": "code",
   "execution_count": null,
   "id": "79d8a640-5852-4853-a847-fa81b72c0d77",
   "metadata": {},
   "outputs": [],
   "source": [
    "# from datetime import datetime\n",
    "\n",
    "# best_individual, best_val_acc = evaluation[0]\n",
    "\n",
    "# now = datetime.now()\n",
    "# BEST_MODEL_PATH = '../saved_models/' + now.strftime('%m%d%Y_%H%M')\n",
    "# best_individual.save_model(BEST_MODEL_PATH)\n",
    "\n",
    "# print(f'Best val_acc: {best_val_acc}')"
   ]
  },
  {
   "cell_type": "code",
   "execution_count": null,
   "id": "8afc4b00-b8a4-412f-8e4d-a41f50b7408d",
   "metadata": {},
   "outputs": [],
   "source": [
    "# from tensorflow import keras\n",
    "# # from keras.models import load_model\n",
    "\n",
    "# # print('Loading the best model...')\n",
    "# # best_model = load_model(BEST_MODEL_PATH)\n",
    "\n",
    "# best_individual.final_train(x_train_tot, y_train_tot)"
   ]
  },
  {
   "cell_type": "code",
   "execution_count": null,
   "id": "d867aa06-9014-410e-91b6-a732a17313bc",
   "metadata": {},
   "outputs": [],
   "source": [
    "best_individual, best_val_acc = evaluation[0]\n",
    "best_hp = best_individual.get_hp()\n",
    "best_hp"
   ]
  },
  {
   "cell_type": "code",
   "execution_count": null,
   "id": "1979ef7f-1f43-494d-97b7-c351921e256d",
   "metadata": {},
   "outputs": [],
   "source": [
    "from guessing_entropy import guessing_entropy\n",
    "\n",
    "GE_EPOCHS = 100\n",
    "\n",
    "ge = guessing_entropy(network_type='MLP',\n",
    "                      hp=best_hp,\n",
    "                      epochs=GE_EPOCHS,\n",
    "                      x_train_tot=x_train_tot,\n",
    "                      y_train_tot=y_train_tot,\n",
    "                      x_test_tot=x_test,\n",
    "                      test_plaintexts_tot=test_plaintexts,\n",
    "                      true_key_byte=true_key_byte,\n",
    "                      byte_idx=BYTE_IDX,\n",
    "                      n_exp=10)"
   ]
  },
  {
   "cell_type": "code",
   "execution_count": null,
   "id": "6257ca48-a561-4a91-98d8-7a4b9c467df6",
   "metadata": {},
   "outputs": [],
   "source": [
    "f, ax = plt.subplots(2, 1, figsize=(10, 8))\n",
    "\n",
    "ax[0].plot(ge, color='r')\n",
    "ax[0].set_title('GE all traces')\n",
    "ax[0].grid()\n",
    "\n",
    "ax[1].plot(np.round(ge), color='b')\n",
    "ax[1].set_title('GE all traces ROUNDED')\n",
    "ax[1].grid()\n",
    "\n",
    "plt.show()"
   ]
  },
  {
   "cell_type": "code",
   "execution_count": null,
   "id": "99d405a8-1d7a-4f7d-84e2-8d17704f1eec",
   "metadata": {},
   "outputs": [],
   "source": [
    "N_TRACES = 200\n",
    "\n",
    "f, ax = plt.subplots(2, 1, figsize=(10, 8))\n",
    "\n",
    "ax[0].plot(ge[:N_TRACES], color='r', marker='o')\n",
    "ax[0].set_title(f'GE {N_TRACES} traces')\n",
    "ax[0].grid()\n",
    "\n",
    "ax[1].plot(np.round(ge[:N_TRACES]), color='b', marker='o')\n",
    "ax[1].set_title(f'GE {N_TRACES} traces ROUNDED')\n",
    "ax[1].grid()\n",
    "\n",
    "plt.show()"
   ]
  },
  {
   "cell_type": "code",
   "execution_count": null,
   "id": "dd55b1bf-d2b5-44f9-b291-dd0cfe68482d",
   "metadata": {},
   "outputs": [],
   "source": []
  }
 ],
 "metadata": {
  "kernelspec": {
   "display_name": "mdm32_env",
   "language": "python",
   "name": "mdm32_env"
  },
  "language_info": {
   "codemirror_mode": {
    "name": "ipython",
    "version": 3
   },
   "file_extension": ".py",
   "mimetype": "text/x-python",
   "name": "python",
   "nbconvert_exporter": "python",
   "pygments_lexer": "ipython3",
   "version": "3.8.10"
  }
 },
 "nbformat": 4,
 "nbformat_minor": 5
}
