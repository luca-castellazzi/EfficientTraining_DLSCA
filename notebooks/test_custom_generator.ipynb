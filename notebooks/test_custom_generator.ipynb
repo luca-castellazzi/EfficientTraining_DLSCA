{
 "cells": [
  {
   "cell_type": "code",
   "execution_count": 13,
   "id": "eed19cde-b947-4afe-87f0-7187e764fed0",
   "metadata": {},
   "outputs": [],
   "source": [
    "import trsfile\n",
    "import numpy as np\n",
    "from tensorflow.keras.utils import Sequence\n",
    "from tensorflow.keras.utils import to_categorical\n",
    "import matplotlib.pyplot as plt\n",
    "\n",
    "import sys\n",
    "sys.path.insert(0, '../../src/utils')\n",
    "import aes\n",
    "import constants\n",
    "sys.path.insert(0, '../../src/modeling')\n",
    "from network import Network\n",
    "\n",
    "# Suppress TensorFlow messages\n",
    "import os\n",
    "os.environ['TF_CPP_MIN_LOG_LEVEL'] = '1' # 1 for INFO, 2 for INFO & WARNINGs, 3 for INFO & WARNINGs & ERRORs"
   ]
  },
  {
   "cell_type": "code",
   "execution_count": 26,
   "id": "092bf42f-e262-410d-ad34-d51128e0fb61",
   "metadata": {},
   "outputs": [],
   "source": [
    "# First test: \n",
    "    # - only one trace file\n",
    "    # - assume generator only for train and val\n",
    "    # - pass the train and val indices to the generator\n",
    "\n",
    "\n",
    "class CustomDataGenerator(Sequence):\n",
    "    \n",
    "    def __init__(self, tr_file, tr_indices, batch_size, target, n_classes, byte_idx, to_fit=True, shuffle_on_epoch_end=True):\n",
    "        self.tr_file = tr_file\n",
    "        self.tr_indices = tr_indices\n",
    "        self.batch_size = batch_size\n",
    "        self.target = target\n",
    "        self.n_classes = n_classes\n",
    "        self.byte_idx = byte_idx\n",
    "        self.to_fit = to_fit\n",
    "        self.shuffle_on_epoch_end = shuffle_on_epoch_end\n",
    "        \n",
    "        self.on_epoch_end()\n",
    "        \n",
    "        \n",
    "    def __len__(self):\n",
    "        # Generates the number of batches per epoch\n",
    "        return int(np.floor(len(self.tr_indices) / self.batch_size))\n",
    "        \n",
    "        \n",
    "    def __getitem__(self, index):\n",
    "        # Generates a batch of data\n",
    "        i = index * self.batch_size\n",
    "        batch_indices = self.tr_indices[i : i + self.batch_size]\n",
    "        \n",
    "        x, y = self._read_traces(batch_indices)\n",
    "        \n",
    "        if self.to_fit:\n",
    "            return x, y\n",
    "        else:\n",
    "            return x\n",
    "    \n",
    "    \n",
    "    def on_epoch_end(self):\n",
    "        # Eventually shuffles the order of the traces\n",
    "        if self.shuffle_on_epoch_end:\n",
    "            np.random.shuffle(list(self.tr_indices))\n",
    "    \n",
    "    \n",
    "    def _read_traces(self, batch_indices):\n",
    "        # Reads the traces from file\n",
    "        x = []\n",
    "        y = []\n",
    "        \n",
    "        with trsfile.open(self.tr_file, 'r') as traces:\n",
    "            batch_traces = [traces[i] for i in batch_indices]\n",
    "            for tr in batch_traces:\n",
    "                s = tr.samples\n",
    "                l = self._retrieve_label(tr)\n",
    "                \n",
    "                x.append(s)\n",
    "                y.append(l)\n",
    "                \n",
    "        x = np.array(x)\n",
    "        y = np.array(y)\n",
    "        \n",
    "        return x, y\n",
    "        \n",
    "        \n",
    "    def _retrieve_label(self, tr):\n",
    "        # Retrieves the label associated to the given trace\n",
    "        p = np.array(tr.get_input())\n",
    "        k = np.array(tr.get_key())\n",
    "        l = aes.labels_from_key(p, k, self.target)\n",
    "        l = l[self.byte_idx]\n",
    "        \n",
    "        l = to_categorical(l, self.n_classes)\n",
    "        \n",
    "        return l"
   ]
  },
  {
   "cell_type": "code",
   "execution_count": 20,
   "id": "64226f17-c1da-4980-af79-b55ff397651f",
   "metadata": {},
   "outputs": [],
   "source": [
    "TOT_TRACES = 50000\n",
    "\n",
    "# tr_file = f'{constants.MSK_PC_TRACES_PATH}/D3-K7_round1_500MHz + Resampled.trs'\n",
    "tr_file = f'{constants.PC_TRACES_PATH}/D3-K7_500MHz + Resampled.trs'\n",
    "train_split = int(TOT_TRACES * 0.9)\n",
    "train_indices = range(TOT_TRACES)[:train_split]\n",
    "val_indices = range(TOT_TRACES)[train_split:]\n",
    "target = 'SBOX_OUT'\n",
    "n_classes = 256\n",
    "byte_idx = 0"
   ]
  },
  {
   "cell_type": "code",
   "execution_count": 21,
   "id": "7a5f8f90-5200-4e78-a545-ab9bd1194372",
   "metadata": {},
   "outputs": [],
   "source": [
    "# # Original HPs b0 1dev\n",
    "hp = {\n",
    "    \"hidden_layers\": 4, \n",
    "    \"hidden_neurons\": 400, \n",
    "    \"dropout_rate\": 0.2, \n",
    "    \"l2\": 0.0, \n",
    "    \"optimizer\": \"adam\", \n",
    "    \"learning_rate\": 0.001, \n",
    "    \"batch_size\": 256\n",
    "}"
   ]
  },
  {
   "cell_type": "code",
   "execution_count": 22,
   "id": "73c5e4d3-03c4-4c44-a191-0ecba0e37294",
   "metadata": {},
   "outputs": [],
   "source": [
    "train_gen = CustomDataGenerator(\n",
    "    tr_file,\n",
    "    train_indices,\n",
    "    hp['batch_size'],\n",
    "    target,\n",
    "    n_classes,\n",
    "    byte_idx\n",
    ")\n",
    "\n",
    "val_gen = CustomDataGenerator(\n",
    "    tr_file,\n",
    "    val_indices,\n",
    "    hp['batch_size'],\n",
    "    target,\n",
    "    n_classes,\n",
    "    byte_idx\n",
    ")"
   ]
  },
  {
   "cell_type": "code",
   "execution_count": 44,
   "id": "3c5c60ca-409d-4d6e-a4ec-2974cecb60da",
   "metadata": {},
   "outputs": [
    {
     "name": "stdout",
     "output_type": "stream",
     "text": [
      "Epoch 1/100\n",
      "175/175 [==============================] - 4s 17ms/step - loss: 5.1744 - accuracy: 0.0213 - val_loss: 6.9996 - val_accuracy: 0.0179 - lr: 0.0010\n",
      "Epoch 2/100\n",
      "175/175 [==============================] - 3s 16ms/step - loss: 4.1938 - accuracy: 0.0696 - val_loss: 7.1485 - val_accuracy: 0.0169 - lr: 0.0010\n",
      "Epoch 3/100\n",
      "175/175 [==============================] - 3s 16ms/step - loss: 3.8438 - accuracy: 0.0949 - val_loss: 6.8189 - val_accuracy: 0.0206 - lr: 0.0010\n",
      "Epoch 4/100\n",
      "175/175 [==============================] - 3s 16ms/step - loss: 3.6712 - accuracy: 0.1114 - val_loss: 6.5343 - val_accuracy: 0.0199 - lr: 0.0010\n",
      "Epoch 5/100\n",
      "175/175 [==============================] - 3s 15ms/step - loss: 3.5539 - accuracy: 0.1223 - val_loss: 7.0162 - val_accuracy: 0.0214 - lr: 0.0010\n",
      "Epoch 6/100\n",
      "175/175 [==============================] - 3s 16ms/step - loss: 3.4643 - accuracy: 0.1308 - val_loss: 3.4900 - val_accuracy: 0.1299 - lr: 0.0010\n",
      "Epoch 7/100\n",
      "175/175 [==============================] - 3s 16ms/step - loss: 3.3865 - accuracy: 0.1420 - val_loss: 3.4847 - val_accuracy: 0.1287 - lr: 0.0010\n",
      "Epoch 8/100\n",
      "175/175 [==============================] - 3s 16ms/step - loss: 3.3168 - accuracy: 0.1529 - val_loss: 3.3146 - val_accuracy: 0.1581 - lr: 0.0010\n",
      "Epoch 9/100\n",
      "175/175 [==============================] - 3s 15ms/step - loss: 3.2543 - accuracy: 0.1593 - val_loss: 4.5562 - val_accuracy: 0.0676 - lr: 0.0010\n",
      "Epoch 10/100\n",
      "175/175 [==============================] - 3s 16ms/step - loss: 3.2010 - accuracy: 0.1672 - val_loss: 4.3955 - val_accuracy: 0.0847 - lr: 0.0010\n",
      "Epoch 11/100\n",
      "175/175 [==============================] - 3s 16ms/step - loss: 3.1500 - accuracy: 0.1736 - val_loss: 3.7600 - val_accuracy: 0.1081 - lr: 0.0010\n",
      "Epoch 12/100\n",
      "175/175 [==============================] - 3s 16ms/step - loss: 3.1108 - accuracy: 0.1808 - val_loss: 3.7169 - val_accuracy: 0.1205 - lr: 0.0010\n",
      "Epoch 13/100\n",
      "175/175 [==============================] - 3s 16ms/step - loss: 3.0744 - accuracy: 0.1838 - val_loss: 3.6119 - val_accuracy: 0.1301 - lr: 0.0010\n",
      "Epoch 14/100\n",
      "175/175 [==============================] - 3s 16ms/step - loss: 3.0399 - accuracy: 0.1884 - val_loss: 4.4327 - val_accuracy: 0.0822 - lr: 0.0010\n",
      "Epoch 15/100\n",
      "175/175 [==============================] - 3s 16ms/step - loss: 3.0085 - accuracy: 0.1918 - val_loss: 4.7373 - val_accuracy: 0.0625 - lr: 0.0010\n",
      "Epoch 16/100\n",
      "175/175 [==============================] - 3s 16ms/step - loss: 2.8769 - accuracy: 0.2157 - val_loss: 3.0343 - val_accuracy: 0.1949 - lr: 2.0000e-04\n",
      "Epoch 17/100\n",
      "175/175 [==============================] - 3s 16ms/step - loss: 2.8378 - accuracy: 0.2247 - val_loss: 3.0603 - val_accuracy: 0.1912 - lr: 2.0000e-04\n",
      "Epoch 18/100\n",
      "175/175 [==============================] - 3s 16ms/step - loss: 2.8230 - accuracy: 0.2260 - val_loss: 2.9822 - val_accuracy: 0.2058 - lr: 2.0000e-04\n",
      "Epoch 19/100\n",
      "175/175 [==============================] - 3s 15ms/step - loss: 2.8106 - accuracy: 0.2275 - val_loss: 2.9776 - val_accuracy: 0.2021 - lr: 2.0000e-04\n",
      "Epoch 20/100\n",
      "175/175 [==============================] - 3s 16ms/step - loss: 2.7930 - accuracy: 0.2333 - val_loss: 2.7623 - val_accuracy: 0.2352 - lr: 2.0000e-04\n",
      "Epoch 21/100\n",
      "175/175 [==============================] - 3s 16ms/step - loss: 2.7742 - accuracy: 0.2349 - val_loss: 3.1826 - val_accuracy: 0.1780 - lr: 2.0000e-04\n",
      "Epoch 22/100\n",
      "175/175 [==============================] - 3s 15ms/step - loss: 2.7709 - accuracy: 0.2364 - val_loss: 3.0393 - val_accuracy: 0.1996 - lr: 2.0000e-04\n",
      "Epoch 23/100\n",
      "175/175 [==============================] - 3s 16ms/step - loss: 2.7625 - accuracy: 0.2342 - val_loss: 3.2170 - val_accuracy: 0.1774 - lr: 2.0000e-04\n",
      "Epoch 24/100\n",
      "175/175 [==============================] - 3s 16ms/step - loss: 2.7496 - accuracy: 0.2377 - val_loss: 2.7889 - val_accuracy: 0.2389 - lr: 2.0000e-04\n",
      "Epoch 25/100\n",
      "175/175 [==============================] - 3s 16ms/step - loss: 2.7380 - accuracy: 0.2422 - val_loss: 3.1945 - val_accuracy: 0.1743 - lr: 2.0000e-04\n",
      "Epoch 26/100\n",
      "175/175 [==============================] - 3s 15ms/step - loss: 2.7237 - accuracy: 0.2421 - val_loss: 3.4049 - val_accuracy: 0.1505 - lr: 2.0000e-04\n",
      "Epoch 27/100\n",
      "175/175 [==============================] - 3s 16ms/step - loss: 2.7190 - accuracy: 0.2433 - val_loss: 3.1281 - val_accuracy: 0.1885 - lr: 2.0000e-04\n",
      "Epoch 28/100\n",
      "175/175 [==============================] - 3s 16ms/step - loss: 2.6768 - accuracy: 0.2541 - val_loss: 2.6656 - val_accuracy: 0.2537 - lr: 4.0000e-05\n",
      "Epoch 29/100\n",
      "175/175 [==============================] - 3s 15ms/step - loss: 2.6709 - accuracy: 0.2531 - val_loss: 2.6558 - val_accuracy: 0.2609 - lr: 4.0000e-05\n",
      "Epoch 30/100\n",
      "175/175 [==============================] - 3s 16ms/step - loss: 2.6599 - accuracy: 0.2559 - val_loss: 2.6519 - val_accuracy: 0.2605 - lr: 4.0000e-05\n",
      "Epoch 31/100\n",
      "175/175 [==============================] - 3s 16ms/step - loss: 2.6639 - accuracy: 0.2525 - val_loss: 2.6390 - val_accuracy: 0.2533 - lr: 4.0000e-05\n",
      "Epoch 32/100\n",
      "175/175 [==============================] - 3s 15ms/step - loss: 2.6577 - accuracy: 0.2568 - val_loss: 2.6331 - val_accuracy: 0.2621 - lr: 4.0000e-05\n",
      "Epoch 33/100\n",
      "175/175 [==============================] - 3s 16ms/step - loss: 2.6570 - accuracy: 0.2574 - val_loss: 2.6381 - val_accuracy: 0.2547 - lr: 4.0000e-05\n",
      "Epoch 34/100\n",
      "175/175 [==============================] - 3s 16ms/step - loss: 2.6543 - accuracy: 0.2574 - val_loss: 2.6986 - val_accuracy: 0.2434 - lr: 4.0000e-05\n",
      "Epoch 35/100\n",
      "175/175 [==============================] - 3s 16ms/step - loss: 2.6504 - accuracy: 0.2573 - val_loss: 2.6941 - val_accuracy: 0.2502 - lr: 4.0000e-05\n",
      "Epoch 36/100\n",
      "175/175 [==============================] - 3s 15ms/step - loss: 2.6522 - accuracy: 0.2573 - val_loss: 2.6259 - val_accuracy: 0.2586 - lr: 4.0000e-05\n",
      "Epoch 37/100\n",
      "175/175 [==============================] - 3s 16ms/step - loss: 2.6440 - accuracy: 0.2611 - val_loss: 2.6522 - val_accuracy: 0.2549 - lr: 4.0000e-05\n",
      "Epoch 38/100\n",
      "175/175 [==============================] - 3s 16ms/step - loss: 2.6405 - accuracy: 0.2599 - val_loss: 2.6498 - val_accuracy: 0.2512 - lr: 4.0000e-05\n",
      "Epoch 39/100\n",
      "175/175 [==============================] - 3s 15ms/step - loss: 2.6417 - accuracy: 0.2579 - val_loss: 2.6179 - val_accuracy: 0.2642 - lr: 4.0000e-05\n",
      "Epoch 40/100\n",
      "175/175 [==============================] - 3s 16ms/step - loss: 2.6369 - accuracy: 0.2595 - val_loss: 2.6620 - val_accuracy: 0.2541 - lr: 4.0000e-05\n",
      "Epoch 41/100\n",
      "175/175 [==============================] - 3s 16ms/step - loss: 2.6359 - accuracy: 0.2592 - val_loss: 2.6155 - val_accuracy: 0.2611 - lr: 4.0000e-05\n",
      "Epoch 42/100\n",
      "175/175 [==============================] - 3s 15ms/step - loss: 2.6334 - accuracy: 0.2622 - val_loss: 2.6235 - val_accuracy: 0.2562 - lr: 4.0000e-05\n",
      "Epoch 43/100\n",
      "175/175 [==============================] - 3s 16ms/step - loss: 2.6276 - accuracy: 0.2638 - val_loss: 2.6462 - val_accuracy: 0.2595 - lr: 4.0000e-05\n",
      "Epoch 44/100\n",
      "175/175 [==============================] - 3s 16ms/step - loss: 2.6272 - accuracy: 0.2604 - val_loss: 2.6201 - val_accuracy: 0.2574 - lr: 4.0000e-05\n",
      "Epoch 45/100\n",
      "175/175 [==============================] - 3s 16ms/step - loss: 2.6210 - accuracy: 0.2633 - val_loss: 2.6065 - val_accuracy: 0.2597 - lr: 4.0000e-05\n",
      "Epoch 46/100\n",
      "175/175 [==============================] - 3s 15ms/step - loss: 2.6219 - accuracy: 0.2624 - val_loss: 2.6581 - val_accuracy: 0.2531 - lr: 4.0000e-05\n",
      "Epoch 47/100\n",
      "175/175 [==============================] - 3s 16ms/step - loss: 2.6241 - accuracy: 0.2643 - val_loss: 2.6847 - val_accuracy: 0.2504 - lr: 4.0000e-05\n",
      "Epoch 48/100\n",
      "175/175 [==============================] - 3s 16ms/step - loss: 2.6201 - accuracy: 0.2645 - val_loss: 2.6260 - val_accuracy: 0.2597 - lr: 4.0000e-05\n",
      "Epoch 49/100\n",
      "175/175 [==============================] - 3s 15ms/step - loss: 2.6149 - accuracy: 0.2646 - val_loss: 2.6107 - val_accuracy: 0.2636 - lr: 4.0000e-05\n",
      "Epoch 50/100\n",
      "175/175 [==============================] - 3s 16ms/step - loss: 2.6141 - accuracy: 0.2683 - val_loss: 2.6283 - val_accuracy: 0.2627 - lr: 4.0000e-05\n",
      "Epoch 51/100\n",
      "175/175 [==============================] - 3s 16ms/step - loss: 2.6092 - accuracy: 0.2677 - val_loss: 2.6061 - val_accuracy: 0.2593 - lr: 4.0000e-05\n",
      "Epoch 52/100\n",
      "175/175 [==============================] - 3s 16ms/step - loss: 2.6122 - accuracy: 0.2629 - val_loss: 2.6496 - val_accuracy: 0.2595 - lr: 4.0000e-05\n",
      "Epoch 53/100\n",
      "175/175 [==============================] - 3s 15ms/step - loss: 2.5999 - accuracy: 0.2672 - val_loss: 2.6461 - val_accuracy: 0.2564 - lr: 4.0000e-05\n",
      "Epoch 54/100\n",
      "175/175 [==============================] - 3s 16ms/step - loss: 2.6009 - accuracy: 0.2665 - val_loss: 2.6544 - val_accuracy: 0.2578 - lr: 4.0000e-05\n",
      "Epoch 55/100\n",
      "175/175 [==============================] - 3s 16ms/step - loss: 2.5941 - accuracy: 0.2683 - val_loss: 2.6065 - val_accuracy: 0.2578 - lr: 4.0000e-05\n",
      "Epoch 56/100\n",
      "175/175 [==============================] - 3s 16ms/step - loss: 2.5996 - accuracy: 0.2671 - val_loss: 2.6616 - val_accuracy: 0.2492 - lr: 4.0000e-05\n",
      "Epoch 57/100\n",
      "175/175 [==============================] - 3s 16ms/step - loss: 2.5982 - accuracy: 0.2695 - val_loss: 2.6357 - val_accuracy: 0.2545 - lr: 4.0000e-05\n",
      "Epoch 58/100\n",
      "175/175 [==============================] - 3s 16ms/step - loss: 2.5987 - accuracy: 0.2708 - val_loss: 2.6028 - val_accuracy: 0.2675 - lr: 4.0000e-05\n",
      "Epoch 59/100\n",
      "175/175 [==============================] - 3s 16ms/step - loss: 2.6007 - accuracy: 0.2653 - val_loss: 2.6013 - val_accuracy: 0.2605 - lr: 4.0000e-05\n",
      "Epoch 60/100\n",
      "175/175 [==============================] - 3s 16ms/step - loss: 2.5893 - accuracy: 0.2699 - val_loss: 2.6097 - val_accuracy: 0.2599 - lr: 4.0000e-05\n",
      "Epoch 61/100\n",
      "175/175 [==============================] - 3s 16ms/step - loss: 2.5850 - accuracy: 0.2748 - val_loss: 2.6502 - val_accuracy: 0.2541 - lr: 4.0000e-05\n",
      "Epoch 62/100\n",
      "175/175 [==============================] - 3s 16ms/step - loss: 2.5927 - accuracy: 0.2681 - val_loss: 2.5988 - val_accuracy: 0.2617 - lr: 4.0000e-05\n",
      "Epoch 63/100\n",
      "175/175 [==============================] - 3s 15ms/step - loss: 2.5888 - accuracy: 0.2664 - val_loss: 2.6062 - val_accuracy: 0.2588 - lr: 4.0000e-05\n",
      "Epoch 64/100\n",
      "175/175 [==============================] - 3s 16ms/step - loss: 2.5836 - accuracy: 0.2715 - val_loss: 2.6079 - val_accuracy: 0.2609 - lr: 4.0000e-05\n",
      "Epoch 65/100\n",
      "175/175 [==============================] - 3s 16ms/step - loss: 2.5782 - accuracy: 0.2722 - val_loss: 2.6149 - val_accuracy: 0.2597 - lr: 4.0000e-05\n",
      "Epoch 66/100\n",
      "175/175 [==============================] - 3s 16ms/step - loss: 2.5820 - accuracy: 0.2716 - val_loss: 2.6108 - val_accuracy: 0.2609 - lr: 4.0000e-05\n",
      "Epoch 67/100\n",
      "175/175 [==============================] - 3s 15ms/step - loss: 2.5818 - accuracy: 0.2737 - val_loss: 2.6062 - val_accuracy: 0.2636 - lr: 4.0000e-05\n",
      "Epoch 68/100\n",
      "175/175 [==============================] - 3s 16ms/step - loss: 2.5762 - accuracy: 0.2745 - val_loss: 2.5938 - val_accuracy: 0.2636 - lr: 4.0000e-05\n",
      "Epoch 69/100\n",
      "175/175 [==============================] - 3s 16ms/step - loss: 2.5721 - accuracy: 0.2738 - val_loss: 2.6401 - val_accuracy: 0.2578 - lr: 4.0000e-05\n",
      "Epoch 70/100\n",
      "175/175 [==============================] - 3s 15ms/step - loss: 2.5722 - accuracy: 0.2746 - val_loss: 2.5845 - val_accuracy: 0.2632 - lr: 4.0000e-05\n",
      "Epoch 71/100\n",
      "175/175 [==============================] - 3s 16ms/step - loss: 2.5678 - accuracy: 0.2763 - val_loss: 2.5992 - val_accuracy: 0.2601 - lr: 4.0000e-05\n",
      "Epoch 72/100\n",
      "175/175 [==============================] - 3s 16ms/step - loss: 2.5676 - accuracy: 0.2738 - val_loss: 2.6352 - val_accuracy: 0.2533 - lr: 4.0000e-05\n",
      "Epoch 73/100\n",
      "175/175 [==============================] - 3s 15ms/step - loss: 2.5630 - accuracy: 0.2752 - val_loss: 2.6579 - val_accuracy: 0.2535 - lr: 4.0000e-05\n",
      "Epoch 74/100\n",
      "175/175 [==============================] - 3s 16ms/step - loss: 2.5669 - accuracy: 0.2736 - val_loss: 2.6652 - val_accuracy: 0.2584 - lr: 4.0000e-05\n",
      "Epoch 75/100\n",
      "175/175 [==============================] - 3s 16ms/step - loss: 2.5625 - accuracy: 0.2766 - val_loss: 2.5951 - val_accuracy: 0.2669 - lr: 4.0000e-05\n",
      "Epoch 76/100\n",
      "175/175 [==============================] - 3s 15ms/step - loss: 2.5609 - accuracy: 0.2737 - val_loss: 2.6028 - val_accuracy: 0.2619 - lr: 4.0000e-05\n",
      "Epoch 77/100\n",
      "175/175 [==============================] - 3s 16ms/step - loss: 2.5599 - accuracy: 0.2777 - val_loss: 2.6064 - val_accuracy: 0.2597 - lr: 4.0000e-05\n",
      "Epoch 78/100\n",
      "175/175 [==============================] - 3s 16ms/step - loss: 2.5520 - accuracy: 0.2783 - val_loss: 2.5759 - val_accuracy: 0.2662 - lr: 8.0000e-06\n",
      "Epoch 79/100\n",
      "175/175 [==============================] - 3s 16ms/step - loss: 2.5505 - accuracy: 0.2798 - val_loss: 2.5782 - val_accuracy: 0.2667 - lr: 8.0000e-06\n",
      "Epoch 80/100\n",
      "175/175 [==============================] - 3s 16ms/step - loss: 2.5455 - accuracy: 0.2806 - val_loss: 2.5751 - val_accuracy: 0.2654 - lr: 8.0000e-06\n",
      "Epoch 81/100\n",
      "175/175 [==============================] - 3s 16ms/step - loss: 2.5497 - accuracy: 0.2777 - val_loss: 2.5779 - val_accuracy: 0.2646 - lr: 8.0000e-06\n",
      "Epoch 82/100\n",
      "175/175 [==============================] - 3s 16ms/step - loss: 2.5458 - accuracy: 0.2801 - val_loss: 2.5741 - val_accuracy: 0.2675 - lr: 8.0000e-06\n",
      "Epoch 83/100\n",
      "175/175 [==============================] - 3s 15ms/step - loss: 2.5464 - accuracy: 0.2771 - val_loss: 2.5763 - val_accuracy: 0.2683 - lr: 8.0000e-06\n",
      "Epoch 84/100\n",
      "175/175 [==============================] - 3s 16ms/step - loss: 2.5437 - accuracy: 0.2806 - val_loss: 2.5749 - val_accuracy: 0.2687 - lr: 8.0000e-06\n",
      "Epoch 85/100\n",
      "175/175 [==============================] - 3s 16ms/step - loss: 2.5434 - accuracy: 0.2790 - val_loss: 2.5718 - val_accuracy: 0.2689 - lr: 8.0000e-06\n",
      "Epoch 86/100\n",
      "175/175 [==============================] - 3s 16ms/step - loss: 2.5417 - accuracy: 0.2796 - val_loss: 2.5759 - val_accuracy: 0.2658 - lr: 8.0000e-06\n",
      "Epoch 87/100\n",
      "175/175 [==============================] - 3s 15ms/step - loss: 2.5418 - accuracy: 0.2779 - val_loss: 2.5734 - val_accuracy: 0.2652 - lr: 8.0000e-06\n",
      "Epoch 88/100\n",
      "175/175 [==============================] - 3s 16ms/step - loss: 2.5424 - accuracy: 0.2798 - val_loss: 2.5721 - val_accuracy: 0.2669 - lr: 8.0000e-06\n",
      "Epoch 89/100\n",
      "175/175 [==============================] - 3s 16ms/step - loss: 2.5426 - accuracy: 0.2806 - val_loss: 2.5720 - val_accuracy: 0.2648 - lr: 8.0000e-06\n",
      "Epoch 90/100\n",
      "175/175 [==============================] - 3s 16ms/step - loss: 2.5406 - accuracy: 0.2806 - val_loss: 2.5725 - val_accuracy: 0.2689 - lr: 8.0000e-06\n",
      "Epoch 91/100\n",
      "175/175 [==============================] - 3s 16ms/step - loss: 2.5420 - accuracy: 0.2806 - val_loss: 2.5720 - val_accuracy: 0.2662 - lr: 8.0000e-06\n",
      "Epoch 92/100\n",
      "175/175 [==============================] - 3s 16ms/step - loss: 2.5405 - accuracy: 0.2778 - val_loss: 2.5810 - val_accuracy: 0.2636 - lr: 8.0000e-06\n",
      "Epoch 93/100\n",
      "175/175 [==============================] - 3s 15ms/step - loss: 2.5385 - accuracy: 0.2808 - val_loss: 2.5730 - val_accuracy: 0.2650 - lr: 1.6000e-06\n",
      "Epoch 94/100\n",
      "175/175 [==============================] - 3s 16ms/step - loss: 2.5363 - accuracy: 0.2817 - val_loss: 2.5728 - val_accuracy: 0.2667 - lr: 1.6000e-06\n",
      "Epoch 95/100\n",
      "175/175 [==============================] - 3s 16ms/step - loss: 2.5400 - accuracy: 0.2793 - val_loss: 2.5721 - val_accuracy: 0.2660 - lr: 1.6000e-06\n",
      "Epoch 96/100\n",
      "175/175 [==============================] - 3s 16ms/step - loss: 2.5340 - accuracy: 0.2806 - val_loss: 2.5712 - val_accuracy: 0.2685 - lr: 1.6000e-06\n",
      "Epoch 97/100\n",
      "175/175 [==============================] - 3s 16ms/step - loss: 2.5386 - accuracy: 0.2801 - val_loss: 2.5718 - val_accuracy: 0.2677 - lr: 1.6000e-06\n",
      "Epoch 98/100\n",
      "175/175 [==============================] - 3s 16ms/step - loss: 2.5375 - accuracy: 0.2830 - val_loss: 2.5719 - val_accuracy: 0.2675 - lr: 1.6000e-06\n",
      "Epoch 99/100\n",
      "175/175 [==============================] - 3s 16ms/step - loss: 2.5374 - accuracy: 0.2800 - val_loss: 2.5725 - val_accuracy: 0.2669 - lr: 1.6000e-06\n",
      "Epoch 100/100\n",
      "175/175 [==============================] - 3s 16ms/step - loss: 2.5376 - accuracy: 0.2797 - val_loss: 2.5720 - val_accuracy: 0.2677 - lr: 1.6000e-06\n"
     ]
    }
   ],
   "source": [
    "# Train and save the model\n",
    "net = Network('MLP', hp)\n",
    "net.build_model()\n",
    "\n",
    "history = net.model.fit(\n",
    "    train_gen, \n",
    "    validation_data=val_gen,\n",
    "    epochs=100,\n",
    "    callbacks=net.callbacks,\n",
    "    verbose=1\n",
    ").history"
   ]
  },
  {
   "cell_type": "code",
   "execution_count": 45,
   "id": "5a16dd1e-fce6-470f-871d-a8805021e721",
   "metadata": {},
   "outputs": [],
   "source": [
    "def plot_history(history, metric):\n",
    "    \n",
    "    \"\"\"\n",
    "    Plots the training history (train_loss vs val_loss, train_acc vs val_acc).\n",
    "    \n",
    "    Parameters:\n",
    "        - history (dict):\n",
    "            Train history.\n",
    "        - metric (str):\n",
    "            Metric to plot.\n",
    "        - output_path (str):\n",
    "            Absolute path to the PNG file containing the plot.\n",
    "    \"\"\"\n",
    "    \n",
    "    f = plt.figure(figsize=(10,10))\n",
    "\n",
    "    train_label = f'train_{metric}'\n",
    "    val_label = f'val_{metric}'\n",
    "    title = f'Train and Val {metric.title()}' # .title() upper-cases only the first letter\n",
    "    \n",
    "    plt.plot(history[metric], label=train_label)\n",
    "    plt.plot(history[val_label], label=val_label)\n",
    "    plt.title(title)\n",
    "    plt.ylabel(metric.title())\n",
    "    plt.xlabel('Epochs')\n",
    "    plt.legend()\n",
    "    plt.grid()\n",
    "    \n",
    "    plt.show()\n",
    "    \n",
    "    plt.close(f)"
   ]
  },
  {
   "cell_type": "code",
   "execution_count": 46,
   "id": "6546dda0-a48e-4a65-81e2-7b282e7bca5f",
   "metadata": {},
   "outputs": [
    {
     "data": {
      "image/png": "[encoded data removed]",
      "text/plain": [
       "<Figure size 720x720 with 1 Axes>"
      ]
     },
     "metadata": {
      "needs_background": "light"
     },
     "output_type": "display_data"
    },
    {
     "data": {
      "image/png": "[encoded data removed]",
      "text/plain": [
       "<Figure size 720x720 with 1 Axes>"
      ]
     },
     "metadata": {
      "needs_background": "light"
     },
     "output_type": "display_data"
    }
   ],
   "source": [
    "plot_history(history, 'loss')\n",
    "plot_history(history, 'accuracy')"
   ]
  },
  {
   "cell_type": "code",
   "execution_count": 47,
   "id": "0b153632-2899-4894-8414-e6aceaab6809",
   "metadata": {},
   "outputs": [],
   "source": [
    "EVAL_TRACES = 50000\n",
    "\n",
    "# tr_file = f'{constants.MSK_PC_TRACES_PATH}/D3-K7_round1_500MHz + Resampled.trs'\n",
    "eval_file = f'{constants.PC_TRACES_PATH}/D2-K0_500MHz + Resampled.trs'\n",
    "eval_indices = range(EVAL_TRACES)"
   ]
  },
  {
   "cell_type": "code",
   "execution_count": 48,
   "id": "7f79c6cd-64ce-4ca0-b6ed-ced2921f3719",
   "metadata": {},
   "outputs": [],
   "source": [
    "eval_gen = CustomDataGenerator(\n",
    "    tr_file,\n",
    "    eval_indices,\n",
    "    hp['batch_size'],\n",
    "    target,\n",
    "    n_classes,\n",
    "    byte_idx\n",
    ")"
   ]
  },
  {
   "cell_type": "code",
   "execution_count": 49,
   "id": "d43aa0f3-8b9f-487f-ad23-ddea6fc548d4",
   "metadata": {},
   "outputs": [
    {
     "name": "stdout",
     "output_type": "stream",
     "text": [
      "195/195 [==============================] - 3s 14ms/step - loss: 4.2366 - accuracy: 0.1299\n",
      "Attack Loss:     4.24\n",
      "Attack Accuracy: 12.99%\n"
     ]
    }
   ],
   "source": [
    "attack_loss, attack_acc = net.model.evaluate(eval_gen, verbose=1)\n",
    "\n",
    "print(f'Attack Loss:     {attack_loss:.2f}')\n",
    "print(f'Attack Accuracy: {(attack_acc*100):.2f}%')"
   ]
  },
  {
   "cell_type": "code",
   "execution_count": null,
   "id": "75bd008e-b9d1-460d-981e-5182791784e3",
   "metadata": {},
   "outputs": [],
   "source": []
  },
  {
   "cell_type": "markdown",
   "id": "e83d43ad-571b-4366-be29-65ed7d52f907",
   "metadata": {},
   "source": [
    "# CONSIDERATIONS"
   ]
  },
  {
   "cell_type": "markdown",
   "id": "1cacb195-d67d-40ea-92c2-13f6000cfe86",
   "metadata": {},
   "source": [
    "## New CustomDataGenerator used to get more traces for training without OOM\n",
    "## Single dev seems to have good performance in portability scenarios (13%)\n",
    "## Double dev seems not to enhance performance\n",
    "## Trying to extend CustomDataGenerator with multiple files efficiently"
   ]
  },
  {
   "cell_type": "code",
   "execution_count": 99,
   "id": "e704ba38-5b72-492c-8653-0cde0d75d21b",
   "metadata": {},
   "outputs": [
    {
     "name": "stderr",
     "output_type": "stream",
     "text": [
      "5000it [00:00, 6563.16it/s]\n"
     ]
    }
   ],
   "source": [
    "from contextlib import ExitStack\n",
    "from tqdm import tqdm\n",
    "\n",
    "N_KEYS = 10\n",
    "\n",
    "trace_files = [f'{constants.PC_TRACES_PATH}/D1-{k}_500MHz + Resampled.trs' \n",
    "               for k in list(constants.KEYS)[1:N_KEYS+1]]\n",
    "\n",
    "with ExitStack() as stack:\n",
    "    \n",
    "    tracesets = [stack.enter_context(trsfile.open(tr_file, 'r')) for tr_file in trace_files]\n",
    "    \n",
    "    count = 0\n",
    "    samples = []\n",
    "    plaintexts = []\n",
    "    keys = []\n",
    "    for x in tqdm(zip(*tracesets)):\n",
    "        if count < 5000:\n",
    "            samples.append([el.samples for el in x])\n",
    "            plaintexts.append([el.get_input() for el in x])\n",
    "            keys.append([el.get_key() for el in x])\n",
    "            count += 1\n",
    "        else:\n",
    "            break\n",
    "    \n",
    "    samples = np.vstack(samples)\n",
    "    plaintexts = np.vstack(plaintexts)\n",
    "    keys = np.vstack(keys)"
   ]
  },
  {
   "cell_type": "code",
   "execution_count": 100,
   "id": "3af81d6b-d672-46b1-ac29-a05a619d43cd",
   "metadata": {},
   "outputs": [
    {
     "data": {
      "text/plain": [
       "(50000, 1183)"
      ]
     },
     "execution_count": 100,
     "metadata": {},
     "output_type": "execute_result"
    }
   ],
   "source": [
    "samples.shape"
   ]
  },
  {
   "cell_type": "code",
   "execution_count": 101,
   "id": "daad83e3-df9c-4f76-8a46-c4886f4d7c2e",
   "metadata": {},
   "outputs": [
    {
     "data": {
      "text/plain": [
       "(50000, 16)"
      ]
     },
     "execution_count": 101,
     "metadata": {},
     "output_type": "execute_result"
    }
   ],
   "source": [
    "plaintexts.shape"
   ]
  },
  {
   "cell_type": "code",
   "execution_count": 104,
   "id": "116ef521-e82e-449b-a20b-2b57e3f5706c",
   "metadata": {},
   "outputs": [
    {
     "data": {
      "text/plain": [
       "(50000, 16)"
      ]
     },
     "execution_count": 104,
     "metadata": {},
     "output_type": "execute_result"
    }
   ],
   "source": [
    "keys.shape"
   ]
  },
  {
   "cell_type": "code",
   "execution_count": null,
   "id": "4f1c58bd-0ce1-47a7-b07b-48d2874333a4",
   "metadata": {},
   "outputs": [],
   "source": []
  }
 ],
 "metadata": {
  "kernelspec": {
   "display_name": ".dkta",
   "language": "python",
   "name": ".dkta"
  },
  "language_info": {
   "codemirror_mode": {
    "name": "ipython",
    "version": 3
   },
   "file_extension": ".py",
   "mimetype": "text/x-python",
   "name": "python",
   "nbconvert_exporter": "python",
   "pygments_lexer": "ipython3",
   "version": "3.8.10"
  }
 },
 "nbformat": 4,
 "nbformat_minor": 5
}
