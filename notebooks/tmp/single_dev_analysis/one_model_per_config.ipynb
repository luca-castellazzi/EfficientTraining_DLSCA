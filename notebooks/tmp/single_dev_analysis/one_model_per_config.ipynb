{
 "cells": [
  {
   "cell_type": "code",
   "execution_count": 1,
   "id": "13011f6f-e0c5-421d-98b8-23cda444da4d",
   "metadata": {},
   "outputs": [
    {
     "ename": "KeyboardInterrupt",
     "evalue": "",
     "output_type": "error",
     "traceback": [
      "\u001b[0;31m---------------------------------------------------------------------------\u001b[0m",
      "\u001b[0;31mKeyboardInterrupt\u001b[0m                         Traceback (most recent call last)",
      "Input \u001b[0;32mIn [1]\u001b[0m, in \u001b[0;36m<cell line: 11>\u001b[0;34m()\u001b[0m\n\u001b[1;32m      9\u001b[0m \u001b[38;5;28;01mfrom\u001b[39;00m \u001b[38;5;21;01mkeras\u001b[39;00m\u001b[38;5;21;01m.\u001b[39;00m\u001b[38;5;21;01mmodels\u001b[39;00m \u001b[38;5;28;01mimport\u001b[39;00m Sequential\n\u001b[1;32m     10\u001b[0m \u001b[38;5;28;01mfrom\u001b[39;00m \u001b[38;5;21;01mkeras\u001b[39;00m\u001b[38;5;21;01m.\u001b[39;00m\u001b[38;5;21;01mlayers\u001b[39;00m \u001b[38;5;28;01mimport\u001b[39;00m Dense, Dropout, BatchNormalization\n\u001b[0;32m---> 11\u001b[0m \u001b[38;5;28;01mfrom\u001b[39;00m \u001b[38;5;21;01mtensorflow\u001b[39;00m\u001b[38;5;21;01m.\u001b[39;00m\u001b[38;5;21;01mkeras\u001b[39;00m\u001b[38;5;21;01m.\u001b[39;00m\u001b[38;5;21;01moptimizers\u001b[39;00m \u001b[38;5;28;01mimport\u001b[39;00m SGD, Adam, RMSprop\n\u001b[1;32m     12\u001b[0m \u001b[38;5;28;01mfrom\u001b[39;00m \u001b[38;5;21;01mtensorflow\u001b[39;00m\u001b[38;5;21;01m.\u001b[39;00m\u001b[38;5;21;01mkeras\u001b[39;00m\u001b[38;5;21;01m.\u001b[39;00m\u001b[38;5;21;01mcallbacks\u001b[39;00m \u001b[38;5;28;01mimport\u001b[39;00m EarlyStopping, ReduceLROnPlateau\n\u001b[1;32m     13\u001b[0m \u001b[38;5;28;01mfrom\u001b[39;00m \u001b[38;5;21;01mtensorflow\u001b[39;00m\u001b[38;5;21;01m.\u001b[39;00m\u001b[38;5;21;01mkeras\u001b[39;00m\u001b[38;5;21;01m.\u001b[39;00m\u001b[38;5;21;01mregularizers\u001b[39;00m \u001b[38;5;28;01mimport\u001b[39;00m L1, L2, L1L2\n",
      "File \u001b[0;32m~/MDM32/mdm32_env/lib/python3.8/site-packages/keras/api/_v2/keras/__init__.py:9\u001b[0m, in \u001b[0;36m<module>\u001b[0;34m\u001b[0m\n\u001b[1;32m      6\u001b[0m \u001b[38;5;28;01mimport\u001b[39;00m \u001b[38;5;21;01msys\u001b[39;00m \u001b[38;5;28;01mas\u001b[39;00m \u001b[38;5;21;01m_sys\u001b[39;00m\n\u001b[1;32m      8\u001b[0m \u001b[38;5;28;01mfrom\u001b[39;00m \u001b[38;5;21;01mkeras\u001b[39;00m \u001b[38;5;28;01mimport\u001b[39;00m __version__\n\u001b[0;32m----> 9\u001b[0m \u001b[38;5;28;01mfrom\u001b[39;00m \u001b[38;5;21;01mkeras\u001b[39;00m\u001b[38;5;21;01m.\u001b[39;00m\u001b[38;5;21;01mapi\u001b[39;00m\u001b[38;5;21;01m.\u001b[39;00m\u001b[38;5;21;01m_v2\u001b[39;00m\u001b[38;5;21;01m.\u001b[39;00m\u001b[38;5;21;01mkeras\u001b[39;00m \u001b[38;5;28;01mimport\u001b[39;00m __internal__\n\u001b[1;32m     10\u001b[0m \u001b[38;5;28;01mfrom\u001b[39;00m \u001b[38;5;21;01mkeras\u001b[39;00m\u001b[38;5;21;01m.\u001b[39;00m\u001b[38;5;21;01mapi\u001b[39;00m\u001b[38;5;21;01m.\u001b[39;00m\u001b[38;5;21;01m_v2\u001b[39;00m\u001b[38;5;21;01m.\u001b[39;00m\u001b[38;5;21;01mkeras\u001b[39;00m \u001b[38;5;28;01mimport\u001b[39;00m activations\n\u001b[1;32m     11\u001b[0m \u001b[38;5;28;01mfrom\u001b[39;00m \u001b[38;5;21;01mkeras\u001b[39;00m\u001b[38;5;21;01m.\u001b[39;00m\u001b[38;5;21;01mapi\u001b[39;00m\u001b[38;5;21;01m.\u001b[39;00m\u001b[38;5;21;01m_v2\u001b[39;00m\u001b[38;5;21;01m.\u001b[39;00m\u001b[38;5;21;01mkeras\u001b[39;00m \u001b[38;5;28;01mimport\u001b[39;00m applications\n",
      "File \u001b[0;32m~/MDM32/mdm32_env/lib/python3.8/site-packages/keras/api/_v2/__init__.py:8\u001b[0m, in \u001b[0;36m<module>\u001b[0;34m\u001b[0m\n\u001b[1;32m      3\u001b[0m \u001b[38;5;124;03m\"\"\"Public API for tf. namespace.\u001b[39;00m\n\u001b[1;32m      4\u001b[0m \u001b[38;5;124;03m\"\"\"\u001b[39;00m\n\u001b[1;32m      6\u001b[0m \u001b[38;5;28;01mimport\u001b[39;00m \u001b[38;5;21;01msys\u001b[39;00m \u001b[38;5;28;01mas\u001b[39;00m \u001b[38;5;21;01m_sys\u001b[39;00m\n\u001b[0;32m----> 8\u001b[0m \u001b[38;5;28;01mfrom\u001b[39;00m \u001b[38;5;21;01mkeras\u001b[39;00m\u001b[38;5;21;01m.\u001b[39;00m\u001b[38;5;21;01mapi\u001b[39;00m\u001b[38;5;21;01m.\u001b[39;00m\u001b[38;5;21;01m_v2\u001b[39;00m \u001b[38;5;28;01mimport\u001b[39;00m keras\n",
      "File \u001b[0;32m~/MDM32/mdm32_env/lib/python3.8/site-packages/keras/api/_v2/keras/__init__.py:11\u001b[0m, in \u001b[0;36m<module>\u001b[0;34m\u001b[0m\n\u001b[1;32m      9\u001b[0m \u001b[38;5;28;01mfrom\u001b[39;00m \u001b[38;5;21;01mkeras\u001b[39;00m\u001b[38;5;21;01m.\u001b[39;00m\u001b[38;5;21;01mapi\u001b[39;00m\u001b[38;5;21;01m.\u001b[39;00m\u001b[38;5;21;01m_v2\u001b[39;00m\u001b[38;5;21;01m.\u001b[39;00m\u001b[38;5;21;01mkeras\u001b[39;00m \u001b[38;5;28;01mimport\u001b[39;00m __internal__\n\u001b[1;32m     10\u001b[0m \u001b[38;5;28;01mfrom\u001b[39;00m \u001b[38;5;21;01mkeras\u001b[39;00m\u001b[38;5;21;01m.\u001b[39;00m\u001b[38;5;21;01mapi\u001b[39;00m\u001b[38;5;21;01m.\u001b[39;00m\u001b[38;5;21;01m_v2\u001b[39;00m\u001b[38;5;21;01m.\u001b[39;00m\u001b[38;5;21;01mkeras\u001b[39;00m \u001b[38;5;28;01mimport\u001b[39;00m activations\n\u001b[0;32m---> 11\u001b[0m \u001b[38;5;28;01mfrom\u001b[39;00m \u001b[38;5;21;01mkeras\u001b[39;00m\u001b[38;5;21;01m.\u001b[39;00m\u001b[38;5;21;01mapi\u001b[39;00m\u001b[38;5;21;01m.\u001b[39;00m\u001b[38;5;21;01m_v2\u001b[39;00m\u001b[38;5;21;01m.\u001b[39;00m\u001b[38;5;21;01mkeras\u001b[39;00m \u001b[38;5;28;01mimport\u001b[39;00m applications\n\u001b[1;32m     12\u001b[0m \u001b[38;5;28;01mfrom\u001b[39;00m \u001b[38;5;21;01mkeras\u001b[39;00m\u001b[38;5;21;01m.\u001b[39;00m\u001b[38;5;21;01mapi\u001b[39;00m\u001b[38;5;21;01m.\u001b[39;00m\u001b[38;5;21;01m_v2\u001b[39;00m\u001b[38;5;21;01m.\u001b[39;00m\u001b[38;5;21;01mkeras\u001b[39;00m \u001b[38;5;28;01mimport\u001b[39;00m backend\n\u001b[1;32m     13\u001b[0m \u001b[38;5;28;01mfrom\u001b[39;00m \u001b[38;5;21;01mkeras\u001b[39;00m\u001b[38;5;21;01m.\u001b[39;00m\u001b[38;5;21;01mapi\u001b[39;00m\u001b[38;5;21;01m.\u001b[39;00m\u001b[38;5;21;01m_v2\u001b[39;00m\u001b[38;5;21;01m.\u001b[39;00m\u001b[38;5;21;01mkeras\u001b[39;00m \u001b[38;5;28;01mimport\u001b[39;00m callbacks\n",
      "File \u001b[0;32m~/MDM32/mdm32_env/lib/python3.8/site-packages/keras/api/_v2/keras/applications/__init__.py:13\u001b[0m, in \u001b[0;36m<module>\u001b[0;34m\u001b[0m\n\u001b[1;32m     11\u001b[0m \u001b[38;5;28;01mfrom\u001b[39;00m \u001b[38;5;21;01mkeras\u001b[39;00m\u001b[38;5;21;01m.\u001b[39;00m\u001b[38;5;21;01mapi\u001b[39;00m\u001b[38;5;21;01m.\u001b[39;00m\u001b[38;5;21;01m_v2\u001b[39;00m\u001b[38;5;21;01m.\u001b[39;00m\u001b[38;5;21;01mkeras\u001b[39;00m\u001b[38;5;21;01m.\u001b[39;00m\u001b[38;5;21;01mapplications\u001b[39;00m \u001b[38;5;28;01mimport\u001b[39;00m imagenet_utils\n\u001b[1;32m     12\u001b[0m \u001b[38;5;28;01mfrom\u001b[39;00m \u001b[38;5;21;01mkeras\u001b[39;00m\u001b[38;5;21;01m.\u001b[39;00m\u001b[38;5;21;01mapi\u001b[39;00m\u001b[38;5;21;01m.\u001b[39;00m\u001b[38;5;21;01m_v2\u001b[39;00m\u001b[38;5;21;01m.\u001b[39;00m\u001b[38;5;21;01mkeras\u001b[39;00m\u001b[38;5;21;01m.\u001b[39;00m\u001b[38;5;21;01mapplications\u001b[39;00m \u001b[38;5;28;01mimport\u001b[39;00m inception_resnet_v2\n\u001b[0;32m---> 13\u001b[0m \u001b[38;5;28;01mfrom\u001b[39;00m \u001b[38;5;21;01mkeras\u001b[39;00m\u001b[38;5;21;01m.\u001b[39;00m\u001b[38;5;21;01mapi\u001b[39;00m\u001b[38;5;21;01m.\u001b[39;00m\u001b[38;5;21;01m_v2\u001b[39;00m\u001b[38;5;21;01m.\u001b[39;00m\u001b[38;5;21;01mkeras\u001b[39;00m\u001b[38;5;21;01m.\u001b[39;00m\u001b[38;5;21;01mapplications\u001b[39;00m \u001b[38;5;28;01mimport\u001b[39;00m inception_v3\n\u001b[1;32m     14\u001b[0m \u001b[38;5;28;01mfrom\u001b[39;00m \u001b[38;5;21;01mkeras\u001b[39;00m\u001b[38;5;21;01m.\u001b[39;00m\u001b[38;5;21;01mapi\u001b[39;00m\u001b[38;5;21;01m.\u001b[39;00m\u001b[38;5;21;01m_v2\u001b[39;00m\u001b[38;5;21;01m.\u001b[39;00m\u001b[38;5;21;01mkeras\u001b[39;00m\u001b[38;5;21;01m.\u001b[39;00m\u001b[38;5;21;01mapplications\u001b[39;00m \u001b[38;5;28;01mimport\u001b[39;00m mobilenet\n\u001b[1;32m     15\u001b[0m \u001b[38;5;28;01mfrom\u001b[39;00m \u001b[38;5;21;01mkeras\u001b[39;00m\u001b[38;5;21;01m.\u001b[39;00m\u001b[38;5;21;01mapi\u001b[39;00m\u001b[38;5;21;01m.\u001b[39;00m\u001b[38;5;21;01m_v2\u001b[39;00m\u001b[38;5;21;01m.\u001b[39;00m\u001b[38;5;21;01mkeras\u001b[39;00m\u001b[38;5;21;01m.\u001b[39;00m\u001b[38;5;21;01mapplications\u001b[39;00m \u001b[38;5;28;01mimport\u001b[39;00m mobilenet_v2\n",
      "File \u001b[0;32m<frozen importlib._bootstrap>:991\u001b[0m, in \u001b[0;36m_find_and_load\u001b[0;34m(name, import_)\u001b[0m\n",
      "File \u001b[0;32m<frozen importlib._bootstrap>:975\u001b[0m, in \u001b[0;36m_find_and_load_unlocked\u001b[0;34m(name, import_)\u001b[0m\n",
      "File \u001b[0;32m<frozen importlib._bootstrap>:671\u001b[0m, in \u001b[0;36m_load_unlocked\u001b[0;34m(spec)\u001b[0m\n",
      "File \u001b[0;32m<frozen importlib._bootstrap_external>:844\u001b[0m, in \u001b[0;36mexec_module\u001b[0;34m(self, module)\u001b[0m\n",
      "File \u001b[0;32m<frozen importlib._bootstrap_external>:939\u001b[0m, in \u001b[0;36mget_code\u001b[0;34m(self, fullname)\u001b[0m\n",
      "File \u001b[0;32m<frozen importlib._bootstrap_external>:1037\u001b[0m, in \u001b[0;36mget_data\u001b[0;34m(self, path)\u001b[0m\n",
      "\u001b[0;31mKeyboardInterrupt\u001b[0m: "
     ]
    }
   ],
   "source": [
    "# Basics\n",
    "import numpy as np\n",
    "from tqdm import tqdm\n",
    "import random\n",
    "import time\n",
    "from datetime import datetime\n",
    "import json\n",
    "from sklearn.model_selection import KFold\n",
    "from keras.models import Sequential\n",
    "from keras.layers import Dense, Dropout, BatchNormalization\n",
    "from tensorflow.keras.optimizers import SGD, Adam, RMSprop\n",
    "from tensorflow.keras.callbacks import EarlyStopping, ReduceLROnPlateau\n",
    "from tensorflow.keras.regularizers import L1, L2, L1L2\n",
    "from tensorflow.keras.backend import clear_session\n",
    "import matplotlib.pyplot as plt \n",
    "from sklearn.preprocessing import StandardScaler\n",
    "\n",
    "# Custom\n",
    "import sys\n",
    "sys.path.insert(0, '../../src/utils')\n",
    "from data_loader import DataLoader\n",
    "import constants\n",
    "sys.path.insert(0, '../../src/modeling')\n",
    "from network import Network\n",
    "import evaluation as ev\n",
    "\n",
    "# Suppress TensorFlow messages\n",
    "import os\n",
    "os.environ['TF_CPP_MIN_LOG_LEVEL'] = '1' # 1 for INFO, 2 for INFO & WARNINGs, 3 for INFO & WARNINGs & ERRORs"
   ]
  },
  {
   "cell_type": "code",
   "execution_count": null,
   "id": "b42eda10-9b7f-4d0e-bf6b-9292136a7f47",
   "metadata": {},
   "outputs": [],
   "source": [
    "def create_model(hp):\n",
    "    \n",
    "    model = Sequential()\n",
    "    \n",
    "    # Input\n",
    "    model.add(Dense(\n",
    "        constants.TRACE_LEN,\n",
    "        activation='relu')\n",
    "    )\n",
    "\n",
    "    # First BatchNorm\n",
    "    model.add(BatchNormalization())\n",
    "\n",
    "    # Hidden\n",
    "    for _ in range(hp['hidden_layers']):\n",
    "        model.add(Dense(\n",
    "            hp['hidden_neurons'],\n",
    "            # kernel_regularizer=L2(1e-4),\n",
    "            activation='relu')\n",
    "        )\n",
    "\n",
    "        # Dropout\n",
    "        # model.add(Dropout(hp['dropout_rate']))\n",
    "\n",
    "    # Second BatchNorm\n",
    "    # model.add(BatchNormalization())\n",
    "\n",
    "    # Output\n",
    "    model.add(Dense(256, activation='softmax'))\n",
    "    \n",
    "    # Compilation\n",
    "    lr = hp['learning_rate']\n",
    "    if hp['optimizer'] == 'sgd':\n",
    "        opt = SGD(learning_rate=lr)\n",
    "    elif hp['optimizer'] == 'adam':\n",
    "        opt = Adam(learning_rate=lr)\n",
    "    else:\n",
    "        opt = RMSprop(learning_rate=lr)\n",
    "    \n",
    "    model.compile(\n",
    "        optimizer=opt,\n",
    "        loss='categorical_crossentropy',\n",
    "        metrics=['accuracy']\n",
    "    )\n",
    "    \n",
    "    return model"
   ]
  },
  {
   "cell_type": "code",
   "execution_count": 3,
   "id": "ea181714-0117-44b1-b20c-a849c025ff22",
   "metadata": {},
   "outputs": [],
   "source": [
    "HP = {\n",
    "    'hidden_layers':      [3, 4, 5, 6],\n",
    "    'hidden_neurons':     [300, 500, 700],\n",
    "    # 'dropout_rate':       0.5,\n",
    "    'optimizer':          ['adam', 'rmsprop'],\n",
    "    'learning_rate':      [1e-5, 1e-4, 1e-5, 1e-6],\n",
    "    'batch_size':         [256, 512, 1024]\n",
    "}\n",
    "\n",
    "callbacks = []\n",
    "\n",
    "callbacks.append(EarlyStopping(\n",
    "    monitor='val_loss', \n",
    "    patience=35))\n",
    "\n",
    "callbacks.append(ReduceLROnPlateau(\n",
    "    monitor='val_loss',\n",
    "    factor=0.2,\n",
    "    patience=10,\n",
    "    min_lr=1e-8))"
   ]
  },
  {
   "cell_type": "code",
   "execution_count": 4,
   "id": "0efa292f-c9c8-4fdd-a530-1a1104f5972a",
   "metadata": {},
   "outputs": [],
   "source": [
    "# # PLOT_HISTORY FUNCTION\n",
    "# def plot_history(history, i):\n",
    "#     f, ax = plt.subplots(2, 1, figsize=(10,12))\n",
    "    \n",
    "#     ax[0].plot(history['loss'], label='train_loss')\n",
    "#     ax[0].plot(history['val_loss'], label='val_loss')\n",
    "#     ax[0].axhline(y=history['loss'][-1], ls='--', linewidth=0.5)\n",
    "#     ax[0].axhline(y=history['val_loss'][-1], ls='--', linewidth=0.5)\n",
    "#     ax[0].set_title('Train-Loss vs Val-Loss')\n",
    "#     ax[0].set_ylabel('Loss')\n",
    "#     ax[0].set_xlabel('Epochs')\n",
    "    \n",
    "#     ax[1].plot(history['accuracy'], label='train_acc')\n",
    "#     ax[1].plot(history['val_accuracy'], label='val_acc')\n",
    "#     ax[1].axhline(y=history['accuracy'][-1], ls='--', linewidth=0.5)\n",
    "#     ax[1].axhline(y=history['val_accuracy'][-1], ls='--', linewidth=0.5)\n",
    "#     ax[1].set_title('Train-Acc vs Val-Acc')\n",
    "#     ax[1].set_ylabel('Acc')\n",
    "#     ax[1].set_xlabel('Epochs')\n",
    "      \n",
    "#     plt.show()\n",
    "#     # f.savefig(\n",
    "#     #     f'./train_history_{i}keys.png', \n",
    "#     #     bbox_inches='tight', \n",
    "#     #     dpi=100\n",
    "#     # )"
   ]
  },
  {
   "cell_type": "code",
   "execution_count": 5,
   "id": "2bc93450-bb5a-45d0-9ed0-97f3573bc19a",
   "metadata": {},
   "outputs": [],
   "source": [
    "# def save_results(ge, test_config, score, i):\n",
    "\n",
    "#     ge_dict = {f'{j+1}traces': el for j, el in enumerate(ge)}\n",
    "#     ge_dict['test_config'] = test_config\n",
    "#     ge_dict['score'] = score\n",
    "#     ge_df = pd.DataFrame(ge_dict, index=[0])\n",
    "        \n",
    "#     if f'res_{i}keys.csv' not in os.listdir('./'):\n",
    "#         ge_df.to_csv(f'./res_{i}keys.csv', index=False)\n",
    "#     else:\n",
    "#         df = pd.read_csv(f'./res_{i}keys.csv')\n",
    "#         df = pd.concat([df, ge_df]).reset_index(drop=True)\n",
    "#         df.to_csv(f'./res_{i}keys.csv', index=False)\n",
    "        \n",
    "\n",
    "# def plot_ge_per_trainConfig(ges, scores, test_configs, n, i):\n",
    "        \n",
    "#     # Get the colorset\n",
    "#     cmap = plt.cm.jet # Google Turbo\n",
    "#     colors = cmap(range(0, cmap.N, int(cmap.N/len(ges))))\n",
    "    \n",
    "#     # Plot\n",
    "#     f, ax = plt.subplots(figsize=(10,5))\n",
    "#     ax.plot(np.zeros(n), color='r', ls='--', linewidth=0.5)\n",
    "\n",
    "#     for i, ge in enumerate(ges):\n",
    "#         if n <= 100:\n",
    "#             ax.plot(ge[:n], label=f'vs{test_configs[i]}', color=colors[i], marker='o')\n",
    "#             ax.set_xticks(range(n), labels=range(1, n+1))\n",
    "#             ax.grid()\n",
    "#         else:\n",
    "#             ax.plot(ge[:n], label=test_configs[i], color=colors[i])\n",
    "#         ax.legend()\n",
    "#         ax.set_title(f'Train config: #dev={len(train_devs)}, #keys={i}')\n",
    "#         ax.set_xlabel('Number of traces')\n",
    "#         ax.set_ylabel('GE')\n",
    "\n",
    "#     # plt.show()\n",
    "#     f.savefig(\n",
    "#         f'./GE_{n}_{i}keys.png', \n",
    "#         bbox_inches='tight', \n",
    "#         dpi=100)\n",
    "    \n",
    "        \n",
    "        \n",
    "# def plot_results(ge_test_traces, i):\n",
    "\n",
    "#     df = pd.read_csv(f'./res_{i}keys.csv')\n",
    "#     ges = df.loc[:, :f'{ge_test_traces}traces'].values\n",
    "#     test_configs = list(df['test_config'])\n",
    "#     scores = list(df['score'])\n",
    "\n",
    "#     # plot_ge_per_trainConfig(ges, scores, test_configs, int(ge_test_traces/2), i)\n",
    "#     plot_ge_per_trainConfig(ges, scores, test_configs, ge_test_traces, i)"
   ]
  },
  {
   "cell_type": "code",
   "execution_count": 21,
   "id": "bda2442a-c96d-4de6-98ca-11b7a13e4770",
   "metadata": {},
   "outputs": [
    {
     "name": "stdout",
     "output_type": "stream",
     "text": [
      "==============  Config: ['D1-K1']  ==============\n",
      "Model_0: 0.0046\n",
      "Model_1: 0.1595\n",
      "Model_2: 0.0185\n",
      "Model_3: 0.1573\n",
      "Model_4: 0.1687\n",
      "Best Val Acc for ['D1-K1']: 0.1687\n",
      "Best hp:\n",
      "{'hidden_layers': 4, 'hidden_neurons': 300, 'optimizer': 'adam', 'learning_rate': 0.0001, 'batch_size': 256}\n",
      "Test dev: D2\n",
      "\n",
      "==============  Config: ['D2-K2']  ==============\n",
      "Model_0: 0.0970\n",
      "Model_1: 0.0086\n",
      "Model_2: 0.0912\n",
      "Model_3: 0.0988\n",
      "Model_4: 0.1236\n",
      "Best Val Acc for ['D2-K2']: 0.1236\n",
      "Best hp:\n",
      "{'hidden_layers': 4, 'hidden_neurons': 300, 'optimizer': 'adam', 'learning_rate': 1e-05, 'batch_size': 256}\n",
      "Test dev: D3\n",
      "\n",
      "==============  Config: ['D3-K3']  ==============\n",
      "Model_0: 0.1296\n",
      "Model_1: 0.0294\n",
      "Model_2: 0.0895\n",
      "Model_3: 0.0141\n",
      "Model_4: 0.0964\n",
      "Best Val Acc for ['D3-K3']: 0.1296\n",
      "Best hp:\n",
      "{'hidden_layers': 3, 'hidden_neurons': 300, 'optimizer': 'adam', 'learning_rate': 0.0001, 'batch_size': 512}\n",
      "Test dev: D1\n",
      "\n"
     ]
    }
   ],
   "source": [
    "N_MODELS = 5\n",
    "BYTE_IDX = 0\n",
    "GE_TEST_TRACES = 10\n",
    "EPOCHS = 100\n",
    "\n",
    "CONFIGS = [['D1-K1'], ['D2-K2'], ['D3-K3']]\n",
    "TARGETS = ['D2', 'D3', 'D1'] \n",
    "\n",
    "ges = []\n",
    "for i, config in enumerate(CONFIGS):\n",
    "    \n",
    "    print(f'==============  Config: {config}  ==============')\n",
    "    \n",
    "    train_paths = [constants.CURR_DATASETS_PATH + f'/SBOX_OUT/{c}_train.json' for c in config]\n",
    "    val_paths = [constants.CURR_DATASETS_PATH + f'/SBOX_OUT/{c}_test.json' for c in config]\n",
    "\n",
    "    train_dl = DataLoader(train_paths, BYTE_IDX)\n",
    "    x_train, y_train, _, _ = train_dl.load_data()\n",
    "    # scaler = StandardScaler()\n",
    "    # x_train = scaler.fit_transform(x_train)\n",
    "\n",
    "    val_dl = DataLoader(val_paths, BYTE_IDX)\n",
    "    x_val, y_val, _, _ = val_dl.load_data()\n",
    "    \n",
    "    res = []\n",
    "    for m in range(N_MODELS):\n",
    "        random_hp = {k: random.choice(HP[k]) for k in HP.keys()}\n",
    "        model = create_model(random_hp)\n",
    "        history = model.fit(\n",
    "            x_train, \n",
    "            y_train, \n",
    "            validation_data=(x_val, y_val),\n",
    "            epochs=EPOCHS,\n",
    "            batch_size=random_hp['batch_size'],\n",
    "            callbacks=callbacks,\n",
    "            verbose=0\n",
    "        )\n",
    "        \n",
    "        _, val_acc = model.evaluate(x_val, y_val, verbose=0)\n",
    "        print(f'Model_{m}: {val_acc:.4f}')\n",
    "        \n",
    "        res.append((random_hp, val_acc))\n",
    "        \n",
    "    res.sort(key=lambda x: x[1], reverse=True)\n",
    "    \n",
    "    best_hp, best_val_acc = res[0]\n",
    "    print(f'Best Val Acc for {config}: {best_val_acc:.4f}')\n",
    "    print('Best hp:')\n",
    "    print(best_hp)\n",
    "    \n",
    "    attack_model = create_model(best_hp)\n",
    "    attack_model.fit(\n",
    "        np.concatenate((x_train, x_val), axis=0),\n",
    "        np.concatenate((y_train, y_val), axis=0),\n",
    "        epochs=EPOCHS,\n",
    "        batch_size=best_hp['batch_size'],\n",
    "        verbose=0\n",
    "    )\n",
    "        \n",
    "    test_dev = TARGETS[i]\n",
    "    print(f'Test dev: {test_dev}')\n",
    "    test_path = constants.CURR_DATASETS_PATH + f'/SBOX_OUT/{test_dev}-K0_test.json'\n",
    "    test_dl = DataLoader([test_path], BYTE_IDX)\n",
    "    \n",
    "    # ge = ev.guessing_entropy(\n",
    "    #     attack_model,\n",
    "    #     test_dl=test_dl,\n",
    "    #     n_exp=100,\n",
    "    #     n_traces=GE_TEST_TRACES)\n",
    "    \n",
    "    ge = ev.NEW_guessing_entropy(\n",
    "        attack_model,\n",
    "        test_dl=test_dl,\n",
    "        n_exp=100,\n",
    "        n_traces=GE_TEST_TRACES)\n",
    "\n",
    "    # score = ev.ge_score(ge, 5)\n",
    "    # print(f'Attack Score for {config}: {score}')\n",
    "\n",
    "#     save_results(ge, test_config, score, i)\n",
    "    \n",
    "#     plot_results(GE_TEST_TRACES, i)\n",
    "\n",
    "    ges.append(ge)\n",
    "    \n",
    "    clear_session()\n",
    "    print()"
   ]
  },
  {
   "cell_type": "code",
   "execution_count": 22,
   "id": "eb94329f-6ef9-4343-a2c3-7bda61167684",
   "metadata": {},
   "outputs": [
    {
     "data": {
      "image/png": "[encoded data removed]",
      "text/plain": [
       "<Figure size 432x288 with 1 Axes>"
      ]
     },
     "metadata": {
      "needs_background": "light"
     },
     "output_type": "display_data"
    }
   ],
   "source": [
    "plt.plot(np.zeros(10), color='r', ls='--')\n",
    "\n",
    "for i, ge in enumerate(ges):\n",
    "    plt.plot(ge, label=f'{i}', marker='o')\n",
    "\n",
    "plt.grid()\n",
    "plt.legend()\n",
    "plt.show()"
   ]
  },
  {
   "cell_type": "code",
   "execution_count": 23,
   "id": "58f9fb8c-7e34-4a35-97e3-ea93c6915c76",
   "metadata": {},
   "outputs": [
    {
     "data": {
      "image/png": "[encoded data removed]",
      "text/plain": [
       "<Figure size 432x288 with 1 Axes>"
      ]
     },
     "metadata": {
      "needs_background": "light"
     },
     "output_type": "display_data"
    }
   ],
   "source": [
    "ges = np.array(ges)\n",
    "avg_ge = np.mean(ges, axis=0)\n",
    "\n",
    "plt.plot(np.zeros(10), color='r', ls='--')\n",
    "plt.plot(avg_ge, marker='o')\n",
    "plt.show()"
   ]
  },
  {
   "cell_type": "code",
   "execution_count": null,
   "id": "a58ba808-a3a9-4e85-a1e0-b0e69877192b",
   "metadata": {},
   "outputs": [],
   "source": []
  },
  {
   "cell_type": "code",
   "execution_count": null,
   "id": "22dae091-e342-47fa-89e7-73a97e2d30c6",
   "metadata": {},
   "outputs": [],
   "source": []
  },
  {
   "cell_type": "code",
   "execution_count": null,
   "id": "7b6e040d-4bde-42a5-9d74-795463eb159c",
   "metadata": {},
   "outputs": [],
   "source": []
  },
  {
   "cell_type": "code",
   "execution_count": null,
   "id": "5140784b-3133-4e82-866a-61fe7bfcccce",
   "metadata": {},
   "outputs": [],
   "source": []
  },
  {
   "cell_type": "code",
   "execution_count": 18,
   "id": "976d9f8b-865d-4525-805d-792dace7e747",
   "metadata": {},
   "outputs": [
    {
     "data": {
      "image/png": "[encoded data removed]",
      "text/plain": [
       "<Figure size 432x288 with 1 Axes>"
      ]
     },
     "metadata": {
      "needs_background": "light"
     },
     "output_type": "display_data"
    }
   ],
   "source": [
    "##### GEs for D1-K1, D2-K2, D3-K3, old GE function #####"
   ]
  },
  {
   "cell_type": "code",
   "execution_count": 19,
   "id": "32cc44b8-28fa-4d72-8cb8-a490695cdbe0",
   "metadata": {},
   "outputs": [
    {
     "data": {
      "image/png": "[encoded data removed]",
      "text/plain": [
       "<Figure size 432x288 with 1 Axes>"
      ]
     },
     "metadata": {
      "needs_background": "light"
     },
     "output_type": "display_data"
    }
   ],
   "source": [
    "##### Avg GE for D1-K1, D2-K2, D3-K3, old GE funcion #####"
   ]
  },
  {
   "cell_type": "code",
   "execution_count": null,
   "id": "84cfc58f-c802-436a-8317-f8a52509d147",
   "metadata": {},
   "outputs": [],
   "source": []
  }
 ],
 "metadata": {
  "kernelspec": {
   "display_name": "mdm32_env",
   "language": "python",
   "name": "mdm32_env"
  },
  "language_info": {
   "codemirror_mode": {
    "name": "ipython",
    "version": 3
   },
   "file_extension": ".py",
   "mimetype": "text/x-python",
   "name": "python",
   "nbconvert_exporter": "python",
   "pygments_lexer": "ipython3",
   "version": "3.8.10"
  }
 },
 "nbformat": 4,
 "nbformat_minor": 5
}
