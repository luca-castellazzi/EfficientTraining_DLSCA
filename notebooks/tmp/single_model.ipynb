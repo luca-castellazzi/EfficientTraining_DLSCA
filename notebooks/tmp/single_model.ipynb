{
 "cells": [
  {
   "cell_type": "code",
   "execution_count": 1,
   "id": "9026ec1d-d573-4f03-a54a-1fcb24c3f3ff",
   "metadata": {},
   "outputs": [],
   "source": [
    "# Basics\n",
    "import numpy as np\n",
    "import matplotlib.pyplot as plt\n",
    "from tqdm import tqdm\n",
    "import random\n",
    "\n",
    "# TensorFlow/Keras\n",
    "from tensorflow import keras\n",
    "from tensorflow.keras.optimizers import SGD, Adam, RMSprop\n",
    "from keras.models import Sequential\n",
    "from keras.layers import Dense, Dropout, BatchNormalization, Conv1D, MaxPool1D, Flatten\n",
    "\n",
    "# sklearn\n",
    "from sklearn.model_selection import KFold\n",
    "\n",
    "# Custom\n",
    "import sys\n",
    "sys.path.insert(0, '../src/utils')\n",
    "from data_loader import DataLoader\n",
    "import constants\n",
    "sys.path.insert(0, '../src/modeling')\n",
    "from network import Network\n",
    "from evaluator import Evaluator\n",
    "\n",
    "# Suppress TensorFlow messages\n",
    "import os\n",
    "os.environ['TF_CPP_MIN_LOG_LEVEL'] = '1' # 1 for INFO, 2 for INFO & WARNINGs, 3 for INFO & WARNINGs & ERRORs"
   ]
  },
  {
   "cell_type": "code",
   "execution_count": 2,
   "id": "4653d645-484f-4272-8b8e-562bf8c42ba1",
   "metadata": {},
   "outputs": [
    {
     "name": "stdout",
     "output_type": "stream",
     "text": [
      "Loading the dataset... \n",
      "Dataset successfully loaded (55.35 seconds).\n"
     ]
    }
   ],
   "source": [
    "BYTE_IDX = 0\n",
    "# N_CLASSES = 256 ############# look at to_categorical of DataLoader if something goes wrong\n",
    "\n",
    "train_dl = DataLoader('/prj/side_channel/PinataTraces/datasets/SBOX_OUT/D1-K1.json', BYTE_IDX)\n",
    "x_train, y_train = train_dl.gen_train() # Default 80% train (40,000 train traces)"
   ]
  },
  {
   "cell_type": "code",
   "execution_count": 162,
   "id": "2be13de2-7a22-4ba4-8f64-6e0995364590",
   "metadata": {},
   "outputs": [],
   "source": [
    "def MLP(hp):\n",
    "    model = Sequential()\n",
    "    \n",
    "    # Input\n",
    "    model.add(Dense(constants.TRACE_LEN,\n",
    "                    kernel_initializer=hp['kernel_initializer'],\n",
    "                    activation=hp['activation']))\n",
    "\n",
    "    # First BatchNorm\n",
    "    model.add(BatchNormalization())\n",
    "\n",
    "    # Hidden\n",
    "    for _ in range(hp['hidden_layers']):\n",
    "        model.add(Dense(hp['hidden_neurons'],\n",
    "                        kernel_initializer=hp['kernel_initializer'],\n",
    "                        activation=hp['activation']))\n",
    "\n",
    "        # Dropout\n",
    "        model.add(Dropout(hp['dropout_rate']))\n",
    "        \n",
    "        # model.add(BatchNormalization())\n",
    "\n",
    "    # Second BatchNorm\n",
    "    model.add(BatchNormalization())\n",
    "\n",
    "    # Output\n",
    "    model.add(Dense(256, activation='softmax')) ########################### 256 to be changed if the target is changed (HW, ...)\n",
    "\n",
    "    # Compilation\n",
    "    model.compile(optimizer=hp['optimizer'](learning_rate=hp['learning_rate']),\n",
    "                  loss='categorical_crossentropy',\n",
    "                  metrics=['accuracy'])\n",
    "    \n",
    "    return model\n",
    "\n",
    "\n",
    "def CNN(hp, input_shape):\n",
    "    model = Sequential()\n",
    "    \n",
    "    model.add(Conv1D(filters=8, \n",
    "                     kernel_size=16, \n",
    "                     activation='relu',\n",
    "                     kernel_initializer='random_uniform',\n",
    "                     input_shape=input_shape))\n",
    "    model.add(Dropout(0.2))\n",
    "    model.add(MaxPool1D(pool_size=2))\n",
    "    \n",
    "    for _ in range(3):\n",
    "        model.add(Conv1D(filters=16, \n",
    "                         kernel_size=8, \n",
    "                         kernel_initializer='random_uniform',\n",
    "                         activation='relu'))\n",
    "        model.add(Dropout(0.2))\n",
    "        # model.add(MaxPool1D(pool_size=2))\n",
    "    \n",
    "    model.add(Flatten())\n",
    "    \n",
    "    for _ in range(5):\n",
    "        model.add(Dense(150, activation='relu'))\n",
    "        \n",
    "    model.add(Dense(256, activation='softmax'))\n",
    "    \n",
    "    model.compile(optimizer=Adam(learning_rate=1e-4),\n",
    "                  loss='categorical_crossentropy',\n",
    "                  metrics=['accuracy'])\n",
    "    \n",
    "    return model"
   ]
  },
  {
   "cell_type": "code",
   "execution_count": 163,
   "id": "f2e357fb-8d28-4720-b27f-0a7385393ede",
   "metadata": {},
   "outputs": [],
   "source": [
    "mlp_hp = {'kernel_initializer': 'random_uniform',\n",
    "          'activation':         'relu',\n",
    "          'hidden_layers':      5,\n",
    "          'hidden_neurons':     500,\n",
    "          'dropout_rate':       0.1,\n",
    "          'optimizer':          RMSprop,\n",
    "          'learning_rate':      1e-3,\n",
    "          'batch_size':         100} \n",
    "\n",
    "cnn_hp = {}\n",
    "\n",
    "mlp = MLP(mlp_hp)\n",
    "\n",
    "cnn_input_shape = (1237, 1) # number of steps of the time series (1237, the number of samples) x number of represented quantities in the time series (1, only the trace signal)\n",
    "cnn = CNN(cnn_hp, cnn_input_shape)"
   ]
  },
  {
   "cell_type": "code",
   "execution_count": 164,
   "id": "3c07b413-41f8-425e-97b1-a3ab2c2b1056",
   "metadata": {},
   "outputs": [],
   "source": [
    "from tensorflow.keras.callbacks import EarlyStopping, ReduceLROnPlateau\n",
    "\n",
    "callbacks = []\n",
    "# callbacks.append(EarlyStopping(monitor='val_loss', \n",
    "#                                patience=12))\n",
    "# callbacks.append(ReduceLROnPlateau(monitor='val_loss',\n",
    "#                                    factor=0.2,\n",
    "#                                    patience=5,\n",
    "#                                    min_lr=1e-7))"
   ]
  },
  {
   "cell_type": "code",
   "execution_count": null,
   "id": "651a24ae-e11f-4e38-b7e6-4e44dad71fc6",
   "metadata": {},
   "outputs": [],
   "source": [
    "x_t = x_train[:37000]\n",
    "y_t = y_train[:37000]\n",
    "\n",
    "x_v = x_train[37000:]\n",
    "y_v = y_train[37000:]\n",
    "\n",
    "# mlp_history = mlp.fit(x_t, \n",
    "#                       y_t,\n",
    "#                       validation_data=(x_v, y_v),\n",
    "#                       epochs=50,\n",
    "#                       batch_size=mlp_hp['batch_size'],\n",
    "#                       callbacks=callbacks,\n",
    "#                       verbose=1).history\n",
    "\n",
    "cnn_history = cnn.fit(x_t, \n",
    "                      y_t,\n",
    "                      validation_data=(x_v, y_v),\n",
    "                      epochs=100,\n",
    "                      batch_size=370,\n",
    "                      callbacks=callbacks,\n",
    "                      verbose=1).history"
   ]
  },
  {
   "cell_type": "code",
   "execution_count": 166,
   "id": "79cb0eee-54e6-41f3-a24e-83d395e6305c",
   "metadata": {},
   "outputs": [
    {
     "data": {
      "image/png": "[encoded data removed]",
      "text/plain": [
       "<Figure size 432x288 with 1 Axes>"
      ]
     },
     "metadata": {
      "needs_background": "light"
     },
     "output_type": "display_data"
    }
   ],
   "source": [
    "plt.plot(cnn_history['loss'], label='train_loss')\n",
    "plt.plot(cnn_history['val_loss'], label='val_loss')\n",
    "plt.legend()\n",
    "plt.show()"
   ]
  },
  {
   "cell_type": "code",
   "execution_count": 167,
   "id": "6b79f461-d0a2-4ec1-b7a8-0778d9debe28",
   "metadata": {},
   "outputs": [
    {
     "data": {
      "image/png": "[encoded data removed]",
      "text/plain": [
       "<Figure size 432x288 with 1 Axes>"
      ]
     },
     "metadata": {
      "needs_background": "light"
     },
     "output_type": "display_data"
    }
   ],
   "source": [
    "plt.plot(cnn_history['accuracy'], label='train_acc')\n",
    "plt.plot(cnn_history['val_accuracy'], label='val_acc')\n",
    "plt.legend()\n",
    "plt.show()"
   ]
  },
  {
   "cell_type": "code",
   "execution_count": null,
   "id": "2f7ec00c-376f-472b-931b-de98d5800274",
   "metadata": {},
   "outputs": [],
   "source": []
  },
  {
   "cell_type": "code",
   "execution_count": null,
   "id": "e7b40541-2db7-4d35-8b4e-281f6abb67e0",
   "metadata": {},
   "outputs": [],
   "source": []
  },
  {
   "cell_type": "code",
   "execution_count": null,
   "id": "ffd78b2a-f4e6-494c-99ad-bafbf0f79807",
   "metadata": {},
   "outputs": [],
   "source": []
  },
  {
   "cell_type": "code",
   "execution_count": null,
   "id": "22594330-6238-4556-ae47-483a1648d1f5",
   "metadata": {
    "tags": []
   },
   "outputs": [],
   "source": [
    "from evaluator import Evaluator\n",
    "\n",
    "ges = []\n",
    "\n",
    "for i, device in enumerate(constants.DEVICES):\n",
    "    for j, key in enumerate(constants.KEYS):\n",
    "        \n",
    "        print(f'----- {device}-{key} -----')\n",
    "        \n",
    "        if device == 'D1' and key == 'K1':\n",
    "            path = '/prj/side_channel/PinataTraces/datasets/SBOX_OUT/D1-K1.json'\n",
    "        else:\n",
    "            path = f'/prj/side_channel/PinataTraces/datasets/SBOX_OUT/{device}-{key}.json'\n",
    "\n",
    "        test_dl = DataLoader(path, BYTE_IDX)\n",
    "        x_test, y_test, pltxt_test = test_dl.gen_test()\n",
    "        true_key_byte = test_dl.get_true_key_byte()\n",
    "        \n",
    "        evaluator = Evaluator(x_test, pltxt_test, true_key_byte, 'MLP')\n",
    "\n",
    "        ge = evaluator.guessing_entropy(n_exp=10,\n",
    "                                        hp=hp,\n",
    "                                        x_train=x_train,\n",
    "                                        y_train=y_train,\n",
    "                                        epochs=200)\n",
    "        \n",
    "        ges.append(ge)\n",
    "        \n",
    "        print()\n",
    "\n",
    "ges = np.array(ges)"
   ]
  },
  {
   "cell_type": "code",
   "execution_count": null,
   "id": "aa201e55-b790-4690-89a2-76b0da71f854",
   "metadata": {},
   "outputs": [],
   "source": [
    "N = 30\n",
    "\n",
    "f, ax = plt.subplots(figsize=(15,10))\n",
    "\n",
    "device = 1\n",
    "for i, ge in enumerate(ges):\n",
    "    \n",
    "    key = i % 3\n",
    "    \n",
    "    ax.plot(ge[:N], marker='o', label=f'D{device}-K{key+1}')\n",
    "    ax.set_title('Training Config: D1-K1')\n",
    "    ax.set_xlabel('Number of Traces')\n",
    "    ax.set_ylabel('Guessing Entropy')\n",
    "    ax.grid()\n",
    "    _ = ax.set_xticks(range(N))\n",
    "    \n",
    "    if key == 2:\n",
    "        device += 1\n",
    "\n",
    "plt.plot(np.zeros(N), color='r', ls='--')\n",
    "plt.grid()\n",
    "plt.legend()\n",
    "plt.show()"
   ]
  },
  {
   "cell_type": "code",
   "execution_count": null,
   "id": "1b1b22ae-fe98-478c-b45e-a5b33b15ed24",
   "metadata": {},
   "outputs": [],
   "source": [
    "import matplotlib.colors as colors\n",
    "\n",
    "N = 50\n",
    "\n",
    "f, ax = plt.subplots(len(constants.DEVICES), len(constants.KEYS), figsize=(30,15))\n",
    "\n",
    "row = 0\n",
    "for i, ge in enumerate(ges):\n",
    "    \n",
    "    col = i % 3\n",
    "    \n",
    "    ax[row, col].plot(ge[:N], marker='o', color=list(colors.TABLEAU_COLORS.keys())[i])\n",
    "    ax[row, col].set_title(f'D{row+1}-K{col+1}')\n",
    "    ax[row, col].set_xlabel('Number of Traces')\n",
    "    ax[row, col].set_ylabel('Guessing Entropy')\n",
    "    ax[row, col].plot(np.zeros(N), color='r')\n",
    "    ax[row, col].grid()\n",
    "    # _ = ax[row, col].set_xticks(range(N))\n",
    "    \n",
    "    if col == 2:\n",
    "        row += 1\n",
    "\n",
    "plt.show()"
   ]
  },
  {
   "cell_type": "code",
   "execution_count": null,
   "id": "3541937f-2923-4d5a-b1bd-690daec41d2a",
   "metadata": {},
   "outputs": [],
   "source": [
    "f, ax = plt.subplots(figsize=(15,10))\n",
    "\n",
    "device = 1\n",
    "for i, ge in enumerate(ges):\n",
    "    \n",
    "    key = i % 3\n",
    "    \n",
    "    ax.plot(ge, label=f'D{device}-K{key+1}')\n",
    "    ax.set_title('Training Config: D1-K1')\n",
    "    ax.set_xlabel('Number of Traces')\n",
    "    ax.set_ylabel('Guessing Entropy')\n",
    "    ax.grid()\n",
    "    \n",
    "    if key == 2:\n",
    "        device += 1\n",
    "\n",
    "plt.plot(np.zeros(len(ge)), color='r')\n",
    "plt.grid()\n",
    "plt.legend()\n",
    "plt.show()"
   ]
  },
  {
   "cell_type": "code",
   "execution_count": null,
   "id": "198a83ad-56ad-458d-8aad-62de6aaaecfe",
   "metadata": {},
   "outputs": [],
   "source": []
  }
 ],
 "metadata": {
  "kernelspec": {
   "display_name": "mdm32_env",
   "language": "python",
   "name": "mdm32_env"
  },
  "language_info": {
   "codemirror_mode": {
    "name": "ipython",
    "version": 3
   },
   "file_extension": ".py",
   "mimetype": "text/x-python",
   "name": "python",
   "nbconvert_exporter": "python",
   "pygments_lexer": "ipython3",
   "version": "3.8.10"
  }
 },
 "nbformat": 4,
 "nbformat_minor": 5
}
