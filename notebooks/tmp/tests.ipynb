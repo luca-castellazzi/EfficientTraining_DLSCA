{
 "cells": [
  {
   "cell_type": "code",
   "execution_count": 1,
   "id": "ee8b2161-d036-4c62-9a85-9629c5852103",
   "metadata": {},
   "outputs": [],
   "source": [
    "import trsfile"
   ]
  },
  {
   "cell_type": "code",
   "execution_count": 16,
   "id": "7a7eae0a-7ce3-43f1-9752-d46ced715189",
   "metadata": {},
   "outputs": [],
   "source": [
    "with trsfile.open('/prj/side_channel/PinataTraces/CURR/test_key_metadata + Parameter Edit.trs', 'r') as traces:\n",
    "    for i, hv_tuple in enumerate(traces.get_headers().items()):\n",
    "        if i == 11:\n",
    "            value = hv_tuple[1]\n",
    "            key_int = value.pop('KEY').value"
   ]
  },
  {
   "cell_type": "code",
   "execution_count": 17,
   "id": "1db19b41-b849-4de5-8cba-7ea9e523ad97",
   "metadata": {},
   "outputs": [
    {
     "data": {
      "text/plain": [
       "[202, 254, 186, 190, 222, 173, 190, 239, 0, 1, 2, 3, 4, 5, 6, 7]"
      ]
     },
     "execution_count": 17,
     "metadata": {},
     "output_type": "execute_result"
    }
   ],
   "source": [
    "key_int"
   ]
  },
  {
   "cell_type": "code",
   "execution_count": 18,
   "id": "525012e9-93f1-4abd-becb-5f6d6565bc13",
   "metadata": {},
   "outputs": [],
   "source": [
    "key_hex = [hex(byte_int) for byte_int in key_int]"
   ]
  },
  {
   "cell_type": "code",
   "execution_count": 19,
   "id": "94e438e2-3d55-4768-9273-cf3f7b9fd8e2",
   "metadata": {},
   "outputs": [
    {
     "data": {
      "text/plain": [
       "['0xca',\n",
       " '0xfe',\n",
       " '0xba',\n",
       " '0xbe',\n",
       " '0xde',\n",
       " '0xad',\n",
       " '0xbe',\n",
       " '0xef',\n",
       " '0x0',\n",
       " '0x1',\n",
       " '0x2',\n",
       " '0x3',\n",
       " '0x4',\n",
       " '0x5',\n",
       " '0x6',\n",
       " '0x7']"
      ]
     },
     "execution_count": 19,
     "metadata": {},
     "output_type": "execute_result"
    }
   ],
   "source": [
    "key_hex"
   ]
  },
  {
   "cell_type": "code",
   "execution_count": 20,
   "id": "8b6e9d6a-c56a-463e-a5b8-737cbdc6593d",
   "metadata": {},
   "outputs": [
    {
     "name": "stdout",
     "output_type": "stream",
     "text": [
      "<class 'bool'>\n"
     ]
    }
   ],
   "source": [
    "print(type(True))"
   ]
  },
  {
   "cell_type": "code",
   "execution_count": null,
   "id": "4dfa1f62-393b-4978-a0e2-64d756249b47",
   "metadata": {},
   "outputs": [],
   "source": []
  }
 ],
 "metadata": {
  "kernelspec": {
   "display_name": "dlsca_env",
   "language": "python",
   "name": "dlsca_env"
  },
  "language_info": {
   "codemirror_mode": {
    "name": "ipython",
    "version": 3
   },
   "file_extension": ".py",
   "mimetype": "text/x-python",
   "name": "python",
   "nbconvert_exporter": "python",
   "pygments_lexer": "ipython3",
   "version": "3.8.10"
  }
 },
 "nbformat": 4,
 "nbformat_minor": 5
}
