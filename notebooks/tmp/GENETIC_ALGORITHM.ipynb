{
 "cells": [
  {
   "cell_type": "code",
   "execution_count": 1,
   "id": "b7beb8ec-7ead-4e92-84be-6b6042c3e322",
   "metadata": {},
   "outputs": [],
   "source": [
    "# Basics\n",
    "import numpy as np\n",
    "import matplotlib.pyplot as plt\n",
    "from tqdm import tqdm\n",
    "\n",
    "# TensorFlow/Keras (Keras layers below)\n",
    "from tensorflow.keras.utils import to_categorical\n",
    "from tensorflow import keras\n",
    "from keras.models import load_model\n",
    "# set_random_seed(1234) # set the seeds for Python, NumPy, and TensorFlow in order to reproduce the results\n",
    "\n",
    "# Custom\n",
    "import sys\n",
    "sys.path.insert(0, '../src/utils')\n",
    "from trace_handler import TraceHandler\n",
    "sys.path.insert(0, '../src/modeling')\n",
    "from genetic_tuner import GeneticTuner\n",
    "\n",
    "# Suppress TensorFlow messages\n",
    "import os\n",
    "os.environ['TF_CPP_MIN_LOG_LEVEL'] = '1' # 1 for INFO, 2 for INFO & WARNINGs, 3 for INFO & WARNINGs & ERRORs"
   ]
  },
  {
   "cell_type": "code",
   "execution_count": 2,
   "id": "9cd9523e-0256-4a59-9fcd-0d332183f05d",
   "metadata": {},
   "outputs": [
    {
     "name": "stderr",
     "output_type": "stream",
     "text": [
      "Labeling traces: 100%|██████████| 50000/50000 [00:21<00:00, 2311.24it/s]\n",
      "Labeling traces: 100%|██████████| 50000/50000 [00:21<00:00, 2311.49it/s]\n"
     ]
    }
   ],
   "source": [
    "# Train\n",
    "train_th = TraceHandler('/prj/side_channel/PinataTraces/CURR/D1-K1_50k_500MHz + Resampled at 168MHz.trs')    \n",
    "    \n",
    "BYTE_IDX = 0\n",
    "N_CLASSES = 256\n",
    "VAL_PERC = 0.1\n",
    "\n",
    "x_train_tot = train_th.get_traces()\n",
    "y_train_tot = train_th.get_specific_labels(BYTE_IDX)\n",
    "y_train_tot = to_categorical(y_train_tot, N_CLASSES)\n",
    "\n",
    "x_train, x_val, y_train, y_val = train_th.generate_train_val(BYTE_IDX, val_perc=VAL_PERC)\n",
    "y_train = to_categorical(y_train, N_CLASSES)\n",
    "y_val = to_categorical(y_val, N_CLASSES)\n",
    "\n",
    "# Test\n",
    "test_th = TraceHandler('/prj/side_channel/PinataTraces/CURR/D1-K2_50k_500MHz + Resampled at 168MHz.trs')\n",
    "\n",
    "x_test, y_test = test_th.generate_test(BYTE_IDX) \n",
    "y_test = to_categorical(y_test, N_CLASSES)\n",
    "\n",
    "test_plaintexts = test_th.get_plaintexts()\n",
    "true_key_byte = test_th.get_key()[BYTE_IDX]"
   ]
  },
  {
   "cell_type": "code",
   "execution_count": 3,
   "id": "80738193-c727-4d28-a9e3-285104b0e7cd",
   "metadata": {},
   "outputs": [],
   "source": [
    "from tensorflow.keras.optimizers import SGD, Adam, RMSprop\n",
    "\n",
    "HP_CHOICES = {#'kernel_initializer': ['random_normal', 'random_uniform', \n",
    "              #                       'truncated_normal', \n",
    "              #                       'zeros', 'ones', \n",
    "              #                       'glorot_normal', 'glorot_uniform',\n",
    "              #                       'he_normal', 'he_uniform',\n",
    "              #                       'identity', 'orthogonal', 'constant', 'variance_scaling'],\n",
    "              'kernel_initializer': ['random_normal', 'random_uniform', 'truncated_normal', 'he_normal', 'he_uniform'],  \n",
    "              'activation':         ['relu', 'tanh'],\n",
    "              'hidden_layers':      [1, 2, 3, 4, 5, 6],\n",
    "              'hidden_neurons':     [100, 200, 300, 400, 500, 600],\n",
    "              'dropout_rate':       [0.0, 0.2, 0.4],\n",
    "              'optimizer':          [SGD, Adam, RMSprop],\n",
    "              'learning_rate':      [1e-3, 1e-4, 1e-5, 1e-6],\n",
    "              'batch_size':         [50, 100, 200, 500]}    "
   ]
  },
  {
   "cell_type": "code",
   "execution_count": null,
   "id": "c13db7fe-e678-41e3-86c6-b385e6e59919",
   "metadata": {},
   "outputs": [],
   "source": [
    "GENERATIONS = 10\n",
    "EPOCHS = 100\n",
    "\n",
    "gt = GeneticTuner(hp_choices=HP_CHOICES, pop_size=20, selection_perc=0.3, random_selection_chance=0.1, mutation_chance=0.1)\n",
    "population = gt.populate()\n",
    "\n",
    "best_acc = []\n",
    "avg_acc = []\n",
    "diff_acc = []\n",
    "\n",
    "for i in range(GENERATIONS):\n",
    "    print()\n",
    "    print(f'-------------------- Generation {i+1}/{GENERATIONS} --------------------')\n",
    "    \n",
    "    evaluation = gt.evaluate(population, x_train, y_train, EPOCHS, x_val, y_val) # list of tuple Individual-val_acc\n",
    "    \n",
    "    parents = gt.select(evaluation) # list of 2 Individual objects\n",
    "    \n",
    "    if i != GENERATIONS - 1:\n",
    "        population = gt.evolve(parents) # list of pop_size Individual objects\n",
    "    \n",
    "    # Results visualization\n",
    "    gen_best = evaluation[0][1]\n",
    "    print(f'Gen Best: {gen_best}')\n",
    "    \n",
    "    gen_avg = np.mean(np.array([ev[1] for ev in evaluation]))\n",
    "    print(f'Gen Avg: {gen_avg}')\n",
    "    \n",
    "    best_acc.append(gen_best)\n",
    "    avg_acc.append(gen_avg)\n",
    "    diff_acc.append(abs(gen_best - gen_avg))"
   ]
  },
  {
   "cell_type": "code",
   "execution_count": null,
   "id": "0f48f0a7-ef47-4588-b273-f02c89765c72",
   "metadata": {},
   "outputs": [],
   "source": [
    "f, ax = plt.subplots(3, 1, figsize=(10, 15))\n",
    "\n",
    "ax[0].plot(best_acc, color='r', marker='o')\n",
    "ax[0].set_title('Best accuracy')\n",
    "ax[0].grid()\n",
    "\n",
    "ax[1].plot(avg_acc, color='g', marker='o')\n",
    "ax[1].set_title('Avg accuracy')\n",
    "ax[1].grid()\n",
    "\n",
    "ax[2].plot(diff_acc, color='b', marker='o')\n",
    "ax[2].set_title('Difference between best accuracy and average accuracy')\n",
    "ax[2].grid()\n",
    "plt.show()"
   ]
  },
  {
   "cell_type": "code",
   "execution_count": null,
   "id": "79d8a640-5852-4853-a847-fa81b72c0d77",
   "metadata": {},
   "outputs": [],
   "source": [
    "# from datetime import datetime\n",
    "\n",
    "# best_individual, best_val_acc = evaluation[0]\n",
    "\n",
    "# now = datetime.now()\n",
    "# BEST_MODEL_PATH = '../saved_models/' + now.strftime('%m%d%Y_%H%M')\n",
    "# best_individual.save_model(BEST_MODEL_PATH)\n",
    "\n",
    "# print(f'Best val_acc: {best_val_acc}')"
   ]
  },
  {
   "cell_type": "code",
   "execution_count": null,
   "id": "8afc4b00-b8a4-412f-8e4d-a41f50b7408d",
   "metadata": {},
   "outputs": [],
   "source": [
    "# from tensorflow import keras\n",
    "# # from keras.models import load_model\n",
    "\n",
    "# # print('Loading the best model...')\n",
    "# # best_model = load_model(BEST_MODEL_PATH)\n",
    "\n",
    "# best_individual.final_train(x_train_tot, y_train_tot)"
   ]
  },
  {
   "cell_type": "code",
   "execution_count": null,
   "id": "d867aa06-9014-410e-91b6-a732a17313bc",
   "metadata": {},
   "outputs": [],
   "source": [
    "best_individual, best_val_acc = evaluation[0]\n",
    "best_hp = best_individual.get_hp()\n",
    "best_hp"
   ]
  },
  {
   "cell_type": "code",
   "execution_count": null,
   "id": "1637ac83-5583-4853-8651-ff3046cc97b6",
   "metadata": {},
   "outputs": [],
   "source": [
    "from evaluator import Evaluator\n",
    "\n",
    "byte_specific_plaintexts = [pltxt[BYTE_IDX] for pltxt in test_plaintexts]\n",
    "\n",
    "evaluator = Evaluator(byte_specific_plaintexts, true_key_byte, 'MLP')\n",
    "ge = evaluator.guessing_entropy(n_exp=10,\n",
    "                                hp=best_net_hp,\n",
    "                                x_train=x_train_tot,\n",
    "                                y_train=y_train_tot,\n",
    "                                epochs=100,\n",
    "                                x_test=x_test)"
   ]
  },
  {
   "cell_type": "code",
   "execution_count": null,
   "id": "1979ef7f-1f43-494d-97b7-c351921e256d",
   "metadata": {},
   "outputs": [],
   "source": [
    "from guessing_entropy import guessing_entropy\n",
    "\n",
    "GE_EPOCHS = 100\n",
    "\n",
    "ge1 = guessing_entropy(network_type='MLP',\n",
    "                      hp=best_hp,\n",
    "                      epochs=GE_EPOCHS,\n",
    "                      x_train_tot=x_train_tot,\n",
    "                      y_train_tot=y_train_tot,\n",
    "                      x_test_tot=x_test,\n",
    "                      test_plaintexts_tot=test_plaintexts,\n",
    "                      true_key_byte=true_key_byte,\n",
    "                      byte_idx=BYTE_IDX,\n",
    "                      n_exp=10)"
   ]
  },
  {
   "cell_type": "code",
   "execution_count": null,
   "id": "6257ca48-a561-4a91-98d8-7a4b9c467df6",
   "metadata": {},
   "outputs": [],
   "source": [
    "f, ax = plt.subplots(2, 1, figsize=(10, 8))\n",
    "\n",
    "ax[0].plot(ge[:200], color='r')\n",
    "ax[0].set_title('GE all traces')\n",
    "ax[0].grid()\n",
    "\n",
    "ax[1].plot(ge1[:200]), color='b')\n",
    "ax[1].set_title('GE all traces ROUNDED')\n",
    "ax[1].grid()\n",
    "\n",
    "plt.show()"
   ]
  },
  {
   "cell_type": "code",
   "execution_count": null,
   "id": "768b5eb4-c6e6-411a-ba52-e875434cc15d",
   "metadata": {},
   "outputs": [],
   "source": []
  },
  {
   "cell_type": "code",
   "execution_count": null,
   "id": "63b27e9d-509e-4c46-b323-06a2d32a5150",
   "metadata": {},
   "outputs": [],
   "source": []
  },
  {
   "cell_type": "code",
   "execution_count": null,
   "id": "8b45ce30-0b36-4200-9cde-abf80ca4a0bf",
   "metadata": {},
   "outputs": [],
   "source": []
  },
  {
   "cell_type": "code",
   "execution_count": null,
   "id": "e9a720e0-32fd-4ea0-a4fc-81ce2495881d",
   "metadata": {},
   "outputs": [],
   "source": []
  },
  {
   "cell_type": "code",
   "execution_count": null,
   "id": "b778e6b9-5836-4399-853c-ed6c1982912e",
   "metadata": {},
   "outputs": [],
   "source": []
  },
  {
   "cell_type": "code",
   "execution_count": null,
   "id": "476f02e3-0326-491f-b2a3-3686b7b33494",
   "metadata": {},
   "outputs": [],
   "source": []
  },
  {
   "cell_type": "code",
   "execution_count": null,
   "id": "99d405a8-1d7a-4f7d-84e2-8d17704f1eec",
   "metadata": {},
   "outputs": [],
   "source": [
    "N_TRACES = 50\n",
    "\n",
    "f, ax = plt.subplots(2, 1, figsize=(10, 8))\n",
    "\n",
    "ax[0].plot(ge[:N_TRACES], color='r', marker='o')\n",
    "ax[0].set_title(f'GE {N_TRACES} traces')\n",
    "ax[0].grid()\n",
    "\n",
    "ax[1].plot(np.round(ge[:N_TRACES]), color='b', marker='o')\n",
    "ax[1].set_title(f'GE {N_TRACES} traces ROUNDED')\n",
    "ax[1].grid()\n",
    "\n",
    "plt.show()"
   ]
  },
  {
   "cell_type": "code",
   "execution_count": null,
   "id": "dd55b1bf-d2b5-44f9-b291-dd0cfe68482d",
   "metadata": {},
   "outputs": [],
   "source": [
    "from single_byte_evaluator import SingleByteEvaluator\n",
    "\n",
    "def tmpGE(network, x_test_tot, test_plaintexts_tot, true_key_byte, byte_idx, n_exp):\n",
    "    \n",
    "    num_test_traces = int(len(x_test_tot) / n_exp)\n",
    "\n",
    "    ranks = []\n",
    "    for i in tqdm(range(n_exp)):\n",
    "        start = i * num_test_traces\n",
    "        stop = start + num_test_traces\n",
    "        \n",
    "        x_test = x_test_tot[start:stop]\n",
    "        test_plaintexts = test_plaintexts_tot[start:stop]\n",
    "        \n",
    "\n",
    "        preds = network.predict(x_test)\n",
    "\n",
    "        evaluator = SingleByteEvaluator(test_plaintexts=test_plaintexts,\n",
    "                                        byte_idx=byte_idx,\n",
    "                                        label_preds=preds)\n",
    "\n",
    "        exp_ranks = []\n",
    "        for j in range(num_test_traces):\n",
    "            n_traces = j + 1\n",
    "            exp_ranks.append(evaluator.rank(true_key_byte, n_traces))\n",
    "\n",
    "        exp_ranks = np.array(exp_ranks)\n",
    "        ranks.append(exp_ranks)\n",
    "\n",
    "    ranks = np.array(ranks)\n",
    "    guessing_entropy = np.mean(ranks, axis=0)\n",
    "\n",
    "    return guessing_entropy\n",
    "\n",
    "tmp_ge = tmpGE(best_individual,\n",
    "               x_test_tot=x_test,\n",
    "               test_plaintexts_tot=test_plaintexts,\n",
    "               true_key_byte=true_key_byte,\n",
    "               byte_idx=BYTE_IDX,\n",
    "               n_exp=10)"
   ]
  },
  {
   "cell_type": "code",
   "execution_count": null,
   "id": "7bda7fd3-3882-41ef-9865-b59efb4eca49",
   "metadata": {},
   "outputs": [],
   "source": [
    "N = 20\n",
    "f, ax = plt.subplots(figsize=(10, 8))\n",
    "ax.plot(np.round(tmp_ge[:N]), marker='o')\n",
    "plt.xticks(range(N))\n",
    "plt.grid()"
   ]
  },
  {
   "cell_type": "code",
   "execution_count": null,
   "id": "7b16f217-880c-4757-8121-c67a44082840",
   "metadata": {},
   "outputs": [],
   "source": []
  }
 ],
 "metadata": {
  "kernelspec": {
   "display_name": "mdm32_env",
   "language": "python",
   "name": "mdm32_env"
  },
  "language_info": {
   "codemirror_mode": {
    "name": "ipython",
    "version": 3
   },
   "file_extension": ".py",
   "mimetype": "text/x-python",
   "name": "python",
   "nbconvert_exporter": "python",
   "pygments_lexer": "ipython3",
   "version": "3.8.10"
  }
 },
 "nbformat": 4,
 "nbformat_minor": 5
}
