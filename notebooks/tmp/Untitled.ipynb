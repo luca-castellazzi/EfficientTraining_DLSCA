{
 "cells": [
  {
   "cell_type": "code",
   "execution_count": 15,
   "id": "83f6508e-c104-44e6-91f0-afa80d90169c",
   "metadata": {},
   "outputs": [],
   "source": [
    "# Basics\n",
    "import numpy as np\n",
    "import random\n",
    "from tensorflow.keras.models import load_model\n",
    "\n",
    "# Custom\n",
    "import sys\n",
    "sys.path.insert(0, '../../src/utils')\n",
    "from data_loader import DataLoader, SplitDataLoader\n",
    "import constants\n",
    "import aes\n",
    "\n",
    "# Suppress TensorFlow messages\n",
    "import os\n",
    "os.environ['TF_CPP_MIN_LOG_LEVEL'] = '1' # 1 for INFO, 2 for INFO & WARNINGs, 3 for INFO & WARNINGs & ERRORs"
   ]
  },
  {
   "cell_type": "code",
   "execution_count": 16,
   "id": "7456b28d-452f-4912-a9a2-f8fb6cb5b4d9",
   "metadata": {},
   "outputs": [],
   "source": [
    "TARGET = 'SBOX_OUT'\n",
    "TEST_CONFIG = 'D3-K0'"
   ]
  },
  {
   "cell_type": "code",
   "execution_count": 17,
   "id": "18ec6dbd-d575-44bb-a28e-30f66149f90b",
   "metadata": {},
   "outputs": [],
   "source": [
    "b = 1\n",
    "SAVED_MODEL = f'{constants.RESULTS_PATH}/AllBytesAttack/model_b{b}.h5'"
   ]
  },
  {
   "cell_type": "code",
   "execution_count": 54,
   "id": "a41240f1-0afc-442a-bfd5-cc292e0c2169",
   "metadata": {},
   "outputs": [],
   "source": [
    "def compute_key_preds(preds, key_bytes):\n",
    "    \n",
    "    \"\"\"\n",
    "    Converts target-predictions into key-predictions (key-byte).\n",
    "\n",
    "    Parameters:\n",
    "        - preds (np.ndarray):\n",
    "            Target-predictions (probabilities for each possible target value).\n",
    "        - key_bytes (np.array):\n",
    "            Key-bytes relative to each possible value in the target-predictions.\n",
    "            Target-predictions cover all possible values (1 to 255), and\n",
    "            each value leads to a differnt key-byte.\n",
    "    \n",
    "    Returns:\n",
    "        - key_preds (np.array):\n",
    "           Key-predictions (probabilities for each possible key-byte value).\n",
    "           Sorted from key-byte=0 to key-byte=255.\n",
    "    \"\"\"\n",
    "    \n",
    "    # Associate each sbox-out prediction with its relative key-byte\n",
    "    association = list(zip(key_bytes, preds))\n",
    "    \n",
    "    # Sort the association w.r.t. key-bytes (0 to 255, for alignment within all traces)\n",
    "    association.sort(key=lambda x: x[0])\n",
    "    \n",
    "    # Consider the sorted sbox-out predictons as key-byte predictons\n",
    "    key_preds = list(zip(*association))[1]\n",
    "    \n",
    "    return key_preds\n",
    "    \n",
    "    \n",
    "def compute_final_rankings(preds, pltxt_bytes, target):\n",
    "\n",
    "    \"\"\"\n",
    "    Generates the ranking of the key-bytes starting from key-predictions.\n",
    "    \n",
    "    Parameters:\n",
    "        - preds (np.ndarray):\n",
    "            Predictions relative to the target.\n",
    "        - pltxt_bytes (np.array):\n",
    "            True plaintext bytes.\n",
    "        - target (str):\n",
    "            Target of the attack.\n",
    "\n",
    "    Returns:\n",
    "        - final_rankings (list):\n",
    "            Ranking of the possible key-bytes (from the most probable to the \n",
    "            least probable) for increasing number of traces.\n",
    "    \"\"\"\n",
    "\n",
    "    if target == 'KEY':\n",
    "        # If the target is 'KEY', then key_preds is directly sampled_preds\n",
    "        # because sampled_preds contains predictions related to each key-byte\n",
    "        # already in order\n",
    "        key_preds = preds\n",
    "    else: \n",
    "        # SBOX-IN, SBOX-OUT, ... need further computations\n",
    "        key_bytes = [aes.key_from_labels(pb, target) for pb in pltxt_bytes]\n",
    "    \n",
    "        key_preds = np.array([compute_key_preds(ps, kbs) \n",
    "                              for ps, kbs in zip(preds, key_bytes)])\n",
    "\n",
    "    log_probs = np.log10(key_preds + 1e-22) # n_traces x 256\n",
    "    \n",
    "    cum_tot_probs = np.cumsum(log_probs, axis=0) # n_traces x 256\n",
    "    \n",
    "    indexed_cum_tot_probs = [list(zip(range(256), tot_probs))\n",
    "                             for tot_probs in cum_tot_probs] # n_traces x 256 x 2\n",
    "    \n",
    "    sorted_cum_tot_probs = [sorted(el, key=lambda x: x[1], reverse=True)\n",
    "                            for el in indexed_cum_tot_probs] # n_traces x 256 x 2\n",
    "                            \n",
    "    final_rankings = [[el[0] for el in tot_probs]\n",
    "                      for tot_probs in sorted_cum_tot_probs] # n_traces x 256\n",
    "                  \n",
    "    return final_rankings\n",
    "\n",
    "\n",
    "def guessing_entropy(preds, pltxt_bytes, true_key_byte, n_exp, target, n_traces=500):\n",
    "\n",
    "    \"\"\"\n",
    "    Computes the Guessing Entropy of an attack as the average rank of the \n",
    "    correct key-byte among the predictions.\n",
    "    \n",
    "    Parameters: \n",
    "        - preds (np.ndarray):\n",
    "            Target predictions.\n",
    "        - pltxt_bytes (np.array):\n",
    "            Plaintext used during the encryption (single byte).\n",
    "        - true_key_byte (int):\n",
    "            Actual key used during the encryption (single byte).\n",
    "        - n_exp (int):\n",
    "            Number of experiment to compute the average value of GE.\n",
    "        - n_traces (int):\n",
    "            Number of traces to consider during GE computation.\n",
    "        - target (str):\n",
    "            Target of the attack.\n",
    "            \n",
    "    Returns:\n",
    "        - ge (np.array):\n",
    "            Guessing Entropy of the attack.\n",
    "    \"\"\"\n",
    "    \n",
    "    # Consider all couples predictions-plaintext\n",
    "    all_preds_pltxt = list(zip(preds, pltxt_bytes))\n",
    "    \n",
    "    ranks_per_exp = []\n",
    "    for _ in range(n_exp):\n",
    "        \n",
    "        # During each experiment:\n",
    "        #   * Consider only a fixed number of target-predictions\n",
    "        #   * Retrieve the corresponding key-predictions\n",
    "        #   * Compute the final key-predictions\n",
    "        #   * Rank the final key-predictions\n",
    "        #   * Retrieve the rank of the correct key (key-byte)\n",
    "        # \n",
    "        # The whole process considers incrementing number of traces (not only 1)\n",
    "        \n",
    "        sampled = random.sample(all_preds_pltxt, n_traces)\n",
    "        sampled_preds, sampled_pltxt_bytes = list(zip(*sampled))\n",
    "        \n",
    "        # Compute the final rankings (for increasing number of traces)\n",
    "        final_rankings = compute_final_rankings(sampled_preds, sampled_pltxt_bytes, target)\n",
    "        \n",
    "        # Retrieve the rank of the true key-byte (for increasing number of traces)\n",
    "        true_kb_ranks = np.array([kbs.index(true_key_byte)\n",
    "                                  for kbs in final_rankings]) # 1 x n_traces \n",
    "        \n",
    "        # true_kb_ranks += 1 ##############################################################################################################################################\n",
    "        \n",
    "        ranks_per_exp.append(true_kb_ranks)\n",
    "        \n",
    "    # After the experiments, average the ranks\n",
    "    ranks_per_exp = np.array(ranks_per_exp) # n_exp x n_traces\n",
    "    ge = np.mean(ranks_per_exp, axis=0) # 1 x n_traces\n",
    "    \n",
    "    return ge"
   ]
  },
  {
   "cell_type": "code",
   "execution_count": 55,
   "id": "7d299476-479b-4a2e-9e29-415da57a1437",
   "metadata": {},
   "outputs": [],
   "source": [
    "test_model = load_model(SAVED_MODEL)\n",
    "\n",
    "test_dl = DataLoader(\n",
    "    [TEST_CONFIG],\n",
    "    n_tot_traces=5000,\n",
    "    target=TARGET,\n",
    "    byte_idx=b\n",
    ")\n",
    "x_test, y_test, pbs_test, tkb_test = test_dl.load()\n",
    "\n",
    "preds = test_model.predict(x_test)\n",
    "\n",
    "ges = []\n",
    "for _ in range(10):\n",
    "    ge = guessing_entropy(\n",
    "        preds=preds, \n",
    "        pltxt_bytes=pbs_test, \n",
    "        true_key_byte=tkb_test, \n",
    "        n_exp=100, \n",
    "        target=TARGET,\n",
    "        n_traces=100 # Default: 500\n",
    "    )\n",
    "    \n",
    "    ges.append(ge + 1) ##########################################################################\n",
    "    \n",
    "ges = np.array(ges)"
   ]
  },
  {
   "cell_type": "code",
   "execution_count": 56,
   "id": "e6103ac7-1fff-489f-968a-0c5fe8ebfc77",
   "metadata": {},
   "outputs": [
    {
     "data": {
      "text/plain": [
       "(10, 100)"
      ]
     },
     "execution_count": 56,
     "metadata": {},
     "output_type": "execute_result"
    }
   ],
   "source": [
    "ges.shape"
   ]
  },
  {
   "cell_type": "code",
   "execution_count": 57,
   "id": "81f71d40-9565-442b-8bf6-dd6f3e117db1",
   "metadata": {},
   "outputs": [
    {
     "data": {
      "text/plain": [
       "array([[76.27400124, 46.20040433, 21.60795595,  9.04955481,  4.40011276,\n",
       "         0.90533645,  0.22968469,  0.        ,  0.        ,  0.22968469,\n",
       "         0.22968469,  0.22968469,  0.        ,  0.        ,  0.        ,\n",
       "         0.        ,  0.        ,  0.        ,  0.        ,  0.        ,\n",
       "         0.        ,  0.        ,  0.        ,  0.        ,  0.        ,\n",
       "         0.        ,  0.        ,  0.        ,  0.        ,  0.        ,\n",
       "         0.        ,  0.        ,  0.        ,  0.        ,  0.        ,\n",
       "         0.        ,  0.        ,  0.        ,  0.        ,  0.        ,\n",
       "         0.        ,  0.        ,  0.        ,  0.        ,  0.        ,\n",
       "         0.        ,  0.        ,  0.        ,  0.        ,  0.        ,\n",
       "         0.        ,  0.        ,  0.        ,  0.        ,  0.        ,\n",
       "         0.        ,  0.        ,  0.        ,  0.        ,  0.        ,\n",
       "         0.        ,  0.        ,  0.        ,  0.        ,  0.        ,\n",
       "         0.        ,  0.        ,  0.        ,  0.        ,  0.        ,\n",
       "         0.        ,  0.        ,  0.        ,  0.        ,  0.        ,\n",
       "         0.        ,  0.        ,  0.        ,  0.        ,  0.        ,\n",
       "         0.        ,  0.        ,  0.        ,  0.        ,  0.        ,\n",
       "         0.        ,  0.        ,  0.        ,  0.        ,  0.        ,\n",
       "         0.        ,  0.        ,  0.        ,  0.        ,  0.        ,\n",
       "         0.        ,  0.        ,  0.        ,  0.        ,  0.        ],\n",
       "       [75.75968837, 48.65427889, 24.73549391, 14.20040433,  4.20855049,\n",
       "         1.98925016,  0.        ,  0.        ,  0.        ,  0.        ,\n",
       "         0.        ,  0.        ,  0.        ,  0.        ,  0.        ,\n",
       "         0.        ,  0.        ,  0.        ,  0.        ,  0.        ,\n",
       "         0.        ,  0.        ,  0.        ,  0.        ,  0.        ,\n",
       "         0.        ,  0.        ,  0.        ,  0.        ,  0.        ,\n",
       "         0.        ,  0.        ,  0.        ,  0.        ,  0.        ,\n",
       "         0.        ,  0.        ,  0.        ,  0.        ,  0.        ,\n",
       "         0.        ,  0.        ,  0.        ,  0.        ,  0.        ,\n",
       "         0.        ,  0.        ,  0.        ,  0.        ,  0.        ,\n",
       "         0.        ,  0.        ,  0.        ,  0.        ,  0.        ,\n",
       "         0.        ,  0.        ,  0.        ,  0.        ,  0.        ,\n",
       "         0.        ,  0.        ,  0.        ,  0.        ,  0.        ,\n",
       "         0.        ,  0.        ,  0.        ,  0.        ,  0.        ,\n",
       "         0.        ,  0.        ,  0.        ,  0.        ,  0.        ,\n",
       "         0.        ,  0.        ,  0.        ,  0.        ,  0.        ,\n",
       "         0.        ,  0.        ,  0.        ,  0.        ,  0.        ,\n",
       "         0.        ,  0.        ,  0.        ,  0.        ,  0.        ,\n",
       "         0.        ,  0.        ,  0.        ,  0.        ,  0.        ,\n",
       "         0.        ,  0.        ,  0.        ,  0.        ,  0.        ],\n",
       "       [71.38236144, 41.04955481, 22.05618597,  8.5768464 ,  3.42599689,\n",
       "         0.45710644,  0.22968469,  0.        ,  0.        ,  0.        ,\n",
       "         0.        ,  0.        ,  0.        ,  0.        ,  0.        ,\n",
       "         0.        ,  0.        ,  0.        ,  0.        ,  0.        ,\n",
       "         0.        ,  0.        ,  0.        ,  0.        ,  0.        ,\n",
       "         0.        ,  0.        ,  0.        ,  0.        ,  0.        ,\n",
       "         0.        ,  0.        ,  0.        ,  0.        ,  0.        ,\n",
       "         0.        ,  0.        ,  0.        ,  0.        ,  0.        ,\n",
       "         0.        ,  0.        ,  0.        ,  0.        ,  0.        ,\n",
       "         0.        ,  0.        ,  0.        ,  0.        ,  0.        ,\n",
       "         0.        ,  0.        ,  0.        ,  0.        ,  0.        ,\n",
       "         0.        ,  0.        ,  0.        ,  0.        ,  0.        ,\n",
       "         0.        ,  0.        ,  0.        ,  0.        ,  0.        ,\n",
       "         0.        ,  0.        ,  0.        ,  0.        ,  0.        ,\n",
       "         0.        ,  0.        ,  0.        ,  0.        ,  0.        ,\n",
       "         0.        ,  0.        ,  0.        ,  0.        ,  0.        ,\n",
       "         0.        ,  0.        ,  0.        ,  0.        ,  0.        ,\n",
       "         0.        ,  0.        ,  0.        ,  0.        ,  0.        ,\n",
       "         0.        ,  0.        ,  0.        ,  0.        ,  0.        ,\n",
       "         0.        ,  0.        ,  0.        ,  0.        ,  0.        ],\n",
       "       [74.24623296, 49.39940546, 26.55879293, 18.61597972,  7.09770642,\n",
       "         3.02454119,  1.34502824,  1.12622925,  0.6823094 ,  0.        ,\n",
       "         0.        ,  0.        ,  0.        ,  0.        ,  0.        ,\n",
       "         0.        ,  0.        ,  0.        ,  0.        ,  0.        ,\n",
       "         0.        ,  0.        ,  0.        ,  0.        ,  0.        ,\n",
       "         0.        ,  0.        ,  0.        ,  0.        ,  0.        ,\n",
       "         0.        ,  0.        ,  0.        ,  0.        ,  0.        ,\n",
       "         0.        ,  0.        ,  0.        ,  0.        ,  0.        ,\n",
       "         0.        ,  0.        ,  0.        ,  0.        ,  0.        ,\n",
       "         0.        ,  0.        ,  0.        ,  0.        ,  0.        ,\n",
       "         0.        ,  0.        ,  0.        ,  0.        ,  0.        ,\n",
       "         0.        ,  0.        ,  0.        ,  0.        ,  0.        ,\n",
       "         0.        ,  0.        ,  0.        ,  0.        ,  0.        ,\n",
       "         0.        ,  0.        ,  0.        ,  0.        ,  0.        ,\n",
       "         0.        ,  0.        ,  0.        ,  0.        ,  0.        ,\n",
       "         0.        ,  0.        ,  0.        ,  0.        ,  0.        ,\n",
       "         0.        ,  0.        ,  0.        ,  0.        ,  0.        ,\n",
       "         0.        ,  0.        ,  0.        ,  0.        ,  0.        ,\n",
       "         0.        ,  0.        ,  0.        ,  0.        ,  0.        ,\n",
       "         0.        ,  0.        ,  0.        ,  0.        ,  0.        ],\n",
       "       [70.89526834, 43.27795143, 23.68424195,  7.43469227,  2.20005638,\n",
       "         1.34502824,  0.45710644,  0.        ,  0.        ,  0.        ,\n",
       "         0.        ,  0.        ,  0.        ,  0.        ,  0.        ,\n",
       "         0.        ,  0.        ,  0.        ,  0.        ,  0.        ,\n",
       "         0.        ,  0.        ,  0.        ,  0.        ,  0.        ,\n",
       "         0.        ,  0.        ,  0.        ,  0.        ,  0.        ,\n",
       "         0.        ,  0.        ,  0.        ,  0.        ,  0.        ,\n",
       "         0.        ,  0.        ,  0.        ,  0.        ,  0.        ,\n",
       "         0.        ,  0.        ,  0.        ,  0.        ,  0.        ,\n",
       "         0.        ,  0.        ,  0.        ,  0.        ,  0.        ,\n",
       "         0.        ,  0.        ,  0.        ,  0.        ,  0.        ,\n",
       "         0.        ,  0.        ,  0.        ,  0.        ,  0.        ,\n",
       "         0.        ,  0.        ,  0.        ,  0.        ,  0.        ,\n",
       "         0.        ,  0.        ,  0.        ,  0.        ,  0.        ,\n",
       "         0.        ,  0.        ,  0.        ,  0.        ,  0.        ,\n",
       "         0.        ,  0.        ,  0.        ,  0.        ,  0.        ,\n",
       "         0.        ,  0.        ,  0.        ,  0.        ,  0.        ,\n",
       "         0.        ,  0.        ,  0.        ,  0.        ,  0.        ,\n",
       "         0.        ,  0.        ,  0.        ,  0.        ,  0.        ,\n",
       "         0.        ,  0.        ,  0.        ,  0.        ,  0.        ],\n",
       "       [67.40110942, 36.59009836, 18.51269936,  6.23306899,  1.776501  ,\n",
       "         0.45710644,  0.22968469,  0.        ,  0.        ,  0.        ,\n",
       "         0.        ,  0.        ,  0.        ,  0.        ,  0.        ,\n",
       "         0.        ,  0.        ,  0.        ,  0.        ,  0.        ,\n",
       "         0.        ,  0.        ,  0.        ,  0.        ,  0.        ,\n",
       "         0.        ,  0.        ,  0.        ,  0.        ,  0.        ,\n",
       "         0.        ,  0.        ,  0.        ,  0.        ,  0.        ,\n",
       "         0.        ,  0.        ,  0.        ,  0.        ,  0.        ,\n",
       "         0.        ,  0.        ,  0.        ,  0.        ,  0.        ,\n",
       "         0.        ,  0.        ,  0.        ,  0.        ,  0.        ,\n",
       "         0.        ,  0.        ,  0.        ,  0.        ,  0.        ,\n",
       "         0.        ,  0.        ,  0.        ,  0.        ,  0.        ,\n",
       "         0.        ,  0.        ,  0.        ,  0.        ,  0.        ,\n",
       "         0.        ,  0.        ,  0.        ,  0.        ,  0.        ,\n",
       "         0.        ,  0.        ,  0.        ,  0.        ,  0.        ,\n",
       "         0.        ,  0.        ,  0.        ,  0.        ,  0.        ,\n",
       "         0.        ,  0.        ,  0.        ,  0.        ,  0.        ,\n",
       "         0.        ,  0.        ,  0.        ,  0.        ,  0.        ,\n",
       "         0.        ,  0.        ,  0.        ,  0.        ,  0.        ,\n",
       "         0.        ,  0.        ,  0.        ,  0.        ,  0.        ],\n",
       "       [74.19063329, 37.51725595, 16.        ,  8.89305848,  2.20005638,\n",
       "         0.6823094 ,  0.22968469,  0.        ,  0.        ,  0.        ,\n",
       "         0.        ,  0.        ,  0.        ,  0.        ,  0.        ,\n",
       "         0.        ,  0.        ,  0.        ,  0.        ,  0.        ,\n",
       "         0.        ,  0.        ,  0.        ,  0.        ,  0.        ,\n",
       "         0.        ,  0.        ,  0.        ,  0.        ,  0.        ,\n",
       "         0.        ,  0.        ,  0.        ,  0.        ,  0.        ,\n",
       "         0.        ,  0.        ,  0.        ,  0.        ,  0.        ,\n",
       "         0.        ,  0.        ,  0.        ,  0.        ,  0.        ,\n",
       "         0.        ,  0.        ,  0.        ,  0.        ,  0.        ,\n",
       "         0.        ,  0.        ,  0.        ,  0.        ,  0.        ,\n",
       "         0.        ,  0.        ,  0.        ,  0.        ,  0.        ,\n",
       "         0.        ,  0.        ,  0.        ,  0.        ,  0.        ,\n",
       "         0.        ,  0.        ,  0.        ,  0.        ,  0.        ,\n",
       "         0.        ,  0.        ,  0.        ,  0.        ,  0.        ,\n",
       "         0.        ,  0.        ,  0.        ,  0.        ,  0.        ,\n",
       "         0.        ,  0.        ,  0.        ,  0.        ,  0.        ,\n",
       "         0.        ,  0.        ,  0.        ,  0.        ,  0.        ,\n",
       "         0.        ,  0.        ,  0.        ,  0.        ,  0.        ,\n",
       "         0.        ,  0.        ,  0.        ,  0.        ,  0.        ],\n",
       "       [67.22614178, 41.85419318, 31.70964245, 18.40895483,  6.23306899,\n",
       "         2.82116436,  0.45710644,  0.22968469,  0.        ,  0.        ,\n",
       "         0.        ,  0.        ,  0.        ,  0.        ,  0.        ,\n",
       "         0.        ,  0.        ,  0.        ,  0.        ,  0.        ,\n",
       "         0.        ,  0.        ,  0.        ,  0.        ,  0.        ,\n",
       "         0.        ,  0.        ,  0.        ,  0.        ,  0.        ,\n",
       "         0.        ,  0.        ,  0.        ,  0.        ,  0.        ,\n",
       "         0.        ,  0.        ,  0.        ,  0.        ,  0.        ,\n",
       "         0.        ,  0.        ,  0.        ,  0.        ,  0.        ,\n",
       "         0.        ,  0.        ,  0.        ,  0.        ,  0.        ,\n",
       "         0.        ,  0.        ,  0.        ,  0.        ,  0.        ,\n",
       "         0.        ,  0.        ,  0.        ,  0.        ,  0.        ,\n",
       "         0.        ,  0.        ,  0.        ,  0.        ,  0.        ,\n",
       "         0.        ,  0.        ,  0.        ,  0.        ,  0.        ,\n",
       "         0.        ,  0.        ,  0.        ,  0.        ,  0.        ,\n",
       "         0.        ,  0.        ,  0.        ,  0.        ,  0.        ,\n",
       "         0.        ,  0.        ,  0.        ,  0.        ,  0.        ,\n",
       "         0.        ,  0.        ,  0.        ,  0.        ,  0.        ,\n",
       "         0.        ,  0.        ,  0.        ,  0.        ,  0.        ,\n",
       "         0.        ,  0.        ,  0.        ,  0.        ,  0.        ],\n",
       "       [72.24615137, 36.82540235, 19.62413648,  7.76682923,  2.20005638,\n",
       "         1.12622925,  0.        ,  0.        ,  0.        ,  0.        ,\n",
       "         0.        ,  0.        ,  0.        ,  0.        ,  0.        ,\n",
       "         0.        ,  0.        ,  0.        ,  0.        ,  0.        ,\n",
       "         0.        ,  0.        ,  0.        ,  0.        ,  0.        ,\n",
       "         0.        ,  0.        ,  0.        ,  0.        ,  0.        ,\n",
       "         0.        ,  0.        ,  0.        ,  0.        ,  0.        ,\n",
       "         0.        ,  0.        ,  0.        ,  0.        ,  0.        ,\n",
       "         0.        ,  0.        ,  0.        ,  0.        ,  0.        ,\n",
       "         0.        ,  0.        ,  0.        ,  0.        ,  0.        ,\n",
       "         0.        ,  0.        ,  0.        ,  0.        ,  0.        ,\n",
       "         0.        ,  0.        ,  0.        ,  0.        ,  0.        ,\n",
       "         0.        ,  0.        ,  0.        ,  0.        ,  0.        ,\n",
       "         0.        ,  0.        ,  0.        ,  0.        ,  0.        ,\n",
       "         0.        ,  0.        ,  0.        ,  0.        ,  0.        ,\n",
       "         0.        ,  0.        ,  0.        ,  0.        ,  0.        ,\n",
       "         0.        ,  0.        ,  0.        ,  0.        ,  0.        ,\n",
       "         0.        ,  0.        ,  0.        ,  0.        ,  0.        ,\n",
       "         0.        ,  0.        ,  0.        ,  0.        ,  0.        ,\n",
       "         0.        ,  0.        ,  0.        ,  0.        ,  0.        ],\n",
       "       [72.70583044, 44.35016926, 26.19063329,  9.81650645,  6.92735052,\n",
       "         1.56177275,  0.45710644,  0.22968469,  0.        ,  0.        ,\n",
       "         0.        ,  0.        ,  0.        ,  0.        ,  0.        ,\n",
       "         0.        ,  0.        ,  0.        ,  0.        ,  0.        ,\n",
       "         0.        ,  0.        ,  0.        ,  0.        ,  0.        ,\n",
       "         0.        ,  0.        ,  0.        ,  0.        ,  0.        ,\n",
       "         0.        ,  0.        ,  0.        ,  0.        ,  0.        ,\n",
       "         0.        ,  0.        ,  0.        ,  0.        ,  0.        ,\n",
       "         0.        ,  0.        ,  0.        ,  0.        ,  0.        ,\n",
       "         0.        ,  0.        ,  0.        ,  0.        ,  0.        ,\n",
       "         0.        ,  0.        ,  0.        ,  0.        ,  0.        ,\n",
       "         0.        ,  0.        ,  0.        ,  0.        ,  0.        ,\n",
       "         0.        ,  0.        ,  0.        ,  0.        ,  0.        ,\n",
       "         0.        ,  0.        ,  0.        ,  0.        ,  0.        ,\n",
       "         0.        ,  0.        ,  0.        ,  0.        ,  0.        ,\n",
       "         0.        ,  0.        ,  0.        ,  0.        ,  0.        ,\n",
       "         0.        ,  0.        ,  0.        ,  0.        ,  0.        ,\n",
       "         0.        ,  0.        ,  0.        ,  0.        ,  0.        ,\n",
       "         0.        ,  0.        ,  0.        ,  0.        ,  0.        ,\n",
       "         0.        ,  0.        ,  0.        ,  0.        ,  0.        ]])"
      ]
     },
     "execution_count": 57,
     "metadata": {},
     "output_type": "execute_result"
    }
   ],
   "source": [
    "bit_ges = np.log2(ges) * 16\n",
    "bit_ges"
   ]
  },
  {
   "cell_type": "code",
   "execution_count": 58,
   "id": "ea076c93-e606-4e7c-a5ca-5cc75bb77479",
   "metadata": {},
   "outputs": [
    {
     "data": {
      "text/plain": [
       "(10, 100)"
      ]
     },
     "execution_count": 58,
     "metadata": {},
     "output_type": "execute_result"
    }
   ],
   "source": [
    "bit_ges.shape"
   ]
  },
  {
   "cell_type": "code",
   "execution_count": 59,
   "id": "f3d84876-8c05-4909-b803-a87b1caf73b7",
   "metadata": {},
   "outputs": [
    {
     "data": {
      "text/plain": [
       "(100,)"
      ]
     },
     "execution_count": 59,
     "metadata": {},
     "output_type": "execute_result"
    }
   ],
   "source": [
    "avg_bit_ges = np.mean(bit_ges, axis=0)\n",
    "avg_bit_ges.shape"
   ]
  },
  {
   "cell_type": "code",
   "execution_count": 60,
   "id": "526215ec-924b-4761-9b25-ff2cd42fd89b",
   "metadata": {},
   "outputs": [
    {
     "data": {
      "text/plain": [
       "array([7.22327419e+01, 4.25718714e+01, 2.30679782e+01, 1.08995896e+01,\n",
       "       4.06694562e+00, 1.43698447e+00, 3.63508629e-01, 1.58559862e-01,\n",
       "       6.82309399e-02, 2.29684688e-02, 2.29684688e-02, 2.29684688e-02,\n",
       "       0.00000000e+00, 0.00000000e+00, 0.00000000e+00, 0.00000000e+00,\n",
       "       0.00000000e+00, 0.00000000e+00, 0.00000000e+00, 0.00000000e+00,\n",
       "       0.00000000e+00, 0.00000000e+00, 0.00000000e+00, 0.00000000e+00,\n",
       "       0.00000000e+00, 0.00000000e+00, 0.00000000e+00, 0.00000000e+00,\n",
       "       0.00000000e+00, 0.00000000e+00, 0.00000000e+00, 0.00000000e+00,\n",
       "       0.00000000e+00, 0.00000000e+00, 0.00000000e+00, 0.00000000e+00,\n",
       "       0.00000000e+00, 0.00000000e+00, 0.00000000e+00, 0.00000000e+00,\n",
       "       0.00000000e+00, 0.00000000e+00, 0.00000000e+00, 0.00000000e+00,\n",
       "       0.00000000e+00, 0.00000000e+00, 0.00000000e+00, 0.00000000e+00,\n",
       "       0.00000000e+00, 0.00000000e+00, 0.00000000e+00, 0.00000000e+00,\n",
       "       0.00000000e+00, 0.00000000e+00, 0.00000000e+00, 0.00000000e+00,\n",
       "       0.00000000e+00, 0.00000000e+00, 0.00000000e+00, 0.00000000e+00,\n",
       "       0.00000000e+00, 0.00000000e+00, 0.00000000e+00, 0.00000000e+00,\n",
       "       0.00000000e+00, 0.00000000e+00, 0.00000000e+00, 0.00000000e+00,\n",
       "       0.00000000e+00, 0.00000000e+00, 0.00000000e+00, 0.00000000e+00,\n",
       "       0.00000000e+00, 0.00000000e+00, 0.00000000e+00, 0.00000000e+00,\n",
       "       0.00000000e+00, 0.00000000e+00, 0.00000000e+00, 0.00000000e+00,\n",
       "       0.00000000e+00, 0.00000000e+00, 0.00000000e+00, 0.00000000e+00,\n",
       "       0.00000000e+00, 0.00000000e+00, 0.00000000e+00, 0.00000000e+00,\n",
       "       0.00000000e+00, 0.00000000e+00, 0.00000000e+00, 0.00000000e+00,\n",
       "       0.00000000e+00, 0.00000000e+00, 0.00000000e+00, 0.00000000e+00,\n",
       "       0.00000000e+00, 0.00000000e+00, 0.00000000e+00, 0.00000000e+00])"
      ]
     },
     "execution_count": 60,
     "metadata": {},
     "output_type": "execute_result"
    }
   ],
   "source": [
    "avg_bit_ges"
   ]
  },
  {
   "cell_type": "code",
   "execution_count": 61,
   "id": "41b39fd4-e791-4c85-817f-88e417633fc2",
   "metadata": {},
   "outputs": [
    {
     "data": {
      "image/png": "[encoded data removed]",
      "text/plain": [
       "<Figure size 432x288 with 1 Axes>"
      ]
     },
     "metadata": {
      "needs_background": "light"
     },
     "output_type": "display_data"
    }
   ],
   "source": [
    "import matplotlib.pyplot as plt\n",
    "\n",
    "plt.plot(avg_bit_ges, marker='o')\n",
    "plt.show()"
   ]
  },
  {
   "cell_type": "code",
   "execution_count": 62,
   "id": "2460abf1-44c1-499a-bbe7-4417586b5863",
   "metadata": {},
   "outputs": [
    {
     "data": {
      "image/png": "[encoded data removed]",
      "text/plain": [
       "<Figure size 432x288 with 1 Axes>"
      ]
     },
     "metadata": {
      "needs_background": "light"
     },
     "output_type": "display_data"
    }
   ],
   "source": [
    "plt.yscale(\"log\")\n",
    "plt.plot(avg_bit_ges[:10], marker='o')\n",
    "plt.show()"
   ]
  },
  {
   "cell_type": "code",
   "execution_count": 63,
   "id": "1bd8dd5c-d697-475c-a110-eaf1538975f2",
   "metadata": {},
   "outputs": [
    {
     "data": {
      "image/png": "[encoded data removed]",
      "text/plain": [
       "<Figure size 432x288 with 1 Axes>"
      ]
     },
     "metadata": {
      "needs_background": "light"
     },
     "output_type": "display_data"
    }
   ],
   "source": [
    "plt.plot(avg_bit_ges[:10], marker='o')\n",
    "plt.show()"
   ]
  },
  {
   "cell_type": "code",
   "execution_count": null,
   "id": "4535db80-1d46-498a-9a5e-9eba10a020e0",
   "metadata": {},
   "outputs": [],
   "source": []
  },
  {
   "cell_type": "code",
   "execution_count": null,
   "id": "93cebe2f-705a-47fd-b284-5e749297a5b8",
   "metadata": {},
   "outputs": [],
   "source": []
  },
  {
   "cell_type": "code",
   "execution_count": 64,
   "id": "179b7bd5-eb94-4b85-bb02-11d0a7efd88b",
   "metadata": {},
   "outputs": [
    {
     "data": {
      "image/png": "[encoded data removed]",
      "text/plain": [
       "<Figure size 432x288 with 1 Axes>"
      ]
     },
     "metadata": {
      "needs_background": "light"
     },
     "output_type": "display_data"
    }
   ],
   "source": [
    "plt.plot(ges[:10], marker='o')\n",
    "plt.show()"
   ]
  },
  {
   "cell_type": "code",
   "execution_count": 65,
   "id": "d4a2b3ad-d2b8-49c4-969f-1cd7aae2d6d6",
   "metadata": {},
   "outputs": [
    {
     "data": {
      "image/png": "[encoded data removed]",
      "text/plain": [
       "<Figure size 432x288 with 1 Axes>"
      ]
     },
     "metadata": {
      "needs_background": "light"
     },
     "output_type": "display_data"
    }
   ],
   "source": [
    "plt.plot(ges.T[:10], marker='o')\n",
    "plt.show()"
   ]
  },
  {
   "cell_type": "code",
   "execution_count": 66,
   "id": "a8045a26-b30a-410d-9e75-3ef31e86a668",
   "metadata": {},
   "outputs": [
    {
     "data": {
      "image/png": "[encoded data removed]",
      "text/plain": [
       "<Figure size 432x288 with 1 Axes>"
      ]
     },
     "metadata": {
      "needs_background": "light"
     },
     "output_type": "display_data"
    }
   ],
   "source": [
    "for ge in ges:\n",
    "    plt.yscale('log')\n",
    "    plt.plot(ge[:10], marker='o')\n",
    "plt.show()"
   ]
  },
  {
   "cell_type": "code",
   "execution_count": null,
   "id": "279c69d9-4f0a-4303-8824-43e0a9999f99",
   "metadata": {},
   "outputs": [],
   "source": []
  },
  {
   "cell_type": "code",
   "execution_count": null,
   "id": "1f68587c-0e2a-4051-b9f2-835754f9fa45",
   "metadata": {},
   "outputs": [],
   "source": []
  },
  {
   "cell_type": "code",
   "execution_count": null,
   "id": "16e57324-4703-46c8-800a-e8ddbcfe67eb",
   "metadata": {},
   "outputs": [],
   "source": []
  },
  {
   "cell_type": "code",
   "execution_count": null,
   "id": "fdc536ab-2d6d-4ab8-8c2c-cd94d3749334",
   "metadata": {},
   "outputs": [],
   "source": [
    "bit_ges_no16 = np.log2(ges)\n",
    "bit_ges_no16"
   ]
  },
  {
   "cell_type": "code",
   "execution_count": 49,
   "id": "5d2562e2-bee4-42cf-a540-f946f208428d",
   "metadata": {},
   "outputs": [
    {
     "data": {
      "text/plain": [
       "(10, 100)"
      ]
     },
     "execution_count": 49,
     "metadata": {},
     "output_type": "execute_result"
    }
   ],
   "source": [
    "bit_ges_no16.shape"
   ]
  },
  {
   "cell_type": "code",
   "execution_count": 50,
   "id": "cab1169f-7c7d-4aab-ae1a-56a1096cd84c",
   "metadata": {},
   "outputs": [
    {
     "data": {
      "text/plain": [
       "(100,)"
      ]
     },
     "execution_count": 50,
     "metadata": {},
     "output_type": "execute_result"
    }
   ],
   "source": [
    "avg_bit_ges_no16 = np.mean(bit_ges, axis=0)\n",
    "avg_bit_ges_no16.shape"
   ]
  },
  {
   "cell_type": "code",
   "execution_count": null,
   "id": "98a46db9-15a3-4c09-a042-be0a59ba063a",
   "metadata": {},
   "outputs": [],
   "source": []
  }
 ],
 "metadata": {
  "kernelspec": {
   "display_name": "mdm32_env",
   "language": "python",
   "name": "mdm32_env"
  },
  "language_info": {
   "codemirror_mode": {
    "name": "ipython",
    "version": 3
   },
   "file_extension": ".py",
   "mimetype": "text/x-python",
   "name": "python",
   "nbconvert_exporter": "python",
   "pygments_lexer": "ipython3",
   "version": "3.8.10"
  }
 },
 "nbformat": 4,
 "nbformat_minor": 5
}
