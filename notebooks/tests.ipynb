{
 "cells": [
  {
   "cell_type": "code",
   "execution_count": 1,
   "id": "ee8b2161-d036-4c62-9a85-9629c5852103",
   "metadata": {},
   "outputs": [],
   "source": [
    "import trsfile"
   ]
  },
  {
   "cell_type": "code",
   "execution_count": 3,
   "id": "7a7eae0a-7ce3-43f1-9752-d46ced715189",
   "metadata": {},
   "outputs": [
    {
     "name": "stdout",
     "output_type": "stream",
     "text": [
      "[-24 -30 -36 ... -52 -51 -50]\n"
     ]
    }
   ],
   "source": [
    "with trsfile.open('/prj/side_channel/PinataTraces/CURR/tmp_traces.trs', 'r') as tr_set:\n",
    "    print(tr_set[0].samples)"
   ]
  },
  {
   "cell_type": "code",
   "execution_count": null,
   "id": "1db19b41-b849-4de5-8cba-7ea9e523ad97",
   "metadata": {},
   "outputs": [],
   "source": []
  }
 ],
 "metadata": {
  "kernelspec": {
   "display_name": "dlsca_env",
   "language": "python",
   "name": "dlsca_env"
  },
  "language_info": {
   "codemirror_mode": {
    "name": "ipython",
    "version": 3
   },
   "file_extension": ".py",
   "mimetype": "text/x-python",
   "name": "python",
   "nbconvert_exporter": "python",
   "pygments_lexer": "ipython3",
   "version": "3.8.10"
  }
 },
 "nbformat": 4,
 "nbformat_minor": 5
}
