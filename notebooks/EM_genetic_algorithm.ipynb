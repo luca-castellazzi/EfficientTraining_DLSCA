{
 "cells": [
  {
   "cell_type": "code",
   "execution_count": 1,
   "id": "b7beb8ec-7ead-4e92-84be-6b6042c3e322",
   "metadata": {},
   "outputs": [],
   "source": [
    "# Basics\n",
    "import numpy as np\n",
    "import matplotlib.pyplot as plt\n",
    "from tqdm import tqdm\n",
    "\n",
    "# TensorFlow/Keras (Keras layers below)\n",
    "from tensorflow.keras.utils import set_random_seed, to_categorical\n",
    "from tensorflow import keras\n",
    "from keras.models import load_model\n",
    "# set_random_seed(1234) # set the seeds for Python, NumPy, and TensorFlow in order to reproduce the results\n",
    "\n",
    "# Custom\n",
    "import sys\n",
    "sys.path.insert(0, '../src/utils')\n",
    "from trace_handler import TraceHandler\n",
    "sys.path.insert(0, '../src/modeling')\n",
    "from modeling_helpers import create_callbacks\n",
    "from genetic_tuner import GeneticTuner\n",
    "\n",
    "\n",
    "# Suppress TensorFlow messages\n",
    "import os\n",
    "os.environ['TF_CPP_MIN_LOG_LEVEL'] = '1' # 1 for INFO, 2 for INFO & WARNINGs, 3 for INFO & WARNINGs & ERRORs"
   ]
  },
  {
   "cell_type": "code",
   "execution_count": 2,
   "id": "9cd9523e-0256-4a59-9fcd-0d332183f05d",
   "metadata": {},
   "outputs": [
    {
     "name": "stderr",
     "output_type": "stream",
     "text": [
      "Labeling traces: 100%|██████████| 50000/50000 [00:02<00:00, 24063.58it/s]\n"
     ]
    }
   ],
   "source": [
    "path = '/prj/side_channel/PinataTraces/CURR/D1-K1_50k_500MHz + Resampled at 168MHz.trs'\n",
    "\n",
    "EM = True ##################\n",
    "if EM: ##################\n",
    "    path = '/prj/side_channel/PinataTraces/EM/EM02_D2-K1_50kTraces_500MHz + Resampled.trs' ##################\n",
    "\n",
    "train_th = TraceHandler(path)    \n",
    "    \n",
    "BYTE_IDX = 0\n",
    "N_CLASSES = 256\n",
    "VAL_PERC = 0.1\n",
    "\n",
    "x_train_tot = train_th.get_traces()\n",
    "y_train_tot = train_th.get_specific_labels(BYTE_IDX)\n",
    "y_train_tot = to_categorical(y_train_tot, N_CLASSES)\n",
    "\n",
    "x_train, x_val, y_train, y_val = train_th.generate_train_val(BYTE_IDX, val_perc=VAL_PERC)\n",
    "y_train = to_categorical(y_train, N_CLASSES)\n",
    "y_val = to_categorical(y_val, N_CLASSES)\n",
    "\n",
    "if EM: ##################\n",
    "    x_test = x_val ##################\n",
    "    y_test = y_val ##################\n",
    "    \n",
    "    x_val = x_train[-5000:] ##################\n",
    "    y_val = y_train[-5000:] ##################"
   ]
  },
  {
   "cell_type": "code",
   "execution_count": 3,
   "id": "80738193-c727-4d28-a9e3-285104b0e7cd",
   "metadata": {},
   "outputs": [],
   "source": [
    "from tensorflow.keras.optimizers import SGD, Adam, RMSprop\n",
    "\n",
    "HP_CHOICES = {#'kernel_initializer': ['random_normal', 'random_uniform', \n",
    "              #                       'truncated_normal', \n",
    "              #                       'zeros', 'ones', \n",
    "              #                       'glorot_normal', 'glorot_uniform',\n",
    "              #                       'he_normal', 'he_uniform',\n",
    "              #                       'identity', 'orthogonal', 'constant', 'variance_scaling'],\n",
    "              'kernel_initializer': ['random_normal', 'random_uniform', 'truncated_normal', 'he_normal', 'he_uniform'],  \n",
    "              'activation':         ['relu', 'tanh'],\n",
    "              'hidden_layers':      [1, 2, 3, 4, 5],\n",
    "              'hidden_neurons':     [100, 200, 300, 400, 500],\n",
    "              'dropout_rate':       [0.0, 0.2, 0.4],\n",
    "              'optimizer':          [SGD, Adam, RMSprop],\n",
    "              'learning_rate':      [1e-3, 1e-4, 1e-5],\n",
    "              'batch_size':         [50, 100, 200, 500]}    "
   ]
  },
  {
   "cell_type": "code",
   "execution_count": null,
   "id": "c13db7fe-e678-41e3-86c6-b385e6e59919",
   "metadata": {},
   "outputs": [
    {
     "name": "stdout",
     "output_type": "stream",
     "text": [
      "\n",
      "-------------------- Generation 1/2 --------------------\n",
      "Training individual 1/10...\n",
      "Training individual 2/10...\n",
      "Training individual 3/10...\n",
      "Training individual 4/10...\n",
      "Training individual 5/10...\n",
      "Training individual 6/10...\n",
      "Training individual 7/10...\n",
      "Training individual 8/10...\n",
      "Training individual 9/10...\n",
      "Training individual 10/10...\n",
      "- Generation Results: [0.9865999817848206, 0.6747999787330627, 0.4050000011920929, 0.20479999482631683, 0.12240000069141388, 0.006599999964237213, 0.006200000178068876, 0.00559999980032444, 0.00559999980032444, 0.003800000064074993]\n",
      "\n",
      "-------------------- Generation 2/2 --------------------\n",
      "Training individual 1/10...\n",
      "Training individual 2/10...\n",
      "Training individual 3/10...\n",
      "Training individual 4/10...\n",
      "Training individual 5/10...\n",
      "Training individual 6/10...\n"
     ]
    }
   ],
   "source": [
    "GENERATIONS = 2\n",
    "\n",
    "gt = GeneticTuner(hp_choices=HP_CHOICES, pop_size=10, selection_perc=0.3)\n",
    "population = gt.populate()\n",
    "\n",
    "for i in range(GENERATIONS):\n",
    "    print()\n",
    "    print(f'-------------------- Generation {i+1}/{GENERATIONS} --------------------')\n",
    "    \n",
    "    evaluation = gt.evaluate(population, x_train, y_train, x_val, y_val) # list of tuple Network-val_acc\n",
    "    \n",
    "    parents = gt.select(evaluation) # list of Network objects\n",
    "    \n",
    "    if i != GENERATIONS - 1:\n",
    "        population = gt.evolve(parents) # list of Network objects\n",
    "    \n",
    "    print(f'- Generation Results: {[ev[1] for ev in evaluation]}')"
   ]
  },
  {
   "cell_type": "code",
   "execution_count": null,
   "id": "79d8a640-5852-4853-a847-fa81b72c0d77",
   "metadata": {},
   "outputs": [],
   "source": [
    "# from datetime import datetime\n",
    "\n",
    "best_individual, best_val_acc = evaluation[0]\n",
    "\n",
    "# now = datetime.now()\n",
    "# BEST_MODEL_PATH = '../saved_models/' + now.strftime('%m%d%Y_%H%M')\n",
    "# best_individual.save_model(BEST_MODEL_PATH)\n",
    "\n",
    "# print(f'Best val_acc: {best_val_acc}')"
   ]
  },
  {
   "cell_type": "code",
   "execution_count": null,
   "id": "d867aa06-9014-410e-91b6-a732a17313bc",
   "metadata": {},
   "outputs": [],
   "source": [
    "if not EM:\n",
    "    test_th = TraceHandler('/prj/side_channel/PinataTraces/CURR/D1-K2_50k_500MHz + Resampled at 168MHz.trs')\n",
    "\n",
    "    x_test, y_test = test_th.generate_test(BYTE_IDX) \n",
    "    y_test = to_categorical(y_test, N_CLASSES)\n",
    "\n",
    "    test_plaintexts = test_th.get_plaintexts()\n",
    "    true_key_byte = test_th.get_key()[BYTE_IDX]\n",
    "    \n",
    "# test_th = TraceHandler('/prj/side_channel/PinataTraces/CURR/D1-K2_50k_500MHz + Resampled at 168MHz.trs')\n",
    "\n",
    "# x_test, y_test = test_th.generate_test(BYTE_IDX) \n",
    "# y_test = to_categorical(y_test, N_CLASSES)\n",
    "\n",
    "# test_plaintexts = test_th.get_plaintexts()\n",
    "# true_key_byte = test_th.get_key()[BYTE_IDX]"
   ]
  },
  {
   "cell_type": "code",
   "execution_count": null,
   "id": "8afc4b00-b8a4-412f-8e4d-a41f50b7408d",
   "metadata": {},
   "outputs": [],
   "source": [
    "from tensorflow import keras\n",
    "# from keras.models import load_model\n",
    "\n",
    "# print('Loading the best model...')\n",
    "# best_model = load_model(BEST_MODEL_PATH)\n",
    "\n",
    "best_individual.final_train(x_train_tot, y_train_tot)"
   ]
  },
  {
   "cell_type": "code",
   "execution_count": null,
   "id": "0b0ed213-27e3-4171-a277-785b5619c45f",
   "metadata": {},
   "outputs": [],
   "source": [
    "if EM:\n",
    "    test_plaintexts = train_th.get_plaintexts()[-5000:]\n",
    "    true_key_byte = train_th.get_key()[BYTE_IDX]\n",
    "\n",
    "best_individual.OLD_guessing_entropy(x_test, test_plaintexts, true_key_byte, BYTE_IDX)"
   ]
  },
  {
   "cell_type": "code",
   "execution_count": null,
   "id": "a4cef0c6-b52f-4860-8097-a618fb82a6f3",
   "metadata": {},
   "outputs": [],
   "source": [
    "for hp in HP_CHOICES:\n",
    "    print(f'{hp}: {best_individual.get_hp(hp)}')"
   ]
  },
  {
   "cell_type": "code",
   "execution_count": null,
   "id": "1979ef7f-1f43-494d-97b7-c351921e256d",
   "metadata": {},
   "outputs": [],
   "source": []
  }
 ],
 "metadata": {
  "kernelspec": {
   "display_name": "mdm32_env",
   "language": "python",
   "name": "mdm32_env"
  },
  "language_info": {
   "codemirror_mode": {
    "name": "ipython",
    "version": 3
   },
   "file_extension": ".py",
   "mimetype": "text/x-python",
   "name": "python",
   "nbconvert_exporter": "python",
   "pygments_lexer": "ipython3",
   "version": "3.8.10"
  }
 },
 "nbformat": 4,
 "nbformat_minor": 5
}
