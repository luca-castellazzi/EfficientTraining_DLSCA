{
 "cells": [
  {
   "cell_type": "markdown",
   "id": "a14f209e-3f84-487f-8ebc-5fb54f64a3b4",
   "metadata": {
    "tags": []
   },
   "source": [
    "# *Mind the Portability* MLP Attack Reproduction"
   ]
  },
  {
   "cell_type": "markdown",
   "id": "44202976-51cf-4b50-9390-40b91ede48a5",
   "metadata": {},
   "source": [
    "This notebook replicated the \"Different-Device, Different-Key\" Attack shown in the paper \"Mind the Portability\".\n",
    "\n",
    "Parameters (also hyperparameters) and network structure are taken from the paper.\\\n",
    "Also the number of experiment for GE computation is the one used in the paper."
   ]
  },
  {
   "cell_type": "code",
   "execution_count": 3,
   "id": "7ecd953b-d94c-4c64-82cd-a194e77b03e7",
   "metadata": {},
   "outputs": [],
   "source": [
    "# Basic\n",
    "import random\n",
    "import numpy as np\n",
    "from tqdm import tqdm\n",
    "import matplotlib.pyplot as plt\n",
    "from tensorflow.keras import Sequential\n",
    "from tensorflow.keras.layers import Dense, Dropout\n",
    "from tensorflow.keras.optimizers import RMSprop\n",
    "\n",
    "# Custom\n",
    "import sys\n",
    "sys.path.insert(0, '../src/utils')\n",
    "from data_loader import DataLoader, SplitDataLoader\n",
    "import aes\n",
    "import constants\n",
    "import results\n",
    "\n",
    "\n",
    "# Suppress TensorFlow messages\n",
    "import os\n",
    "os.environ['TF_CPP_MIN_LOG_LEVEL'] = '1' # 1 for INFO, 2 for INFO & WARNINGs, 3 for INFO & WARNINGs & ERRORs"
   ]
  },
  {
   "cell_type": "code",
   "execution_count": 4,
   "id": "8bf1797b-fcbf-46b3-a963-aaf5a68ea11a",
   "metadata": {},
   "outputs": [],
   "source": [
    "# \"Mind the Portability\" fixed papameters\n",
    "EPOCHS = 50\n",
    "GE_EXPS = 100\n",
    "BATCH_SIZE = 256\n",
    "LAYERS = 4\n",
    "NEURONS = 500\n",
    "TARGET = 'SBOX_OUT'\n",
    "METRIC = 'acc'\n",
    "\n",
    "# Custom parameters\n",
    "BYTE_IDX = 5\n",
    "N_TOT_TRACES = 50000\n",
    "TRAIN_CONFIG = ['D1-K5']\n",
    "TEST_CONFIG = ['D3-K0']\n",
    "\n",
    "MTP_RES_ROOT = '/prj/side_channel/Pinata/results/MTP_Reproduction/mlp_attack'\n",
    "MTP_GE_PATH = MTP_RES_ROOT + f'/ge.npy'\n",
    "MTP_GE_PLOT_PATH = MTP_RES_ROOT + f'/ge.png'"
   ]
  },
  {
   "cell_type": "code",
   "execution_count": 5,
   "id": "919adef7-4c4c-4f40-80d2-090e64a8d390",
   "metadata": {},
   "outputs": [],
   "source": [
    "def build_model(layers, neurons):\n",
    "\n",
    "    # The total amount of layers of the network is (layers + 1)\n",
    "\n",
    "    model = Sequential()\n",
    "\n",
    "    model.add(\n",
    "        Dense(neurons, activation='relu', input_shape=(constants.TRACE_LEN,))\n",
    "    )\n",
    "\n",
    "    for _ in range(layers - 1):\n",
    "        model.add(Dropout(0.2))\n",
    "        model.add(\n",
    "            Dense(neurons, activation='relu')\n",
    "        )\n",
    "\n",
    "    model.add(\n",
    "        Dense(256, activation='softmax')\n",
    "    )\n",
    "\n",
    "    model.compile(\n",
    "        optimizer=RMSprop(learning_rate=0.001),\n",
    "        loss='categorical_crossentropy',\n",
    "        metrics=['accuracy']\n",
    "    )\n",
    "\n",
    "    return model\n"
   ]
  },
  {
   "cell_type": "code",
   "execution_count": 6,
   "id": "577667c8-f5c9-4efd-9e83-f38c3e79d05f",
   "metadata": {},
   "outputs": [],
   "source": [
    "def plot_ge(ge, output_path):\n",
    "\n",
    "    \"\"\"\n",
    "    Plots the provided GE vector.\n",
    "    \n",
    "    Parameters:\n",
    "        - ge (np.array):\n",
    "            GE vector to plot.\n",
    "        - output_path (str):\n",
    "            Absolute path to the PNG file containing the plot.\n",
    "    \"\"\"\n",
    "    \n",
    "    ge = ge[:15]\n",
    "    \n",
    "    # Plot GE\n",
    "    f, ax = plt.subplots(figsize=(15,8))\n",
    "    \n",
    "    ax.plot(ge, marker='o', color='b')\n",
    "        \n",
    "    ax.set_title(f'Byte: {BYTE_IDX}  |  Train: {TRAIN_CONFIG[0]}  |  Test: {TEST_CONFIG[0]}')\n",
    "    ax.set_xticks(range(len(ge)), labels=range(1, len(ge)+1)) \n",
    "    ax.set_xlabel('Number of traces')\n",
    "    ax.set_ylabel('GE')\n",
    "    ax.grid()\n",
    "\n",
    "    f.savefig(\n",
    "        output_path, \n",
    "        bbox_inches='tight', \n",
    "        dpi=600\n",
    "    )\n",
    "    \n",
    "    plt.show()\n",
    "    \n",
    "    plt.close(f)"
   ]
  },
  {
   "cell_type": "code",
   "execution_count": 7,
   "id": "dd368059-32e0-4df7-b3a1-2e023675647c",
   "metadata": {},
   "outputs": [],
   "source": [
    "train_dl = SplitDataLoader(\n",
    "    TRAIN_CONFIG,\n",
    "    n_tot_traces=N_TOT_TRACES,\n",
    "    train_size=0.5,\n",
    "    target=TARGET,\n",
    "    byte_idx=BYTE_IDX\n",
    ")\n",
    "train_data, val_data = train_dl.load()\n",
    "x_train, y_train, _, _ = train_data\n",
    "x_val, y_val, _, _ = val_data\n",
    "\n",
    "test_dl = DataLoader(\n",
    "    TEST_CONFIG,\n",
    "    n_tot_traces=5000,\n",
    "    target=TARGET,\n",
    "    byte_idx=BYTE_IDX\n",
    ")\n",
    "x_test, y_test, pbs_test, tkb_test = test_dl.load()"
   ]
  },
  {
   "cell_type": "code",
   "execution_count": 11,
   "id": "569a7180-57c8-4b24-99ca-755ebbb6bf57",
   "metadata": {},
   "outputs": [
    {
     "name": "stdout",
     "output_type": "stream",
     "text": [
      "Epoch 1/50\n",
      "98/98 [==============================] - 1s 6ms/step - loss: 5.3622 - accuracy: 0.0102 - val_loss: 5.0181 - val_accuracy: 0.0193\n",
      "Epoch 2/50\n",
      "98/98 [==============================] - 0s 4ms/step - loss: 4.9348 - accuracy: 0.0245 - val_loss: 4.8593 - val_accuracy: 0.0230\n",
      "Epoch 3/50\n",
      "98/98 [==============================] - 0s 4ms/step - loss: 4.7961 - accuracy: 0.0309 - val_loss: 4.7930 - val_accuracy: 0.0259\n",
      "Epoch 4/50\n",
      "98/98 [==============================] - 0s 4ms/step - loss: 4.7172 - accuracy: 0.0342 - val_loss: 4.7845 - val_accuracy: 0.0286\n",
      "Epoch 5/50\n",
      "98/98 [==============================] - 0s 4ms/step - loss: 4.6363 - accuracy: 0.0411 - val_loss: 4.7245 - val_accuracy: 0.0317\n",
      "Epoch 6/50\n",
      "98/98 [==============================] - 0s 4ms/step - loss: 4.5823 - accuracy: 0.0450 - val_loss: 4.7134 - val_accuracy: 0.0341\n",
      "Epoch 7/50\n",
      "98/98 [==============================] - 0s 4ms/step - loss: 4.5303 - accuracy: 0.0490 - val_loss: 4.7049 - val_accuracy: 0.0298\n",
      "Epoch 8/50\n",
      "98/98 [==============================] - 0s 4ms/step - loss: 4.4745 - accuracy: 0.0566 - val_loss: 4.6887 - val_accuracy: 0.0347\n",
      "Epoch 9/50\n",
      "98/98 [==============================] - 0s 4ms/step - loss: 4.4117 - accuracy: 0.0590 - val_loss: 4.6846 - val_accuracy: 0.0353\n",
      "Epoch 10/50\n",
      "98/98 [==============================] - 0s 4ms/step - loss: 4.3541 - accuracy: 0.0656 - val_loss: 4.7041 - val_accuracy: 0.0342\n",
      "Epoch 11/50\n",
      "98/98 [==============================] - 0s 4ms/step - loss: 4.2979 - accuracy: 0.0727 - val_loss: 4.6983 - val_accuracy: 0.0360\n",
      "Epoch 12/50\n",
      "98/98 [==============================] - 0s 4ms/step - loss: 4.2393 - accuracy: 0.0796 - val_loss: 4.6987 - val_accuracy: 0.0359\n",
      "Epoch 13/50\n",
      "98/98 [==============================] - 0s 4ms/step - loss: 4.1726 - accuracy: 0.0860 - val_loss: 4.7641 - val_accuracy: 0.0354\n",
      "Epoch 14/50\n",
      "98/98 [==============================] - 0s 4ms/step - loss: 4.1226 - accuracy: 0.0949 - val_loss: 4.7407 - val_accuracy: 0.0350\n",
      "Epoch 15/50\n",
      "98/98 [==============================] - 0s 4ms/step - loss: 4.0536 - accuracy: 0.1021 - val_loss: 4.7859 - val_accuracy: 0.0348\n",
      "Epoch 16/50\n",
      "98/98 [==============================] - 0s 4ms/step - loss: 3.9931 - accuracy: 0.1112 - val_loss: 4.8191 - val_accuracy: 0.0336\n",
      "Epoch 17/50\n",
      "98/98 [==============================] - 0s 4ms/step - loss: 3.9269 - accuracy: 0.1220 - val_loss: 4.8323 - val_accuracy: 0.0347\n",
      "Epoch 18/50\n",
      "98/98 [==============================] - 0s 4ms/step - loss: 3.8594 - accuracy: 0.1294 - val_loss: 4.8543 - val_accuracy: 0.0356\n",
      "Epoch 19/50\n",
      "98/98 [==============================] - 0s 4ms/step - loss: 3.7976 - accuracy: 0.1400 - val_loss: 4.8825 - val_accuracy: 0.0349\n",
      "Epoch 20/50\n",
      "98/98 [==============================] - 0s 4ms/step - loss: 3.7359 - accuracy: 0.1479 - val_loss: 4.9419 - val_accuracy: 0.0337\n",
      "Epoch 21/50\n",
      "98/98 [==============================] - 0s 4ms/step - loss: 3.6707 - accuracy: 0.1566 - val_loss: 4.9935 - val_accuracy: 0.0310\n",
      "Epoch 22/50\n",
      "98/98 [==============================] - 0s 4ms/step - loss: 3.6054 - accuracy: 0.1668 - val_loss: 4.9987 - val_accuracy: 0.0352\n",
      "Epoch 23/50\n",
      "98/98 [==============================] - 0s 4ms/step - loss: 3.5532 - accuracy: 0.1765 - val_loss: 5.0379 - val_accuracy: 0.0322\n",
      "Epoch 24/50\n",
      "98/98 [==============================] - 0s 4ms/step - loss: 3.4866 - accuracy: 0.1870 - val_loss: 5.0957 - val_accuracy: 0.0331\n",
      "Epoch 25/50\n",
      "98/98 [==============================] - 0s 4ms/step - loss: 3.4304 - accuracy: 0.2021 - val_loss: 5.1335 - val_accuracy: 0.0326\n",
      "Epoch 26/50\n",
      "98/98 [==============================] - 0s 4ms/step - loss: 3.3701 - accuracy: 0.2075 - val_loss: 5.2319 - val_accuracy: 0.0316\n",
      "Epoch 27/50\n",
      "98/98 [==============================] - 0s 4ms/step - loss: 3.3138 - accuracy: 0.2131 - val_loss: 5.2225 - val_accuracy: 0.0322\n",
      "Epoch 28/50\n",
      "98/98 [==============================] - 0s 4ms/step - loss: 3.2685 - accuracy: 0.2249 - val_loss: 5.3205 - val_accuracy: 0.0317\n",
      "Epoch 29/50\n",
      "98/98 [==============================] - 0s 4ms/step - loss: 3.2171 - accuracy: 0.2338 - val_loss: 5.3789 - val_accuracy: 0.0316\n",
      "Epoch 30/50\n",
      "98/98 [==============================] - 0s 4ms/step - loss: 3.1650 - accuracy: 0.2442 - val_loss: 5.3422 - val_accuracy: 0.0342\n",
      "Epoch 31/50\n",
      "98/98 [==============================] - 0s 4ms/step - loss: 3.1172 - accuracy: 0.2514 - val_loss: 5.4222 - val_accuracy: 0.0307\n",
      "Epoch 32/50\n",
      "98/98 [==============================] - 0s 4ms/step - loss: 3.0794 - accuracy: 0.2572 - val_loss: 5.4459 - val_accuracy: 0.0313\n",
      "Epoch 33/50\n",
      "98/98 [==============================] - 0s 4ms/step - loss: 3.0242 - accuracy: 0.2684 - val_loss: 5.5306 - val_accuracy: 0.0307\n",
      "Epoch 34/50\n",
      "98/98 [==============================] - 0s 4ms/step - loss: 2.9865 - accuracy: 0.2754 - val_loss: 5.5688 - val_accuracy: 0.0310\n",
      "Epoch 35/50\n",
      "98/98 [==============================] - 0s 4ms/step - loss: 2.9338 - accuracy: 0.2856 - val_loss: 5.5775 - val_accuracy: 0.0294\n",
      "Epoch 36/50\n",
      "98/98 [==============================] - 0s 4ms/step - loss: 2.9095 - accuracy: 0.2906 - val_loss: 5.6849 - val_accuracy: 0.0309\n",
      "Epoch 37/50\n",
      "98/98 [==============================] - 0s 4ms/step - loss: 2.8542 - accuracy: 0.3010 - val_loss: 5.7106 - val_accuracy: 0.0297\n",
      "Epoch 38/50\n",
      "98/98 [==============================] - 0s 4ms/step - loss: 2.8167 - accuracy: 0.3123 - val_loss: 5.7371 - val_accuracy: 0.0297\n",
      "Epoch 39/50\n",
      "98/98 [==============================] - 0s 4ms/step - loss: 2.7571 - accuracy: 0.3209 - val_loss: 5.7938 - val_accuracy: 0.0310\n",
      "Epoch 40/50\n",
      "98/98 [==============================] - 0s 4ms/step - loss: 2.7615 - accuracy: 0.3259 - val_loss: 5.8223 - val_accuracy: 0.0294\n",
      "Epoch 41/50\n",
      "98/98 [==============================] - 0s 4ms/step - loss: 2.7324 - accuracy: 0.3246 - val_loss: 5.9080 - val_accuracy: 0.0308\n",
      "Epoch 42/50\n",
      "98/98 [==============================] - 0s 4ms/step - loss: 2.6776 - accuracy: 0.3412 - val_loss: 5.9897 - val_accuracy: 0.0297\n",
      "Epoch 43/50\n",
      "98/98 [==============================] - 0s 4ms/step - loss: 2.6594 - accuracy: 0.3423 - val_loss: 5.8859 - val_accuracy: 0.0311\n",
      "Epoch 44/50\n",
      "98/98 [==============================] - 0s 4ms/step - loss: 2.6295 - accuracy: 0.3510 - val_loss: 6.0152 - val_accuracy: 0.0289\n",
      "Epoch 45/50\n",
      "98/98 [==============================] - 0s 4ms/step - loss: 2.6083 - accuracy: 0.3558 - val_loss: 5.9704 - val_accuracy: 0.0277\n",
      "Epoch 46/50\n",
      "98/98 [==============================] - 0s 4ms/step - loss: 2.5696 - accuracy: 0.3612 - val_loss: 6.1329 - val_accuracy: 0.0282\n",
      "Epoch 47/50\n",
      "98/98 [==============================] - 0s 4ms/step - loss: 2.5431 - accuracy: 0.3693 - val_loss: 6.1369 - val_accuracy: 0.0287\n",
      "Epoch 48/50\n",
      "98/98 [==============================] - 0s 4ms/step - loss: 2.5337 - accuracy: 0.3681 - val_loss: 6.1824 - val_accuracy: 0.0290\n",
      "Epoch 49/50\n",
      "98/98 [==============================] - 0s 4ms/step - loss: 2.5059 - accuracy: 0.3771 - val_loss: 6.1662 - val_accuracy: 0.0291\n",
      "Epoch 50/50\n",
      "98/98 [==============================] - 0s 4ms/step - loss: 2.4758 - accuracy: 0.3846 - val_loss: 6.2643 - val_accuracy: 0.0282\n"
     ]
    },
    {
     "data": {
      "text/plain": [
       "<keras.callbacks.History at 0x7efb8a75a4c0>"
      ]
     },
     "execution_count": 11,
     "metadata": {},
     "output_type": "execute_result"
    }
   ],
   "source": [
    "final_model = build_model(LAYERS, NEURONS)\n",
    "final_model.fit(\n",
    "    x_train, \n",
    "    y_train,\n",
    "    validation_data=(x_val, y_val),\n",
    "    epochs=EPOCHS,\n",
    "    batch_size=BATCH_SIZE,\n",
    "    verbose=1\n",
    ")"
   ]
  },
  {
   "cell_type": "code",
   "execution_count": 12,
   "id": "d7dfc04b-f5e7-4531-957a-ea0096156d40",
   "metadata": {},
   "outputs": [],
   "source": [
    "preds = final_model.predict(x_test)\n",
    "\n",
    "ge = results.ge(\n",
    "    preds=preds, \n",
    "    pltxt_bytes=pbs_test, \n",
    "    true_key_byte=tkb_test, \n",
    "    n_exp=GE_EXPS, \n",
    "    target=TARGET,\n",
    "    n_traces=100 # Default: 500\n",
    ")\n",
    "\n",
    "np.save(MTP_GE_PATH, ge)"
   ]
  },
  {
   "cell_type": "code",
   "execution_count": 13,
   "id": "df9ad800-94c7-436f-9eef-d969947f4a53",
   "metadata": {},
   "outputs": [
    {
     "data": {
      "image/png": "[encoded data removed]",
      "text/plain": [
       "<Figure size 1080x576 with 1 Axes>"
      ]
     },
     "metadata": {
      "needs_background": "light"
     },
     "output_type": "display_data"
    }
   ],
   "source": [
    "plot_ge(ge, MTP_GE_PLOT_PATH)"
   ]
  },
  {
   "cell_type": "code",
   "execution_count": null,
   "id": "5b8c4749-bbc0-47c5-9d6c-22eb7624d7ff",
   "metadata": {},
   "outputs": [],
   "source": []
  },
  {
   "cell_type": "code",
   "execution_count": null,
   "id": "97f969a6-6776-4afa-aed0-aaa882fdcb0b",
   "metadata": {},
   "outputs": [],
   "source": [
    "# maybe regularization helps in portability scenarios\n",
    "# See what the authors say about it in paper\n",
    "# Try different regularizations techniques"
   ]
  }
 ],
 "metadata": {
  "kernelspec": {
   "display_name": "mdm32_env",
   "language": "python",
   "name": "mdm32_env"
  },
  "language_info": {
   "codemirror_mode": {
    "name": "ipython",
    "version": 3
   },
   "file_extension": ".py",
   "mimetype": "text/x-python",
   "name": "python",
   "nbconvert_exporter": "python",
   "pygments_lexer": "ipython3",
   "version": "3.8.10"
  }
 },
 "nbformat": 4,
 "nbformat_minor": 5
}
