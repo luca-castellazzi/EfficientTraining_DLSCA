{
 "cells": [
  {
   "cell_type": "code",
   "execution_count": 1,
   "id": "0a52f914-a885-4586-a174-07733dbc9442",
   "metadata": {},
   "outputs": [],
   "source": [
    "import numpy as np"
   ]
  },
  {
   "cell_type": "code",
   "execution_count": 2,
   "id": "f76d6395-c809-416b-adff-dfaa6f798b8a",
   "metadata": {},
   "outputs": [],
   "source": [
    "a = np.array([1, 2, 3, 4, 5, 6, 7, 8, 9])\n",
    "b = 5"
   ]
  },
  {
   "cell_type": "code",
   "execution_count": 5,
   "id": "c66dca6f-92bc-40da-9391-f255bb708905",
   "metadata": {},
   "outputs": [
    {
     "data": {
      "text/plain": [
       "array([ 4,  7,  6,  1,  0,  3,  2, 13, 12])"
      ]
     },
     "execution_count": 5,
     "metadata": {},
     "output_type": "execute_result"
    }
   ],
   "source": [
    "c = a ^ b\n",
    "c"
   ]
  },
  {
   "cell_type": "code",
   "execution_count": 7,
   "id": "49430e4c-18be-43e6-9040-951272cb42ea",
   "metadata": {},
   "outputs": [
    {
     "data": {
      "text/plain": [
       "array([1, 2, 3, 4, 5, 6, 7, 8, 9])"
      ]
     },
     "execution_count": 7,
     "metadata": {},
     "output_type": "execute_result"
    }
   ],
   "source": [
    "c ^ b # = a"
   ]
  },
  {
   "cell_type": "code",
   "execution_count": 8,
   "id": "20e21ab5-dd35-410e-a2c9-6cef3668788e",
   "metadata": {},
   "outputs": [
    {
     "data": {
      "text/plain": [
       "array([5, 5, 5, 5, 5, 5, 5, 5, 5])"
      ]
     },
     "execution_count": 8,
     "metadata": {},
     "output_type": "execute_result"
    }
   ],
   "source": [
    "c ^ a # = b"
   ]
  },
  {
   "cell_type": "code",
   "execution_count": 9,
   "id": "9ae45126-c0e6-47cc-aa1a-d42f244d98df",
   "metadata": {},
   "outputs": [
    {
     "data": {
      "text/plain": [
       "array([ 4,  7,  6,  1,  0,  3,  2, 13, 12])"
      ]
     },
     "execution_count": 9,
     "metadata": {},
     "output_type": "execute_result"
    }
   ],
   "source": [
    "d = np.array([5, 5, 5, 5, 5, 5, 5, 5, 5])\n",
    "a ^ d"
   ]
  },
  {
   "cell_type": "code",
   "execution_count": 10,
   "id": "a3f98d23-c3bb-47dd-858d-a622a7c0d82c",
   "metadata": {},
   "outputs": [
    {
     "data": {
      "text/plain": [
       "0"
      ]
     },
     "execution_count": 10,
     "metadata": {},
     "output_type": "execute_result"
    }
   ],
   "source": [
    "a[4] ^ b"
   ]
  },
  {
   "cell_type": "code",
   "execution_count": null,
   "id": "193f3f25-4584-4503-a08e-cdf7b0313324",
   "metadata": {},
   "outputs": [],
   "source": []
  }
 ],
 "metadata": {
  "kernelspec": {
   "display_name": "dlsca_env",
   "language": "python",
   "name": "dlsca_env"
  },
  "language_info": {
   "codemirror_mode": {
    "name": "ipython",
    "version": 3
   },
   "file_extension": ".py",
   "mimetype": "text/x-python",
   "name": "python",
   "nbconvert_exporter": "python",
   "pygments_lexer": "ipython3",
   "version": "3.8.10"
  }
 },
 "nbformat": 4,
 "nbformat_minor": 5
}
